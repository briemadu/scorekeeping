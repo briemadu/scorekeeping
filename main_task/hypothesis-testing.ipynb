{
 "cells": [
  {
   "cell_type": "markdown",
   "metadata": {},
   "source": [
    "# Hypothesis testing"
   ]
  },
  {
   "cell_type": "code",
   "execution_count": 1,
   "metadata": {},
   "outputs": [],
   "source": [
    "import matplotlib.pyplot as plt\n",
    "import numpy as np\n",
    "import pandas as pd\n",
    "import json\n",
    "\n",
    "from itertools import product\n",
    "#from nltk.metrics import scores\n",
    "from pathlib import Path\n",
    "from scipy.stats import permutation_test\n",
    "\n",
    "import evaluationaux  as ev\n",
    "\n",
    "%matplotlib inline"
   ]
  },
  {
   "cell_type": "code",
   "execution_count": 2,
   "metadata": {},
   "outputs": [],
   "source": [
    "PATH = '/project/brie/scripts_scorekeeping/'\n",
    "PATH_OUTPUTS = Path(PATH, 'main_task', 'outputs')\n",
    "PROPS = Path(PATH, 'main_task', 'data', 'propositions')"
   ]
  },
  {
   "cell_type": "code",
   "execution_count": 3,
   "metadata": {},
   "outputs": [],
   "source": [
    "BOTS =  ('a', 'q')\n",
    "CONTROL_TASKS =  ('none', 'rand-reps', 'null-reps')\n",
    "TASKS =  ('TFxPS', 'TF', 'PS', 'PxTSFS')\n",
    "BOT_VERSIONS =  ('RL-DIV', 'SL', 'ICCV-RL')"
   ]
  },
  {
   "cell_type": "code",
   "execution_count": 4,
   "metadata": {},
   "outputs": [],
   "source": [
    "with open(Path(PROPS, 'propositions_test.json'), 'r') as f:\n",
    "    props_test = json.load(f)['dialogues']"
   ]
  },
  {
   "cell_type": "markdown",
   "metadata": {},
   "source": [
    "# Results on test set"
   ]
  },
  {
   "cell_type": "markdown",
   "metadata": {},
   "source": [
    "Get all results on test set:"
   ]
  },
  {
   "cell_type": "code",
   "execution_count": 5,
   "metadata": {},
   "outputs": [],
   "source": [
    "split = 'test'"
   ]
  },
  {
   "cell_type": "code",
   "execution_count": 6,
   "metadata": {},
   "outputs": [],
   "source": [
    "test_results = {}\n",
    "test_accs = {}\n",
    "missing = 0  # a few combinations have no experiment (e.g. TF task for the questioner)\n",
    "epoch = 0  # for the test set, the only inference step is saved as 0\n",
    "\n",
    "# embs='pmbv2', model='Deeper' as default on ev.get_data\n",
    "\n",
    "for (bot, control_task, task, version) in product(BOTS, CONTROL_TASKS, TASKS, BOT_VERSIONS):\n",
    "    try:\n",
    "        _, outputs = ev.get_data(bot, task, control_task, epoch=epoch, path=PATH_OUTPUTS,\n",
    "                                            split=split, bot_version=version)\n",
    "        test_results[(bot, task, control_task, version)] = outputs\n",
    "        test_accs[(bot, task, control_task, version)] = 100*np.mean([pred==gold for (pred, gold) in outputs.values()]) \n",
    "    except FileNotFoundError:\n",
    "        test_results[(bot, task, control_task, version)] = {}\n",
    "        test_accs[(bot, task, control_task, version)] = '-'\n",
    "        assert bot == 'q' and task in ('TFxPS', 'TF')\n",
    "        missing += 1\n",
    "\n",
    "assert len(test_results) ==  72                    \n",
    "assert len(test_accs) == 72\n",
    "assert missing == 18"
   ]
  },
  {
   "cell_type": "markdown",
   "metadata": {},
   "source": [
    "Table with overall acc for RL-DIV: "
   ]
  },
  {
   "cell_type": "code",
   "execution_count": 7,
   "metadata": {},
   "outputs": [
    {
     "data": {
      "text/html": [
       "<style type=\"text/css\">\n",
       "</style>\n",
       "<table id=\"T_e1a03\">\n",
       "  <caption>Performance on test set, all turns, RL_DIV</caption>\n",
       "  <thead>\n",
       "    <tr>\n",
       "      <th class=\"blank level0\" >&nbsp;</th>\n",
       "      <th id=\"T_e1a03_level0_col0\" class=\"col_heading level0 col0\" >TFxPS</th>\n",
       "      <th id=\"T_e1a03_level0_col1\" class=\"col_heading level0 col1\" >TF</th>\n",
       "      <th id=\"T_e1a03_level0_col2\" class=\"col_heading level0 col2\" >PS</th>\n",
       "      <th id=\"T_e1a03_level0_col3\" class=\"col_heading level0 col3\" >PxTSFS</th>\n",
       "    </tr>\n",
       "  </thead>\n",
       "  <tbody>\n",
       "    <tr>\n",
       "      <th id=\"T_e1a03_level0_row0\" class=\"row_heading level0 row0\" >a, none</th>\n",
       "      <td id=\"T_e1a03_row0_col0\" class=\"data row0 col0\" >62.047023</td>\n",
       "      <td id=\"T_e1a03_row0_col1\" class=\"data row0 col1\" >71.026139</td>\n",
       "      <td id=\"T_e1a03_row0_col2\" class=\"data row0 col2\" >80.943089</td>\n",
       "      <td id=\"T_e1a03_row0_col3\" class=\"data row0 col3\" >73.064895</td>\n",
       "    </tr>\n",
       "    <tr>\n",
       "      <th id=\"T_e1a03_level0_row1\" class=\"row_heading level0 row1\" >a, rand-reps</th>\n",
       "      <td id=\"T_e1a03_row1_col0\" class=\"data row1 col0\" >35.108714</td>\n",
       "      <td id=\"T_e1a03_row1_col1\" class=\"data row1 col1\" >52.482842</td>\n",
       "      <td id=\"T_e1a03_row1_col2\" class=\"data row1 col2\" >60.353026</td>\n",
       "      <td id=\"T_e1a03_row1_col3\" class=\"data row1 col3\" >47.957719</td>\n",
       "    </tr>\n",
       "    <tr>\n",
       "      <th id=\"T_e1a03_level0_row2\" class=\"row_heading level0 row2\" >a, null-reps</th>\n",
       "      <td id=\"T_e1a03_row2_col0\" class=\"data row2 col0\" >37.660124</td>\n",
       "      <td id=\"T_e1a03_row2_col1\" class=\"data row2 col1\" >50.612620</td>\n",
       "      <td id=\"T_e1a03_row2_col2\" class=\"data row2 col2\" >60.256262</td>\n",
       "      <td id=\"T_e1a03_row2_col3\" class=\"data row2 col3\" >50.643379</td>\n",
       "    </tr>\n",
       "    <tr>\n",
       "      <th id=\"T_e1a03_level0_row3\" class=\"row_heading level0 row3\" >q, none</th>\n",
       "      <td id=\"T_e1a03_row3_col0\" class=\"data row3 col0\" >-</td>\n",
       "      <td id=\"T_e1a03_row3_col1\" class=\"data row3 col1\" >-</td>\n",
       "      <td id=\"T_e1a03_row3_col2\" class=\"data row3 col2\" >82.027030</td>\n",
       "      <td id=\"T_e1a03_row3_col3\" class=\"data row3 col3\" >74.350052</td>\n",
       "    </tr>\n",
       "    <tr>\n",
       "      <th id=\"T_e1a03_level0_row4\" class=\"row_heading level0 row4\" >q, rand-reps</th>\n",
       "      <td id=\"T_e1a03_row4_col0\" class=\"data row4 col0\" >-</td>\n",
       "      <td id=\"T_e1a03_row4_col1\" class=\"data row4 col1\" >-</td>\n",
       "      <td id=\"T_e1a03_row4_col2\" class=\"data row4 col2\" >59.003787</td>\n",
       "      <td id=\"T_e1a03_row4_col3\" class=\"data row4 col3\" >48.801033</td>\n",
       "    </tr>\n",
       "    <tr>\n",
       "      <th id=\"T_e1a03_level0_row5\" class=\"row_heading level0 row5\" >q, null-reps</th>\n",
       "      <td id=\"T_e1a03_row5_col0\" class=\"data row5 col0\" >-</td>\n",
       "      <td id=\"T_e1a03_row5_col1\" class=\"data row5 col1\" >-</td>\n",
       "      <td id=\"T_e1a03_row5_col2\" class=\"data row5 col2\" >60.182889</td>\n",
       "      <td id=\"T_e1a03_row5_col3\" class=\"data row5 col3\" >50.640816</td>\n",
       "    </tr>\n",
       "  </tbody>\n",
       "</table>\n"
      ],
      "text/plain": [
       "<pandas.io.formats.style.Styler at 0x7fa8761cbdf0>"
      ]
     },
     "execution_count": 7,
     "metadata": {},
     "output_type": "execute_result"
    }
   ],
   "source": [
    "df = pd.DataFrame(columns=TASKS)\n",
    "\n",
    "for bot, control_task in product(BOTS, CONTROL_TASKS):\n",
    "    df.loc[f'{bot}, {control_task}'] = [test_accs[bot, t, control_task, 'RL-DIV'] for t in TASKS]\n",
    "df = df.style.set_caption(\"Performance on test set, all turns, RL_DIV\")        \n",
    "df"
   ]
  },
  {
   "cell_type": "markdown",
   "metadata": {},
   "source": [
    "Full table:"
   ]
  },
  {
   "cell_type": "code",
   "execution_count": 8,
   "metadata": {},
   "outputs": [
    {
     "data": {
      "text/html": [
       "<style type=\"text/css\">\n",
       "</style>\n",
       "<table id=\"T_e8207\">\n",
       "  <caption>Performance on test set, all turns</caption>\n",
       "  <thead>\n",
       "    <tr>\n",
       "      <th class=\"blank level0\" >&nbsp;</th>\n",
       "      <th id=\"T_e8207_level0_col0\" class=\"col_heading level0 col0\" >('TFxPS', 'RL-DIV')</th>\n",
       "      <th id=\"T_e8207_level0_col1\" class=\"col_heading level0 col1\" >('TFxPS', 'SL')</th>\n",
       "      <th id=\"T_e8207_level0_col2\" class=\"col_heading level0 col2\" >('TFxPS', 'ICCV-RL')</th>\n",
       "      <th id=\"T_e8207_level0_col3\" class=\"col_heading level0 col3\" >('TF', 'RL-DIV')</th>\n",
       "      <th id=\"T_e8207_level0_col4\" class=\"col_heading level0 col4\" >('TF', 'SL')</th>\n",
       "      <th id=\"T_e8207_level0_col5\" class=\"col_heading level0 col5\" >('TF', 'ICCV-RL')</th>\n",
       "      <th id=\"T_e8207_level0_col6\" class=\"col_heading level0 col6\" >('PS', 'RL-DIV')</th>\n",
       "      <th id=\"T_e8207_level0_col7\" class=\"col_heading level0 col7\" >('PS', 'SL')</th>\n",
       "      <th id=\"T_e8207_level0_col8\" class=\"col_heading level0 col8\" >('PS', 'ICCV-RL')</th>\n",
       "      <th id=\"T_e8207_level0_col9\" class=\"col_heading level0 col9\" >('PxTSFS', 'RL-DIV')</th>\n",
       "      <th id=\"T_e8207_level0_col10\" class=\"col_heading level0 col10\" >('PxTSFS', 'SL')</th>\n",
       "      <th id=\"T_e8207_level0_col11\" class=\"col_heading level0 col11\" >('PxTSFS', 'ICCV-RL')</th>\n",
       "    </tr>\n",
       "  </thead>\n",
       "  <tbody>\n",
       "    <tr>\n",
       "      <th id=\"T_e8207_level0_row0\" class=\"row_heading level0 row0\" >a, none</th>\n",
       "      <td id=\"T_e8207_row0_col0\" class=\"data row0 col0\" >62.047023</td>\n",
       "      <td id=\"T_e8207_row0_col1\" class=\"data row0 col1\" >62.330264</td>\n",
       "      <td id=\"T_e8207_row0_col2\" class=\"data row0 col2\" >61.786852</td>\n",
       "      <td id=\"T_e8207_row0_col3\" class=\"data row0 col3\" >71.026139</td>\n",
       "      <td id=\"T_e8207_row0_col4\" class=\"data row0 col4\" >70.925531</td>\n",
       "      <td id=\"T_e8207_row0_col5\" class=\"data row0 col5\" >70.799931</td>\n",
       "      <td id=\"T_e8207_row0_col6\" class=\"data row0 col6\" >80.943089</td>\n",
       "      <td id=\"T_e8207_row0_col7\" class=\"data row0 col7\" >81.242030</td>\n",
       "      <td id=\"T_e8207_row0_col8\" class=\"data row0 col8\" >80.791857</td>\n",
       "      <td id=\"T_e8207_row0_col9\" class=\"data row0 col9\" >73.064895</td>\n",
       "      <td id=\"T_e8207_row0_col10\" class=\"data row0 col10\" >73.368642</td>\n",
       "      <td id=\"T_e8207_row0_col11\" class=\"data row0 col11\" >73.472775</td>\n",
       "    </tr>\n",
       "    <tr>\n",
       "      <th id=\"T_e8207_level0_row1\" class=\"row_heading level0 row1\" >a, rand-reps</th>\n",
       "      <td id=\"T_e8207_row1_col0\" class=\"data row1 col0\" >35.108714</td>\n",
       "      <td id=\"T_e8207_row1_col1\" class=\"data row1 col1\" >35.566578</td>\n",
       "      <td id=\"T_e8207_row1_col2\" class=\"data row1 col2\" >35.126657</td>\n",
       "      <td id=\"T_e8207_row1_col3\" class=\"data row1 col3\" >52.482842</td>\n",
       "      <td id=\"T_e8207_row1_col4\" class=\"data row1 col4\" >51.822161</td>\n",
       "      <td id=\"T_e8207_row1_col5\" class=\"data row1 col5\" >53.178448</td>\n",
       "      <td id=\"T_e8207_row1_col6\" class=\"data row1 col6\" >60.353026</td>\n",
       "      <td id=\"T_e8207_row1_col7\" class=\"data row1 col7\" >60.659977</td>\n",
       "      <td id=\"T_e8207_row1_col8\" class=\"data row1 col8\" >60.461644</td>\n",
       "      <td id=\"T_e8207_row1_col9\" class=\"data row1 col9\" >47.957719</td>\n",
       "      <td id=\"T_e8207_row1_col10\" class=\"data row1 col10\" >48.655247</td>\n",
       "      <td id=\"T_e8207_row1_col11\" class=\"data row1 col11\" >48.625770</td>\n",
       "    </tr>\n",
       "    <tr>\n",
       "      <th id=\"T_e8207_level0_row2\" class=\"row_heading level0 row2\" >a, null-reps</th>\n",
       "      <td id=\"T_e8207_row2_col0\" class=\"data row2 col0\" >37.660124</td>\n",
       "      <td id=\"T_e8207_row2_col1\" class=\"data row2 col1\" >37.529718</td>\n",
       "      <td id=\"T_e8207_row2_col2\" class=\"data row2 col2\" >37.716836</td>\n",
       "      <td id=\"T_e8207_row2_col3\" class=\"data row2 col3\" >50.612620</td>\n",
       "      <td id=\"T_e8207_row2_col4\" class=\"data row2 col4\" >50.607494</td>\n",
       "      <td id=\"T_e8207_row2_col5\" class=\"data row2 col5\" >50.613581</td>\n",
       "      <td id=\"T_e8207_row2_col6\" class=\"data row2 col6\" >60.256262</td>\n",
       "      <td id=\"T_e8207_row2_col7\" class=\"data row2 col7\" >60.246330</td>\n",
       "      <td id=\"T_e8207_row2_col8\" class=\"data row2 col8\" >60.218454</td>\n",
       "      <td id=\"T_e8207_row2_col9\" class=\"data row2 col9\" >50.643379</td>\n",
       "      <td id=\"T_e8207_row2_col10\" class=\"data row2 col10\" >50.861577</td>\n",
       "      <td id=\"T_e8207_row2_col11\" class=\"data row2 col11\" >50.620630</td>\n",
       "    </tr>\n",
       "    <tr>\n",
       "      <th id=\"T_e8207_level0_row3\" class=\"row_heading level0 row3\" >q, none</th>\n",
       "      <td id=\"T_e8207_row3_col0\" class=\"data row3 col0\" >-</td>\n",
       "      <td id=\"T_e8207_row3_col1\" class=\"data row3 col1\" >-</td>\n",
       "      <td id=\"T_e8207_row3_col2\" class=\"data row3 col2\" >-</td>\n",
       "      <td id=\"T_e8207_row3_col3\" class=\"data row3 col3\" >-</td>\n",
       "      <td id=\"T_e8207_row3_col4\" class=\"data row3 col4\" >-</td>\n",
       "      <td id=\"T_e8207_row3_col5\" class=\"data row3 col5\" >-</td>\n",
       "      <td id=\"T_e8207_row3_col6\" class=\"data row3 col6\" >82.027030</td>\n",
       "      <td id=\"T_e8207_row3_col7\" class=\"data row3 col7\" >83.150701</td>\n",
       "      <td id=\"T_e8207_row3_col8\" class=\"data row3 col8\" >83.060346</td>\n",
       "      <td id=\"T_e8207_row3_col9\" class=\"data row3 col9\" >74.350052</td>\n",
       "      <td id=\"T_e8207_row3_col10\" class=\"data row3 col10\" >73.905326</td>\n",
       "      <td id=\"T_e8207_row3_col11\" class=\"data row3 col11\" >74.422785</td>\n",
       "    </tr>\n",
       "    <tr>\n",
       "      <th id=\"T_e8207_level0_row4\" class=\"row_heading level0 row4\" >q, rand-reps</th>\n",
       "      <td id=\"T_e8207_row4_col0\" class=\"data row4 col0\" >-</td>\n",
       "      <td id=\"T_e8207_row4_col1\" class=\"data row4 col1\" >-</td>\n",
       "      <td id=\"T_e8207_row4_col2\" class=\"data row4 col2\" >-</td>\n",
       "      <td id=\"T_e8207_row4_col3\" class=\"data row4 col3\" >-</td>\n",
       "      <td id=\"T_e8207_row4_col4\" class=\"data row4 col4\" >-</td>\n",
       "      <td id=\"T_e8207_row4_col5\" class=\"data row4 col5\" >-</td>\n",
       "      <td id=\"T_e8207_row4_col6\" class=\"data row4 col6\" >59.003787</td>\n",
       "      <td id=\"T_e8207_row4_col7\" class=\"data row4 col7\" >59.750338</td>\n",
       "      <td id=\"T_e8207_row4_col8\" class=\"data row4 col8\" >60.062736</td>\n",
       "      <td id=\"T_e8207_row4_col9\" class=\"data row4 col9\" >48.801033</td>\n",
       "      <td id=\"T_e8207_row4_col10\" class=\"data row4 col10\" >48.325227</td>\n",
       "      <td id=\"T_e8207_row4_col11\" class=\"data row4 col11\" >48.496325</td>\n",
       "    </tr>\n",
       "    <tr>\n",
       "      <th id=\"T_e8207_level0_row5\" class=\"row_heading level0 row5\" >q, null-reps</th>\n",
       "      <td id=\"T_e8207_row5_col0\" class=\"data row5 col0\" >-</td>\n",
       "      <td id=\"T_e8207_row5_col1\" class=\"data row5 col1\" >-</td>\n",
       "      <td id=\"T_e8207_row5_col2\" class=\"data row5 col2\" >-</td>\n",
       "      <td id=\"T_e8207_row5_col3\" class=\"data row5 col3\" >-</td>\n",
       "      <td id=\"T_e8207_row5_col4\" class=\"data row5 col4\" >-</td>\n",
       "      <td id=\"T_e8207_row5_col5\" class=\"data row5 col5\" >-</td>\n",
       "      <td id=\"T_e8207_row5_col6\" class=\"data row5 col6\" >60.182889</td>\n",
       "      <td id=\"T_e8207_row5_col7\" class=\"data row5 col7\" >60.134828</td>\n",
       "      <td id=\"T_e8207_row5_col8\" class=\"data row5 col8\" >60.153091</td>\n",
       "      <td id=\"T_e8207_row5_col9\" class=\"data row5 col9\" >50.640816</td>\n",
       "      <td id=\"T_e8207_row5_col10\" class=\"data row5 col10\" >50.564239</td>\n",
       "      <td id=\"T_e8207_row5_col11\" class=\"data row5 col11\" >50.537645</td>\n",
       "    </tr>\n",
       "  </tbody>\n",
       "</table>\n"
      ],
      "text/plain": [
       "<pandas.io.formats.style.Styler at 0x7fa80fc98d30>"
      ]
     },
     "execution_count": 8,
     "metadata": {},
     "output_type": "execute_result"
    }
   ],
   "source": [
    "elements = list(product(TASKS, BOT_VERSIONS))\n",
    "df = pd.DataFrame(columns=[elem for elem in elements])\n",
    "\n",
    "for bot, control_task in product(BOTS, CONTROL_TASKS):\n",
    "    df.loc[f'{bot}, {control_task}'] = [test_accs[bot, t, control_task, v] for t, v in elements]      \n",
    "df = df.style.set_caption(\"Performance on test set, all turns\")\n",
    "df"
   ]
  },
  {
   "cell_type": "markdown",
   "metadata": {},
   "source": [
    "### Sanity check"
   ]
  },
  {
   "cell_type": "code",
   "execution_count": 9,
   "metadata": {},
   "outputs": [
    {
     "name": "stdout",
     "output_type": "stream",
     "text": [
      "4000\n",
      "32360\n"
     ]
    }
   ],
   "source": [
    "dialogues_min_5turns = 0\n",
    "total_datapoints_turn5 = 0\n",
    "with open(Path(PATH, 'main_task', 'data', 'visdial_1.0_test_dialogueLens.txt'), 'r') as file:\n",
    "    lines = file.readlines()\n",
    "    for line in lines:\n",
    "        idx, dialogue_len = line.strip('\\n').split('\\t')\n",
    "        if int(dialogue_len) >= 6:\n",
    "            n_props = len(props_test[idx])\n",
    "            dialogues_min_5turns += 1\n",
    "            total_datapoints_turn5 += n_props\n",
    "print(dialogues_min_5turns)\n",
    "print(total_datapoints_turn5)"
   ]
  },
  {
   "cell_type": "markdown",
   "metadata": {},
   "source": [
    "We double check that all datapoints indexes correspond to the same information across experiments:"
   ]
  },
  {
   "cell_type": "code",
   "execution_count": 10,
   "metadata": {},
   "outputs": [],
   "source": [
    "model = 'Deeper'\n",
    "embs = 'pmbv2'\n",
    "\n",
    "for task in TASKS:\n",
    "    identifiers = []\n",
    "    for bot, control_task, version in product(BOTS, CONTROL_TASKS, BOT_VERSIONS):\n",
    "        if bot == 'q' and 'TF' in task:\n",
    "            continue\n",
    "        name = f'{bot}Bot_{version}_task-{task}_control-{control_task}_{model}_{embs}'\n",
    "        with open(Path(PATH_OUTPUTS, name, 'identifiers_test'), 'r') as file:\n",
    "            identifiers.append(file.read())\n",
    "    if 'TF' in task:\n",
    "        assert len(identifiers) == 9\n",
    "    else:\n",
    "        assert len(identifiers) == 18\n",
    "    assert len(set(identifiers)) == 1 # check that all files are the same, i.e. indexes and datapoints match"
   ]
  },
  {
   "cell_type": "markdown",
   "metadata": {},
   "source": [
    "We load one of the test data identifiers, all files should be the same except for the labels:"
   ]
  },
  {
   "cell_type": "code",
   "execution_count": 11,
   "metadata": {},
   "outputs": [],
   "source": [
    "name = f'aBot_RL-DIV_task-TFxPS_control-none_Deeper_pmbv2'\n",
    "with open(Path(PATH_OUTPUTS, name, 'identifiers_test'), 'r') as file:\n",
    "    test_dataset = json.load(file) "
   ]
  },
  {
   "cell_type": "markdown",
   "metadata": {},
   "source": [
    "## Hypothesis testing for control tasks (turn=5)"
   ]
  },
  {
   "cell_type": "markdown",
   "metadata": {},
   "source": [
    "Select parameters according to Scipy's [documentation](https://docs.scipy.org/doc/scipy/reference/generated/scipy.stats.permutation_test.html#scipy.stats.permutation_test):"
   ]
  },
  {
   "cell_type": "code",
   "execution_count": 12,
   "metadata": {},
   "outputs": [],
   "source": [
    "def acc_diff(a, b):\n",
    "    return np.mean(a)- np.mean(b)\n",
    "\n",
    "def abs_acc_diff(a, b):\n",
    "    return abs(np.mean(a)- np.mean(b))"
   ]
  },
  {
   "cell_type": "code",
   "execution_count": 13,
   "metadata": {},
   "outputs": [],
   "source": [
    "permutation_type = 'samples'\n",
    "alternative = 'greater'\n",
    "n_samples = 1000\n",
    "seed = 123\n",
    "statistic = abs_acc_diff\n",
    "alpha = 0.01\n",
    "\n",
    "TURN = 5"
   ]
  },
  {
   "cell_type": "markdown",
   "metadata": {},
   "source": [
    "Test statistic for the approximate randomization test is the different between accuracies:"
   ]
  },
  {
   "cell_type": "code",
   "execution_count": 14,
   "metadata": {
    "scrolled": false
   },
   "outputs": [
    {
     "name": "stdout",
     "output_type": "stream",
     "text": [
      "Bot: a, Task: TFxPS, Version:RL-DIV\n"
     ]
    },
    {
     "name": "stderr",
     "output_type": "stream",
     "text": [
      "/home/users/blasota/anaconda3/envs/scipy/lib/python3.9/site-packages/scipy/stats/_hypotests.py:1587: RuntimeWarning: overflow encountered in double_scalars\n",
      "  n_max = factorial(n_obs_sample)**n_samples\n"
     ]
    },
    {
     "name": "stdout",
     "output_type": "stream",
     "text": [
      "  Main vs. Random: 0.2654820766378245 (p-value=0.000999000999000999)\n",
      "  Main vs. Null: 0.24375772558714465 (p-value=0.000999000999000999)\n",
      "Bot: a, Task: TFxPS, Version:SL\n",
      "  Main vs. Random: 0.24845488257107534 (p-value=0.000999000999000999)\n",
      "  Main vs. Null: 0.251761433868974 (p-value=0.000999000999000999)\n",
      "Bot: a, Task: TFxPS, Version:ICCV-RL\n",
      "  Main vs. Random: 0.24712608158220023 (p-value=0.000999000999000999)\n",
      "  Main vs. Null: 0.23896786155747834 (p-value=0.000999000999000999)\n",
      "Bot: a, Task: TF, Version:RL-DIV\n",
      "  Main vs. Random: 0.20794190358467235 (p-value=0.000999000999000999)\n",
      "  Main vs. Null: 0.22394932014833124 (p-value=0.000999000999000999)\n",
      "Bot: a, Task: TF, Version:SL\n",
      "  Main vs. Random: 0.20491347342398025 (p-value=0.000999000999000999)\n",
      "  Main vs. Null: 0.2185105067985167 (p-value=0.000999000999000999)\n",
      "Bot: a, Task: TF, Version:ICCV-RL\n",
      "  Main vs. Random: 0.19236711990111255 (p-value=0.000999000999000999)\n",
      "  Main vs. Null: 0.21736711990111246 (p-value=0.000999000999000999)\n",
      "Bot: a, Task: PS, Version:RL-DIV\n",
      "  Main vs. Random: 0.12694684796044498 (p-value=0.000999000999000999)\n",
      "  Main vs. Null: 0.14502472187886284 (p-value=0.000999000999000999)\n",
      "Bot: a, Task: PS, Version:SL\n",
      "  Main vs. Random: 0.08785537700865265 (p-value=0.000999000999000999)\n",
      "  Main vs. Null: 0.14462299134734236 (p-value=0.000999000999000999)\n",
      "Bot: a, Task: PS, Version:ICCV-RL\n",
      "  Main vs. Random: 0.13059332509270705 (p-value=0.000999000999000999)\n",
      "  Main vs. Null: 0.14477750309023485 (p-value=0.000999000999000999)\n",
      "Bot: a, Task: PxTSFS, Version:RL-DIV\n",
      "  Main vs. Random: 0.30111248454882567 (p-value=0.000999000999000999)\n",
      "  Main vs. Null: 0.2821384425216316 (p-value=0.000999000999000999)\n",
      "Bot: a, Task: PxTSFS, Version:SL\n",
      "  Main vs. Random: 0.2627008652657602 (p-value=0.000999000999000999)\n",
      "  Main vs. Null: 0.27978986402966627 (p-value=0.000999000999000999)\n",
      "Bot: a, Task: PxTSFS, Version:ICCV-RL\n",
      "  Main vs. Random: 0.2835290482076637 (p-value=0.000999000999000999)\n",
      "  Main vs. Null: 0.2848269468479604 (p-value=0.000999000999000999)\n",
      "Bot: q, Task: TFxPS, Version:RL-DIV\n",
      "  NA\n",
      "Bot: q, Task: TFxPS, Version:SL\n",
      "  NA\n",
      "Bot: q, Task: TFxPS, Version:ICCV-RL\n",
      "  NA\n",
      "Bot: q, Task: TF, Version:RL-DIV\n",
      "  NA\n",
      "Bot: q, Task: TF, Version:SL\n",
      "  NA\n",
      "Bot: q, Task: TF, Version:ICCV-RL\n",
      "  NA\n",
      "Bot: q, Task: PS, Version:RL-DIV\n",
      "  Main vs. Random: 0.17914091470951798 (p-value=0.000999000999000999)\n",
      "  Main vs. Null: 0.15939431396786152 (p-value=0.000999000999000999)\n",
      "Bot: q, Task: PS, Version:SL\n",
      "  Main vs. Random: 0.18782447466007413 (p-value=0.000999000999000999)\n",
      "  Main vs. Null: 0.1692521631644005 (p-value=0.000999000999000999)\n",
      "Bot: q, Task: PS, Version:ICCV-RL\n",
      "  Main vs. Random: 0.17787391841779976 (p-value=0.000999000999000999)\n",
      "  Main vs. Null: 0.16718170580964153 (p-value=0.000999000999000999)\n",
      "Bot: q, Task: PxTSFS, Version:RL-DIV\n",
      "  Main vs. Random: 0.3137515451174289 (p-value=0.000999000999000999)\n",
      "  Main vs. Null: 0.29592088998763905 (p-value=0.000999000999000999)\n",
      "Bot: q, Task: PxTSFS, Version:SL\n",
      "  Main vs. Random: 0.3106613102595797 (p-value=0.000999000999000999)\n",
      "  Main vs. Null: 0.2850123609394314 (p-value=0.000999000999000999)\n",
      "Bot: q, Task: PxTSFS, Version:ICCV-RL\n",
      "  Main vs. Random: 0.31526576019777497 (p-value=0.000999000999000999)\n",
      "  Main vs. Null: 0.29273794808405434 (p-value=0.000999000999000999)\n"
     ]
    }
   ],
   "source": [
    "p_values = {}\n",
    "stats_distributions = {}\n",
    "p_values_twosided = {}\n",
    "\n",
    "for (bot, task, version) in product(BOTS, TASKS, BOT_VERSIONS):\n",
    "    print(f'Bot: {bot}, Task: {task}, Version:{version}')\n",
    "    if test_results[(bot, task, 'none', version)]:\n",
    "        # get all indexes of datapoints at turn 5\n",
    "        d_points = [int(k) for k, v in test_dataset.items() if v[-2] == TURN]\n",
    "        assert len(d_points) == total_datapoints_turn5\n",
    "        \n",
    "        guesses = test_results[(bot, task, 'none', version)]\n",
    "        rand_guesses = test_results[(bot, task, 'rand-reps', version)]\n",
    "        null_guesses = test_results[(bot, task, 'null-reps', version)]\n",
    "\n",
    "        guesses_turn_5 = np.array([1 if guesses[k][0] == guesses[k][1] else 0 for k in d_points])\n",
    "        rand_guesses_turn_5 = np.array([1 if rand_guesses[k][0] == rand_guesses[k][1] else 0 for k in d_points])\n",
    "        null_guesses_turn_5 = np.array([1 if null_guesses[k][0] == null_guesses[k][1] else 0 for k in d_points])\n",
    "\n",
    "        assert len(guesses_turn_5) == total_datapoints_turn5\n",
    "        assert len(rand_guesses_turn_5) == total_datapoints_turn5\n",
    "        assert len(null_guesses_turn_5) == total_datapoints_turn5\n",
    "        \n",
    "        # Test main vs random dialogue representations\n",
    "        test_outputs = permutation_test((guesses_turn_5, rand_guesses_turn_5), statistic=statistic, \n",
    "                                         permutation_type=permutation_type, n_resamples=n_samples,\n",
    "                                         alternative=alternative, random_state=seed)\n",
    "        p_values[(bot, task, version, 'main vs rand')] = test_outputs.pvalue\n",
    "        stats_distributions[(bot, task, version, 'main vs rand')] = (test_outputs.statistic, \n",
    "                                                                     test_outputs.null_distribution)\n",
    "        print(f'  Main vs. Random: {test_outputs.statistic} (p-value={test_outputs.pvalue})')\n",
    "        \n",
    "        # Test main vs null dialogue representations\n",
    "        test_outputs = permutation_test((guesses_turn_5, null_guesses_turn_5), statistic=statistic, \n",
    "                                         permutation_type=permutation_type, n_resamples=n_samples,\n",
    "                                         alternative=alternative, random_state=seed)\n",
    "        p_values[(bot, task, version, 'main vs null')] = test_outputs.pvalue\n",
    "        stats_distributions[(bot, task, version, 'main vs null')] = (test_outputs.statistic, \n",
    "                                                                     test_outputs.null_distribution)\n",
    "        print(f'  Main vs. Null: {test_outputs.statistic} (p-value={test_outputs.pvalue})')\n",
    "\n",
    "    else:\n",
    "        p_values[(bot, task, version, 'main vs rand')] = 'NA'\n",
    "        p_values[(bot, task, version, 'main vs null')] = 'NA'\n",
    "        print('  NA')\n",
    "                    \n",
    "assert len(p_values) == 48"
   ]
  },
  {
   "cell_type": "markdown",
   "metadata": {},
   "source": [
    "We also check $p*2$ which would be the p-value for the two-sided case."
   ]
  },
  {
   "cell_type": "code",
   "execution_count": 15,
   "metadata": {},
   "outputs": [
    {
     "name": "stdout",
     "output_type": "stream",
     "text": [
      "All differences are thus statistically significant.\n"
     ]
    }
   ],
   "source": [
    "flag = 0\n",
    "flag_double = 0\n",
    "for test, p in p_values.items():\n",
    "    if p != 'NA':\n",
    "        if p > alpha:\n",
    "            flag = 1\n",
    "            print('p > alpha on:', test)\n",
    "        if p*2 > alpha:\n",
    "            flag_double = 1\n",
    "            print('p*2 > alpha on:', test)\n",
    "if not flag:\n",
    "    print('All differences are thus statistically significant.') "
   ]
  },
  {
   "cell_type": "code",
   "execution_count": 16,
   "metadata": {},
   "outputs": [
    {
     "data": {
      "image/png": "[encoded data removed]",
      "text/plain": [
       "<Figure size 432x288 with 1 Axes>"
      ]
     },
     "metadata": {
      "needs_background": "light"
     },
     "output_type": "display_data"
    }
   ],
   "source": [
    "s, dist = stats_distributions[('a', 'PS', 'RL-DIV', 'main vs rand')]\n",
    "plt.hist(dist, bins=50)\n",
    "plt.axvline(s, color='r', linestyle='dashed', linewidth=1)\n",
    "plt.show()"
   ]
  },
  {
   "cell_type": "code",
   "execution_count": 17,
   "metadata": {},
   "outputs": [
    {
     "data": {
      "text/plain": [
       "0.001998001998001998"
      ]
     },
     "execution_count": 17,
     "metadata": {},
     "output_type": "execute_result"
    }
   ],
   "source": [
    "0.000999000999000999*2"
   ]
  },
  {
   "cell_type": "markdown",
   "metadata": {},
   "source": [
    "## Hypothesis testing for questioner vs. answerer (turn=5)\n",
    " \n",
    "Now we check the difference between a and q:"
   ]
  },
  {
   "cell_type": "code",
   "execution_count": 18,
   "metadata": {
    "scrolled": true
   },
   "outputs": [
    {
     "name": "stdout",
     "output_type": "stream",
     "text": [
      "Task: PS, Version:RL-DIV\n",
      "  A vs. Q: 0.010692212608158225 (p-value=0.000999000999000999)\n",
      "Task: PS, Version:SL\n",
      "  A vs. Q: 0.01999381953028434 (p-value=0.000999000999000999)\n",
      "Task: PS, Version:ICCV-RL\n",
      "  A vs. Q: 0.020797280593325085 (p-value=0.000999000999000999)\n",
      "Task: PxTSFS, Version:RL-DIV\n",
      "  A vs. Q: 0.012948084054388187 (p-value=0.000999000999000999)\n",
      "Task: PxTSFS, Version:SL\n",
      "  A vs. Q: 0.0015451174289246028 (p-value=0.6223776223776224)\n",
      "Task: PxTSFS, Version:ICCV-RL\n",
      "  A vs. Q: 0.0055006180469715504 (p-value=0.08091908091908091)\n"
     ]
    }
   ],
   "source": [
    "p_values_qa = {}\n",
    "stats_distributions_qa = {}\n",
    "\n",
    "for task, version in product(('PS', 'PxTSFS'), BOT_VERSIONS):\n",
    "    print(f'Task: {task}, Version:{version}')\n",
    "    # select only datapoints at turn 5\n",
    "    d_points = [int(k) for k,v in test_dataset.items() if v[-2] == TURN]\n",
    "    assert len(d_points) == total_datapoints_turn5\n",
    "\n",
    "    guesses_a = test_results[('a', task, 'none', version)]\n",
    "    guesses_q = test_results[('q', task, 'none', version)]\n",
    "\n",
    "    guesses_a_turn_5 = np.array([1 if guesses_a[k][0] == guesses_a[k][1] else 0 for k in d_points])\n",
    "    guesses_q_turn_5 = np.array([1 if guesses_q[k][0] == guesses_q[k][1] else 0 for k in d_points])\n",
    "\n",
    "    assert len(guesses_a_turn_5) == total_datapoints_turn5\n",
    "    assert len(guesses_q_turn_5) == total_datapoints_turn5\n",
    "\n",
    "    test_outputs = permutation_test((guesses_a_turn_5, guesses_q_turn_5), statistic=statistic, \n",
    "                                    permutation_type=permutation_type, n_resamples=n_samples,\n",
    "                                    alternative=alternative, random_state=seed)\n",
    "    p_values_qa[(task, version, 'a vs q')] = test_outputs.pvalue\n",
    "    stats_distributions_qa[(task, version, 'a vs q')] = (test_outputs.statistic, \n",
    "                                                              test_outputs.null_distribution)\n",
    "    print(f'  A vs. Q: {test_outputs.statistic} (p-value={test_outputs.pvalue})')\n",
    "\n",
    "assert len(p_values_qa) == 6"
   ]
  },
  {
   "cell_type": "code",
   "execution_count": 19,
   "metadata": {},
   "outputs": [
    {
     "name": "stdout",
     "output_type": "stream",
     "text": [
      "p > alpha on: ('PxTSFS', 'SL', 'a vs q')\n",
      "p*2 > alpha on: ('PxTSFS', 'SL', 'a vs q')\n",
      "p > alpha on: ('PxTSFS', 'ICCV-RL', 'a vs q')\n",
      "p*2 > alpha on: ('PxTSFS', 'ICCV-RL', 'a vs q')\n"
     ]
    }
   ],
   "source": [
    "flag = 0\n",
    "flag_double = 0\n",
    "for test, p in p_values_qa.items():\n",
    "    if p != 'NA':\n",
    "        if p > alpha:\n",
    "            flag = 1\n",
    "            print('p > alpha on:', test)\n",
    "        if p*2 > alpha:\n",
    "            flag_double = 1\n",
    "            print('p*2 > alpha on:', test)\n",
    "if not flag:\n",
    "    print('All differences are thus statistically significant.')  "
   ]
  },
  {
   "cell_type": "code",
   "execution_count": 20,
   "metadata": {
    "scrolled": true
   },
   "outputs": [
    {
     "data": {
      "image/png": "[encoded data removed]",
      "text/plain": [
       "<Figure size 432x288 with 1 Axes>"
      ]
     },
     "metadata": {
      "needs_background": "light"
     },
     "output_type": "display_data"
    }
   ],
   "source": [
    "s, dist = stats_distributions_qa[('PxTSFS', 'SL', 'a vs q')]\n",
    "plt.hist(dist, bins=50)\n",
    "plt.axvline(s, color='r', linestyle='dashed', linewidth=1)\n",
    "plt.show()"
   ]
  }
 ],
 "metadata": {
  "kernelspec": {
   "display_name": "scipy",
   "language": "python",
   "name": "scipy"
  },
  "language_info": {
   "codemirror_mode": {
    "name": "ipython",
    "version": 3
   },
   "file_extension": ".py",
   "mimetype": "text/x-python",
   "name": "python",
   "nbconvert_exporter": "python",
   "pygments_lexer": "ipython3",
   "version": "3.9.0"
  }
 },
 "nbformat": 4,
 "nbformat_minor": 2
}
