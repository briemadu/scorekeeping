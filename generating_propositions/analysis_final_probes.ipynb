{
 "cells": [
  {
   "cell_type": "markdown",
   "metadata": {},
   "source": [
    "# Analysing the final propositions generated from VisDial dataset and used in the experiments"
   ]
  },
  {
   "cell_type": "code",
   "execution_count": 1,
   "metadata": {},
   "outputs": [],
   "source": [
    "import copy\n",
    "import itertools\n",
    "import json\n",
    "import matplotlib\n",
    "import matplotlib.pyplot as plt\n",
    "import matplotlib.ticker as ticker\n",
    "import numpy as np\n",
    "import pandas as pd\n",
    "import seaborn as sns\n",
    "import random\n",
    "\n",
    "from collections import Counter\n",
    "\n",
    "%matplotlib inline\n",
    "sns.set_style(\"darkgrid\")\n",
    "plt.rcParams['font.family'] = 'DejaVu Sans'"
   ]
  },
  {
   "cell_type": "code",
   "execution_count": 2,
   "metadata": {},
   "outputs": [],
   "source": [
    "PATH_VISDIAL = 'data/visual_dialog/'\n",
    "DIR = 'propositions/'\n",
    "\n",
    "SPLITS = ('train', 'val', 'test')"
   ]
  },
  {
   "cell_type": "markdown",
   "metadata": {},
   "source": [
    "Select either original to analyse all or downsampled/balanced to analyse the final versions used in the paper."
   ]
  },
  {
   "cell_type": "code",
   "execution_count": 3,
   "metadata": {},
   "outputs": [],
   "source": [
    "which_probes = {'train': 'downsampled-balanced-', 'val': 'downsampled-', 'test': 'downsampled-'}"
   ]
  },
  {
   "cell_type": "markdown",
   "metadata": {},
   "source": [
    "Load datasets:"
   ]
  },
  {
   "cell_type": "code",
   "execution_count": 4,
   "metadata": {},
   "outputs": [],
   "source": [
    "datasets = {}\n",
    "visdial = {}\n",
    "propositions = {}\n",
    "\n",
    "for split in SPLITS:\n",
    "    with open(f'{PATH_VISDIAL}visdial_1.0_{split}.json', 'r') as data:\n",
    "        visdial[split] = json.load(data)\n",
    "        datasets[split] = visdial[split]['data']['dialogs']\n",
    "\n",
    "for split in SPLITS:\n",
    "    with open(f'{DIR}{which_probes[split]}propositions_{split}.json', 'r') as data:\n",
    "        props = json.load(data)\n",
    "        propositions[split] = props['dialogues']"
   ]
  },
  {
   "cell_type": "markdown",
   "metadata": {},
   "source": [
    "Checking how many of the original dialogues ended up in the samples:"
   ]
  },
  {
   "cell_type": "code",
   "execution_count": 5,
   "metadata": {},
   "outputs": [
    {
     "name": "stdout",
     "output_type": "stream",
     "text": [
      "Train:  95369\n",
      "Val:  1979\n",
      "Test:  6880\n"
     ]
    }
   ],
   "source": [
    "print('Train: ', len([k for k,v in propositions['train'].items() if v]))\n",
    "print('Val: ', len([k for k,v in propositions['val'].items() if v]))\n",
    "print('Test: ', len([k for k,v in propositions['test'].items() if v]))"
   ]
  },
  {
   "cell_type": "markdown",
   "metadata": {},
   "source": [
    "We'll remove the empty, unused dialogues from the analysis:"
   ]
  },
  {
   "cell_type": "code",
   "execution_count": 6,
   "metadata": {},
   "outputs": [],
   "source": [
    "propositions['train'] = {k:v for k,v in propositions['train'].items() if v !={}}\n",
    "propositions['val'] = {k:v for k,v in propositions['val'].items() if v !={}}\n",
    "propositions['test'] = {k:v for k,v in propositions['test'].items() if v !={}}"
   ]
  },
  {
   "cell_type": "markdown",
   "metadata": {},
   "source": [
    "### Examining an example of generated probes for a dialogue:"
   ]
  },
  {
   "cell_type": "code",
   "execution_count": 7,
   "metadata": {},
   "outputs": [],
   "source": [
    "def get_vd_dialogue(vd_dialog, split, add_punct=False):\n",
    "    \n",
    "    caption = vd_dialog['caption']\n",
    "    if add_punct:\n",
    "        caption += '.'\n",
    "    \n",
    "    turns = []\n",
    "    for qa in vd_dialog['dialog']:\n",
    "        q = visdial[split]['data']['questions'][qa['question']]\n",
    "        if add_punct:\n",
    "            q += '?'\n",
    "        try:\n",
    "            a = visdial[split]['data']['answers'][qa['answer']] \n",
    "            if add_punct:\n",
    "                a += '.'\n",
    "        except KeyError:\n",
    "            a = ''\n",
    "        turns.append((q, a))\n",
    "        \n",
    "    return caption, turns"
   ]
  },
  {
   "cell_type": "markdown",
   "metadata": {},
   "source": [
    "Pick a random dialogue:"
   ]
  },
  {
   "cell_type": "code",
   "execution_count": 8,
   "metadata": {},
   "outputs": [
    {
     "name": "stdout",
     "output_type": "stream",
     "text": [
      "827\n",
      "439367\n"
     ]
    }
   ],
   "source": [
    "split = 'val'\n",
    "ID = random.randint(0, len(datasets[split])) # 46907\n",
    "print(ID)\n",
    "print(visdial[split]['data']['dialogs'][ID]['image_id'])"
   ]
  },
  {
   "cell_type": "code",
   "execution_count": 9,
   "metadata": {},
   "outputs": [
    {
     "name": "stdout",
     "output_type": "stream",
     "text": [
      "0  4 small white bowls of associated foods on a table.\n",
      "\tone can see white bowls.\n",
      "\tone cannot see white bowls.\n",
      "\tthere is a table.\n",
      "\tthere is no table.\n",
      "1 are the bowls the same size? no.\n",
      "\tthe bowls are not the same size.\n",
      "\tthe bowls are the same size.\n",
      "2 can you see the table? yes.\n",
      "\tone can see a table.\n",
      "\tone cannot see any table.\n",
      "3 does it have a tablecloth? i can't tell if this is a cloth or just the color of the table.\n",
      "    --\n",
      "4 what color is it? white.\n",
      "\tthe tablecloth is white.\n",
      "\tthe tablecloth is not white.\n",
      "5 are there any flowers? no.\n",
      "\tthere are no flowers.\n",
      "\tthere are flowers.\n",
      "6 is the food fresh? some of it appears to be.\n",
      "    --\n",
      "7 is there fruit in the bowls? yes in 1 bowl.\n",
      "\tthere is fruit in the bowls.\n",
      "\tthere is no fruit in the bowls.\n",
      "8 can you see any cups? no.\n",
      "\tone cannot see any cups.\n",
      "\tone can see cups.\n",
      "9 do the bowls have patterns on it? no.\n",
      "\tthe bowls do not have patterns on it.\n",
      "\tthe bowls have patterns on it.\n",
      "10 is there soup on a bowl? no.\n",
      "\tthere is no soup on a bowl.\n",
      "\tthere is soup on a bowl.\n"
     ]
    }
   ],
   "source": [
    "caption, turns = get_vd_dialogue(datasets[split][ID], split, add_punct=True)\n",
    "dialogue = [('', caption)] + turns\n",
    "\n",
    "probes = [[] for n in range(11)]\n",
    "for p in propositions[split][str(ID)].values():\n",
    "    turn = int(p['turn_shared'])\n",
    "    probes[turn].append(p['proposition'])\n",
    "\n",
    "for n in range(11):\n",
    "    print(f'{n} {dialogue[n][0]} {dialogue[n][1]}')\n",
    "    if probes[n]:\n",
    "        for i in range(0, len(probes[n]), 2):\n",
    "            print(f'\\t{probes[n][i]}\\n\\t{probes[n][i+1]}')\n",
    "    else:\n",
    "        print('    --')"
   ]
  },
  {
   "cell_type": "markdown",
   "metadata": {},
   "source": [
    "# Analysis of the resulting propositions"
   ]
  },
  {
   "cell_type": "markdown",
   "metadata": {},
   "source": [
    "## Manipulated turns per dialogue"
   ]
  },
  {
   "cell_type": "markdown",
   "metadata": {},
   "source": [
    "How many turns in a dialogue have been turned into propositions?"
   ]
  },
  {
   "cell_type": "code",
   "execution_count": 10,
   "metadata": {
    "scrolled": true
   },
   "outputs": [
    {
     "name": "stdout",
     "output_type": "stream",
     "text": [
      "On average, the train set has 2.2813492854072077 manipulated turns per dialogue.\n",
      "On average, the val set has 5.726124305204649 manipulated turns per dialogue.\n",
      "On average, the test set has 3.1379360465116277 manipulated turns per dialogue.\n"
     ]
    }
   ],
   "source": [
    "manipulated_turns = {}\n",
    "mean_manip_turns = {}\n",
    "df_manip_turns = {}\n",
    "\n",
    "keys = list(range(1, 12))\n",
    "for split in SPLITS:\n",
    "    manipulated_turns[split] = Counter([len(set([p['turn_shared'] for p in dialogue.values()])) \n",
    "                                                                  for dialogue in propositions[split].values()])\n",
    "    \n",
    "    mean_manip_turns[split] = sum([turns*freq for turns, freq in manipulated_turns[split].items()]) / sum(manipulated_turns[split].values())\n",
    "    \n",
    "    df_manip_turns[split] = pd.DataFrame([manipulated_turns[split][i] for i in keys], index=keys, columns=['frequency']).transpose()\n",
    "    print(f'On average, the {split} set has {mean_manip_turns[split]} manipulated turns per dialogue.')"
   ]
  },
  {
   "cell_type": "code",
   "execution_count": 11,
   "metadata": {
    "scrolled": true
   },
   "outputs": [
    {
     "data": {
      "image/png": "[encoded data removed]",
      "text/plain": [
       "<Figure size 936x216 with 3 Axes>"
      ]
     },
     "metadata": {},
     "output_type": "display_data"
    }
   ],
   "source": [
    "fig, axes = plt.subplots(1, 3, figsize=(13,3))\n",
    "#fig.suptitle('How many turns in a dialogue were turned into propositions')\n",
    "\n",
    "for i, (ax, split) in enumerate(zip(axes, SPLITS)):\n",
    "    sns.barplot(data=df_manip_turns[split], ax=ax, palette='rocket_r') \n",
    "    ax.set_title(split, fontsize=16)\n",
    "    ax.tick_params(labelsize=14)\n",
    "    if i != 1:\n",
    "        ax.yaxis.set_major_formatter(ticker.FuncFormatter(lambda x, pos: '{:,.0f}'.format(x/1000) + 'K' if x != 0 else 0))\n",
    "    if i == 0:\n",
    "        ax.set_ylabel('n dialogues', fontsize=16)\n",
    "    if i == 1:\n",
    "        ax.set_xlabel('n manipulated turns', fontsize=16)\n",
    "split = 'train'\n",
    "plt.savefig(f'plots/howmany-turns-{which_probes[split]}{split}.pdf',  bbox_inches=\"tight\") \n",
    "plt.show()"
   ]
  },
  {
   "cell_type": "markdown",
   "metadata": {},
   "source": [
    "The test set has a different distribution because it has incomplete dialogues. The balanced train set has a different distribution because of the sampling."
   ]
  },
  {
   "cell_type": "markdown",
   "metadata": {},
   "source": [
    "## At which turn propositions shift from private to shared"
   ]
  },
  {
   "cell_type": "code",
   "execution_count": 12,
   "metadata": {},
   "outputs": [],
   "source": [
    "shift_turn = {}\n",
    "df_shift_turn = {}\n",
    "keys = list(range(11))\n",
    "for split in SPLITS:\n",
    "    shift_turn[split]= Counter([p['turn_shared'] for dialogue in propositions[split].values() \n",
    "                                                 for p in dialogue.values()])\n",
    "    df_shift_turn[split] = pd.DataFrame([shift_turn[split][i] for i in keys], index=keys, columns=['frequency']).transpose()"
   ]
  },
  {
   "cell_type": "markdown",
   "metadata": {},
   "source": [
    "The point where private/shared is balanced is between turn 5-6 on the balanced training set and at turn 3 on the original set (due to the many caption propositions)."
   ]
  },
  {
   "cell_type": "code",
   "execution_count": 13,
   "metadata": {},
   "outputs": [
    {
     "name": "stdout",
     "output_type": "stream",
     "text": [
      "344988\n",
      "0 0.04891764351223811\n",
      "1 0.10714575579440444\n",
      "2 0.17433649866082299\n",
      "3 0.2541247811518082\n",
      "4 0.34535404129998726\n",
      "5 0.4451198302549654\n",
      "6 0.5513235242964972\n",
      "7 0.6623041960879799\n",
      "8 0.7760965598803437\n",
      "9 0.8920136352568785\n",
      "10 1.0\n"
     ]
    }
   ],
   "source": [
    "split = 'train'\n",
    "total = sum([value for key, value in shift_turn[split].items()])\n",
    "print(total)\n",
    "\n",
    "cum = 0\n",
    "for i in range(11):\n",
    "    cum += shift_turn[split][i]\n",
    "    print(i,  cum / total)"
   ]
  },
  {
   "cell_type": "code",
   "execution_count": 14,
   "metadata": {},
   "outputs": [
    {
     "data": {
      "image/png": "[encoded data removed]",
      "text/plain": [
       "<Figure size 936x216 with 3 Axes>"
      ]
     },
     "metadata": {},
     "output_type": "display_data"
    }
   ],
   "source": [
    "fig, axes = plt.subplots(1, 3, figsize=(13,3))\n",
    "\n",
    "#fig.suptitle('Which QA pair was manipulated?')\n",
    "\n",
    "for i, (ax, split) in enumerate(zip(axes, SPLITS)):\n",
    "\n",
    "    sns.barplot(data=df_shift_turn[split], ax=ax, palette='dark:salmon_r') \n",
    "    ax.set_title(split, fontsize=16)\n",
    "    ax.tick_params(labelsize=14)\n",
    "\n",
    "    if i == 0:\n",
    "        ax.set_ylabel('frequency', fontsize=16)\n",
    "        ax.yaxis.set_major_formatter(ticker.FuncFormatter(lambda x, pos: '{:,.0f}'.format(x/1000) + 'K' if x != 0 else 0))\n",
    "    if i == 1:\n",
    "        ax.yaxis.set_major_formatter(ticker.FuncFormatter(lambda x, pos: '{:,.1f}'.format(x/1000) + 'K' if x != 0 else 0))\n",
    "        ax.set_xlabel('turn', fontsize=16)\n",
    "    if i == 2:\n",
    "        \n",
    "        ax.yaxis.set_major_formatter(ticker.FuncFormatter(lambda x, pos: '{:,.0f}'.format(x/1000) + 'K' if x != 0 else 0))\n",
    "\n",
    "split = 'train'\n",
    "plt.savefig(f'plots/which-turn-{which_probes[split]}{split}.pdf',  bbox_inches=\"tight\") \n",
    "#plt.savefig('propositions/original-propositions_turn-distribution.png',  bbox_inches=\"tight\")  \n",
    "plt.show()"
   ]
  },
  {
   "cell_type": "markdown",
   "metadata": {},
   "source": [
    "Constructing the balanced train set causes the distribution so be slightly skewed towards later turns... this will induce some bias on the private dimension, but mid point is still between turn 5 and 6."
   ]
  },
  {
   "cell_type": "markdown",
   "metadata": {},
   "source": [
    "## Propositions per dialogue"
   ]
  },
  {
   "cell_type": "markdown",
   "metadata": {},
   "source": [
    "How many propositions were generated for each dialogue?"
   ]
  },
  {
   "cell_type": "code",
   "execution_count": 15,
   "metadata": {},
   "outputs": [
    {
     "name": "stdout",
     "output_type": "stream",
     "text": [
      "On average, the train set has 3.617401881114408 propositions per dialogue.\n",
      "The train set has dialogues with minimum 1 and maximum 16 propositions. \n",
      "\n",
      "On average, the val set has 11.652349671551288 propositions per dialogue.\n",
      "The val set has dialogues with minimum 2 and maximum 26 propositions. \n",
      "\n",
      "On average, the test set has 6.534011627906977 propositions per dialogue.\n",
      "The test set has dialogues with minimum 2 and maximum 22 propositions. \n",
      "\n"
     ]
    }
   ],
   "source": [
    "n_propositions = {}\n",
    "mean_n_props = {}\n",
    "df_n_props = {}\n",
    "N_MAX = 50\n",
    "keys = list(range(N_MAX))\n",
    "\n",
    "for split in SPLITS:\n",
    "    n_propositions[split] = Counter([len(dialogue.values()) for dialogue in propositions[split].values()])\n",
    "    df_n_props[split] = pd.DataFrame([n_propositions[split][i] for i in keys], index=keys, columns=['frequency']).transpose()\n",
    "\n",
    "    mean_n_props[split] = sum([turns*freq for turns, freq in n_propositions[split].items()]) / len(propositions[split])\n",
    "    \n",
    "    print(f'On average, the {split} set has {mean_n_props[split]} propositions per dialogue.')\n",
    "    min_p = min(n_propositions[split].keys())\n",
    "    max_p = max(n_propositions[split].keys())\n",
    "    print(f'The {split} set has dialogues with minimum {min_p} and maximum {max_p} propositions. \\n')"
   ]
  },
  {
   "cell_type": "code",
   "execution_count": 16,
   "metadata": {},
   "outputs": [
    {
     "data": {
      "image/png": "[encoded data removed]",
      "text/plain": [
       "<Figure size 1080x360 with 3 Axes>"
      ]
     },
     "metadata": {},
     "output_type": "display_data"
    }
   ],
   "source": [
    "fig, axes = plt.subplots(1, 3, figsize=(15,5))\n",
    "\n",
    "fig.suptitle('Propositions per dialogue')\n",
    "\n",
    "for i, (ax, split) in enumerate(zip(axes, SPLITS)):\n",
    "\n",
    "    g = sns.barplot(data=df_n_props[split], ax=ax, palette='rocket_r') \n",
    "    g.set_xticks([0, 10, 20, 30, 40])\n",
    "    g.set_xticklabels(['0', '10', '20', '30', '40'])\n",
    "    \n",
    "    if i == 0:\n",
    "        ax.set(ylabel='frequency')\n",
    "    if i == 1:\n",
    "        ax.set(xlabel='n propositions')\n",
    "        \n",
    "plt.show()"
   ]
  },
  {
   "cell_type": "markdown",
   "metadata": {},
   "source": [
    "n_propositions is always an even number by construction. The balanced train set differs because of the sampling that does not guarantee the occurrence of both entailment+contradiction cases for all probes (which is good to reduce bias)."
   ]
  },
  {
   "cell_type": "markdown",
   "metadata": {},
   "source": [
    "## Polarity of original answers"
   ]
  },
  {
   "cell_type": "markdown",
   "metadata": {},
   "source": [
    "- Positive: propositions deriving from questions whose answers in the dialogue were yes. \n",
    "- Negative: propositions deriving from questions whose answers in the dialogue were no.\n",
    "- Nan: propositions deriving from captions or questions that were not polar questions (e.g. what color is the dog? black); can be also considered positive facts about the image."
   ]
  },
  {
   "cell_type": "code",
   "execution_count": 17,
   "metadata": {},
   "outputs": [],
   "source": [
    "prop_polarity = {}\n",
    "\n",
    "for split in SPLITS:\n",
    "    prop_polarity[split] = Counter([p['qa_fact'] for dialogue in propositions[split].values() \n",
    "                                         for p in dialogue.values()])\n",
    "\n",
    "polarities = prop_polarity['train'].keys()\n",
    "\n",
    "d_polar = {split: [prop_polarity[split][p]*100 / sum(prop_polarity[split].values()) for p in polarities] for split in SPLITS}"
   ]
  },
  {
   "cell_type": "code",
   "execution_count": 18,
   "metadata": {},
   "outputs": [
    {
     "data": {
      "text/html": [
       "<div>\n",
       "<style scoped>\n",
       "    .dataframe tbody tr th:only-of-type {\n",
       "        vertical-align: middle;\n",
       "    }\n",
       "\n",
       "    .dataframe tbody tr th {\n",
       "        vertical-align: top;\n",
       "    }\n",
       "\n",
       "    .dataframe thead th {\n",
       "        text-align: right;\n",
       "    }\n",
       "</style>\n",
       "<table border=\"1\" class=\"dataframe\">\n",
       "  <thead>\n",
       "    <tr style=\"text-align: right;\">\n",
       "      <th></th>\n",
       "      <th>train</th>\n",
       "      <th>val</th>\n",
       "      <th>test</th>\n",
       "    </tr>\n",
       "  </thead>\n",
       "  <tbody>\n",
       "    <tr>\n",
       "      <th>positive</th>\n",
       "      <td>43.179763</td>\n",
       "      <td>32.732003</td>\n",
       "      <td>31.356498</td>\n",
       "    </tr>\n",
       "    <tr>\n",
       "      <th>negative</th>\n",
       "      <td>49.979999</td>\n",
       "      <td>39.098005</td>\n",
       "      <td>31.449927</td>\n",
       "    </tr>\n",
       "    <tr>\n",
       "      <th>NaN</th>\n",
       "      <td>6.840238</td>\n",
       "      <td>28.169991</td>\n",
       "      <td>37.193576</td>\n",
       "    </tr>\n",
       "  </tbody>\n",
       "</table>\n",
       "</div>"
      ],
      "text/plain": [
       "              train        val       test\n",
       "positive  43.179763  32.732003  31.356498\n",
       "negative  49.979999  39.098005  31.449927\n",
       "NaN        6.840238  28.169991  37.193576"
      ]
     },
     "execution_count": 18,
     "metadata": {},
     "output_type": "execute_result"
    }
   ],
   "source": [
    "df_polarity = pd.DataFrame(data=d_polar, index=polarities)\n",
    "df_polarity.style.set_caption(\"Percentage of QA polarity for the generated propositions\")\n",
    "df_polarity"
   ]
  },
  {
   "cell_type": "markdown",
   "metadata": {},
   "source": [
    "The balanced train has has fewer probes coming from rules that have no polarity, because it's harder to find a match for them in the balanced set. But this is good because it keeps the training set balanced with respect to positive and negative facts about the images."
   ]
  },
  {
   "cell_type": "markdown",
   "metadata": {},
   "source": [
    "## Types of rules"
   ]
  },
  {
   "cell_type": "code",
   "execution_count": 19,
   "metadata": {},
   "outputs": [
    {
     "name": "stdout",
     "output_type": "stream",
     "text": [
      "There are 34 rules on the train set.\n",
      "There are 34 rules on the val set.\n",
      "There are 34 rules on the test set.\n"
     ]
    }
   ],
   "source": [
    "prop_rule = {}\n",
    "\n",
    "for split in SPLITS:\n",
    "    prop_rule[split] = Counter([p['rule'] for dialogue in propositions[split].values() for p in dialogue.values()])\n",
    "    print(f'There are {len(prop_rule[split])} rules on the {split} set.')\n",
    "rules = set([x for split in SPLITS for x in prop_rule[split].keys()])\n",
    "\n",
    "d_rules = {split: [prop_rule[split][r]*100 / sum(prop_rule[split].values()) for r in rules] for split in SPLITS}"
   ]
  },
  {
   "cell_type": "code",
   "execution_count": 20,
   "metadata": {},
   "outputs": [
    {
     "data": {
      "text/html": [
       "<div>\n",
       "<style scoped>\n",
       "    .dataframe tbody tr th:only-of-type {\n",
       "        vertical-align: middle;\n",
       "    }\n",
       "\n",
       "    .dataframe tbody tr th {\n",
       "        vertical-align: top;\n",
       "    }\n",
       "\n",
       "    .dataframe thead th {\n",
       "        text-align: right;\n",
       "    }\n",
       "</style>\n",
       "<table border=\"1\" class=\"dataframe\">\n",
       "  <thead>\n",
       "    <tr style=\"text-align: right;\">\n",
       "      <th></th>\n",
       "      <th>train</th>\n",
       "      <th>val</th>\n",
       "      <th>test</th>\n",
       "    </tr>\n",
       "  </thead>\n",
       "  <tbody>\n",
       "    <tr>\n",
       "      <th>is_np_np</th>\n",
       "      <td>0.630457</td>\n",
       "      <td>0.858630</td>\n",
       "      <td>0.898696</td>\n",
       "    </tr>\n",
       "    <tr>\n",
       "      <th>look_like</th>\n",
       "      <td>0.253922</td>\n",
       "      <td>0.242845</td>\n",
       "      <td>0.222450</td>\n",
       "    </tr>\n",
       "    <tr>\n",
       "      <th>noun_prep_noun</th>\n",
       "      <td>1.138880</td>\n",
       "      <td>1.326973</td>\n",
       "      <td>1.574943</td>\n",
       "    </tr>\n",
       "    <tr>\n",
       "      <th>is_inside</th>\n",
       "      <td>0.688720</td>\n",
       "      <td>0.581093</td>\n",
       "      <td>0.756329</td>\n",
       "    </tr>\n",
       "    <tr>\n",
       "      <th>noun_verb_noun</th>\n",
       "      <td>2.541538</td>\n",
       "      <td>1.977450</td>\n",
       "      <td>1.948659</td>\n",
       "    </tr>\n",
       "    <tr>\n",
       "      <th>no_people</th>\n",
       "      <td>0.020580</td>\n",
       "      <td>0.078057</td>\n",
       "      <td>0.075633</td>\n",
       "    </tr>\n",
       "    <tr>\n",
       "      <th>sunny</th>\n",
       "      <td>1.132213</td>\n",
       "      <td>2.610581</td>\n",
       "      <td>1.944210</td>\n",
       "    </tr>\n",
       "    <tr>\n",
       "      <th>weather</th>\n",
       "      <td>0.020580</td>\n",
       "      <td>0.286210</td>\n",
       "      <td>0.298082</td>\n",
       "    </tr>\n",
       "    <tr>\n",
       "      <th>noun_verb</th>\n",
       "      <td>2.694007</td>\n",
       "      <td>1.838682</td>\n",
       "      <td>1.748454</td>\n",
       "    </tr>\n",
       "    <tr>\n",
       "      <th>there</th>\n",
       "      <td>31.919661</td>\n",
       "      <td>24.327840</td>\n",
       "      <td>20.238466</td>\n",
       "    </tr>\n",
       "    <tr>\n",
       "      <th>sunny/cloudy</th>\n",
       "      <td>0.124932</td>\n",
       "      <td>0.199480</td>\n",
       "      <td>0.129021</td>\n",
       "    </tr>\n",
       "    <tr>\n",
       "      <th>daytime</th>\n",
       "      <td>0.360882</td>\n",
       "      <td>1.621856</td>\n",
       "      <td>1.597188</td>\n",
       "    </tr>\n",
       "    <tr>\n",
       "      <th>out_answer</th>\n",
       "      <td>0.190152</td>\n",
       "      <td>0.242845</td>\n",
       "      <td>0.302531</td>\n",
       "    </tr>\n",
       "    <tr>\n",
       "      <th>any_</th>\n",
       "      <td>6.590954</td>\n",
       "      <td>3.304423</td>\n",
       "      <td>1.997598</td>\n",
       "    </tr>\n",
       "    <tr>\n",
       "      <th>verb_pron_adj</th>\n",
       "      <td>0.515670</td>\n",
       "      <td>0.563747</td>\n",
       "      <td>0.524981</td>\n",
       "    </tr>\n",
       "    <tr>\n",
       "      <th>in_answer</th>\n",
       "      <td>0.097685</td>\n",
       "      <td>0.268864</td>\n",
       "      <td>0.289184</td>\n",
       "    </tr>\n",
       "    <tr>\n",
       "      <th>what_color</th>\n",
       "      <td>0.714807</td>\n",
       "      <td>14.952298</td>\n",
       "      <td>14.041020</td>\n",
       "    </tr>\n",
       "    <tr>\n",
       "      <th>is_noun_adj</th>\n",
       "      <td>6.010354</td>\n",
       "      <td>4.093669</td>\n",
       "      <td>3.710460</td>\n",
       "    </tr>\n",
       "    <tr>\n",
       "      <th>what_kind</th>\n",
       "      <td>0.145512</td>\n",
       "      <td>0.355594</td>\n",
       "      <td>0.422654</td>\n",
       "    </tr>\n",
       "    <tr>\n",
       "      <th>cloudy</th>\n",
       "      <td>0.338273</td>\n",
       "      <td>0.095403</td>\n",
       "      <td>0.048939</td>\n",
       "    </tr>\n",
       "    <tr>\n",
       "      <th>look_adj</th>\n",
       "      <td>1.023804</td>\n",
       "      <td>1.283608</td>\n",
       "      <td>0.858656</td>\n",
       "    </tr>\n",
       "    <tr>\n",
       "      <th>what_is</th>\n",
       "      <td>0.096525</td>\n",
       "      <td>0.815265</td>\n",
       "      <td>0.791921</td>\n",
       "    </tr>\n",
       "    <tr>\n",
       "      <th>have</th>\n",
       "      <td>0.480307</td>\n",
       "      <td>0.537728</td>\n",
       "      <td>0.467144</td>\n",
       "    </tr>\n",
       "    <tr>\n",
       "      <th>daytime_answer</th>\n",
       "      <td>0.072756</td>\n",
       "      <td>0.789245</td>\n",
       "      <td>0.876451</td>\n",
       "    </tr>\n",
       "    <tr>\n",
       "      <th>image_in_color</th>\n",
       "      <td>0.695676</td>\n",
       "      <td>3.191674</td>\n",
       "      <td>5.703608</td>\n",
       "    </tr>\n",
       "    <tr>\n",
       "      <th>verb_pron_obj</th>\n",
       "      <td>1.503241</td>\n",
       "      <td>1.526453</td>\n",
       "      <td>1.214575</td>\n",
       "    </tr>\n",
       "    <tr>\n",
       "      <th>caption</th>\n",
       "      <td>4.891764</td>\n",
       "      <td>9.011275</td>\n",
       "      <td>18.752503</td>\n",
       "    </tr>\n",
       "    <tr>\n",
       "      <th>is_it</th>\n",
       "      <td>2.518059</td>\n",
       "      <td>1.968777</td>\n",
       "      <td>2.073230</td>\n",
       "    </tr>\n",
       "    <tr>\n",
       "      <th>noun_noun</th>\n",
       "      <td>1.396280</td>\n",
       "      <td>0.997398</td>\n",
       "      <td>0.894247</td>\n",
       "    </tr>\n",
       "    <tr>\n",
       "      <th>can_you_see</th>\n",
       "      <td>28.692302</td>\n",
       "      <td>16.869037</td>\n",
       "      <td>12.221382</td>\n",
       "    </tr>\n",
       "    <tr>\n",
       "      <th>pron_prep</th>\n",
       "      <td>0.310446</td>\n",
       "      <td>0.555074</td>\n",
       "      <td>0.582818</td>\n",
       "    </tr>\n",
       "    <tr>\n",
       "      <th>adj_or_adj</th>\n",
       "      <td>0.425522</td>\n",
       "      <td>0.711188</td>\n",
       "      <td>0.538328</td>\n",
       "    </tr>\n",
       "    <tr>\n",
       "      <th>noun_</th>\n",
       "      <td>1.752525</td>\n",
       "      <td>1.604510</td>\n",
       "      <td>1.775148</td>\n",
       "    </tr>\n",
       "    <tr>\n",
       "      <th>male/female</th>\n",
       "      <td>0.011015</td>\n",
       "      <td>0.312229</td>\n",
       "      <td>0.480491</td>\n",
       "    </tr>\n",
       "  </tbody>\n",
       "</table>\n",
       "</div>"
      ],
      "text/plain": [
       "                    train        val       test\n",
       "is_np_np         0.630457   0.858630   0.898696\n",
       "look_like        0.253922   0.242845   0.222450\n",
       "noun_prep_noun   1.138880   1.326973   1.574943\n",
       "is_inside        0.688720   0.581093   0.756329\n",
       "noun_verb_noun   2.541538   1.977450   1.948659\n",
       "no_people        0.020580   0.078057   0.075633\n",
       "sunny            1.132213   2.610581   1.944210\n",
       "weather          0.020580   0.286210   0.298082\n",
       "noun_verb        2.694007   1.838682   1.748454\n",
       "there           31.919661  24.327840  20.238466\n",
       "sunny/cloudy     0.124932   0.199480   0.129021\n",
       "daytime          0.360882   1.621856   1.597188\n",
       "out_answer       0.190152   0.242845   0.302531\n",
       "any_             6.590954   3.304423   1.997598\n",
       "verb_pron_adj    0.515670   0.563747   0.524981\n",
       "in_answer        0.097685   0.268864   0.289184\n",
       "what_color       0.714807  14.952298  14.041020\n",
       "is_noun_adj      6.010354   4.093669   3.710460\n",
       "what_kind        0.145512   0.355594   0.422654\n",
       "cloudy           0.338273   0.095403   0.048939\n",
       "look_adj         1.023804   1.283608   0.858656\n",
       "what_is          0.096525   0.815265   0.791921\n",
       "have             0.480307   0.537728   0.467144\n",
       "daytime_answer   0.072756   0.789245   0.876451\n",
       "image_in_color   0.695676   3.191674   5.703608\n",
       "verb_pron_obj    1.503241   1.526453   1.214575\n",
       "caption          4.891764   9.011275  18.752503\n",
       "is_it            2.518059   1.968777   2.073230\n",
       "noun_noun        1.396280   0.997398   0.894247\n",
       "can_you_see     28.692302  16.869037  12.221382\n",
       "pron_prep        0.310446   0.555074   0.582818\n",
       "adj_or_adj       0.425522   0.711188   0.538328\n",
       "noun_            1.752525   1.604510   1.775148\n",
       "male/female      0.011015   0.312229   0.480491"
      ]
     },
     "execution_count": 20,
     "metadata": {},
     "output_type": "execute_result"
    }
   ],
   "source": [
    "df_rules = pd.DataFrame(data=d_rules, index=rules)\n",
    "df_rules.style.set_caption(\"Percentage of rules used to generate propositions\")\n",
    "df_rules"
   ]
  },
  {
   "cell_type": "markdown",
   "metadata": {},
   "source": [
    "## Turns"
   ]
  },
  {
   "cell_type": "markdown",
   "metadata": {},
   "source": [
    "Proportion of probes deriving from each of the 0+10 dialogue turns."
   ]
  },
  {
   "cell_type": "code",
   "execution_count": 21,
   "metadata": {},
   "outputs": [
    {
     "data": {
      "text/html": [
       "<div>\n",
       "<style scoped>\n",
       "    .dataframe tbody tr th:only-of-type {\n",
       "        vertical-align: middle;\n",
       "    }\n",
       "\n",
       "    .dataframe tbody tr th {\n",
       "        vertical-align: top;\n",
       "    }\n",
       "\n",
       "    .dataframe thead th {\n",
       "        text-align: right;\n",
       "    }\n",
       "</style>\n",
       "<table border=\"1\" class=\"dataframe\">\n",
       "  <thead>\n",
       "    <tr style=\"text-align: right;\">\n",
       "      <th></th>\n",
       "      <th>train</th>\n",
       "      <th>val</th>\n",
       "      <th>test</th>\n",
       "    </tr>\n",
       "  </thead>\n",
       "  <tbody>\n",
       "    <tr>\n",
       "      <th>0</th>\n",
       "      <td>4.891764</td>\n",
       "      <td>9.011275</td>\n",
       "      <td>18.752503</td>\n",
       "    </tr>\n",
       "    <tr>\n",
       "      <th>1</th>\n",
       "      <td>5.822811</td>\n",
       "      <td>9.566349</td>\n",
       "      <td>17.422254</td>\n",
       "    </tr>\n",
       "    <tr>\n",
       "      <th>2</th>\n",
       "      <td>6.719074</td>\n",
       "      <td>8.473547</td>\n",
       "      <td>13.596120</td>\n",
       "    </tr>\n",
       "    <tr>\n",
       "      <th>3</th>\n",
       "      <td>7.978828</td>\n",
       "      <td>8.378144</td>\n",
       "      <td>12.021177</td>\n",
       "    </tr>\n",
       "    <tr>\n",
       "      <th>4</th>\n",
       "      <td>9.122926</td>\n",
       "      <td>9.150043</td>\n",
       "      <td>10.628643</td>\n",
       "    </tr>\n",
       "    <tr>\n",
       "      <th>5</th>\n",
       "      <td>9.976579</td>\n",
       "      <td>9.262793</td>\n",
       "      <td>9.231659</td>\n",
       "    </tr>\n",
       "    <tr>\n",
       "      <th>6</th>\n",
       "      <td>10.620369</td>\n",
       "      <td>8.872507</td>\n",
       "      <td>7.407572</td>\n",
       "    </tr>\n",
       "    <tr>\n",
       "      <th>7</th>\n",
       "      <td>11.098067</td>\n",
       "      <td>9.219428</td>\n",
       "      <td>5.543444</td>\n",
       "    </tr>\n",
       "    <tr>\n",
       "      <th>8</th>\n",
       "      <td>11.379236</td>\n",
       "      <td>9.505637</td>\n",
       "      <td>3.630378</td>\n",
       "    </tr>\n",
       "    <tr>\n",
       "      <th>9</th>\n",
       "      <td>11.591708</td>\n",
       "      <td>9.167389</td>\n",
       "      <td>1.766250</td>\n",
       "    </tr>\n",
       "    <tr>\n",
       "      <th>10</th>\n",
       "      <td>10.798636</td>\n",
       "      <td>9.392888</td>\n",
       "      <td>0.000000</td>\n",
       "    </tr>\n",
       "  </tbody>\n",
       "</table>\n",
       "</div>"
      ],
      "text/plain": [
       "        train       val       test\n",
       "0    4.891764  9.011275  18.752503\n",
       "1    5.822811  9.566349  17.422254\n",
       "2    6.719074  8.473547  13.596120\n",
       "3    7.978828  8.378144  12.021177\n",
       "4    9.122926  9.150043  10.628643\n",
       "5    9.976579  9.262793   9.231659\n",
       "6   10.620369  8.872507   7.407572\n",
       "7   11.098067  9.219428   5.543444\n",
       "8   11.379236  9.505637   3.630378\n",
       "9   11.591708  9.167389   1.766250\n",
       "10  10.798636  9.392888   0.000000"
      ]
     },
     "execution_count": 21,
     "metadata": {},
     "output_type": "execute_result"
    }
   ],
   "source": [
    "prop_turns = {}\n",
    "\n",
    "for split in SPLITS:\n",
    "    prop_turns[split] = Counter([p['turn_shared'] for dialogue in propositions[split].values() for p in dialogue.values()])\n",
    "turns = list(range(0, 11))\n",
    "\n",
    "d_turns = {split: [prop_turns[split][t]*100 / sum(prop_turns[split].values()) for t in turns] for split in SPLITS}\n",
    "\n",
    "df_turns = pd.DataFrame(data=d_turns, index=turns)\n",
    "df_turns.style.set_caption(\"Proportion of turns from which a proposition derives\")\n",
    "df_turns"
   ]
  },
  {
   "cell_type": "code",
   "execution_count": 22,
   "metadata": {},
   "outputs": [
    {
     "name": "stdout",
     "output_type": "stream",
     "text": [
      "\\begin{tabular}{lrrr}\n",
      "\\toprule\n",
      "{} &      train &       val &       test \\\\\n",
      "\\midrule\n",
      "0  &   4.891764 &  9.011275 &  18.752503 \\\\\n",
      "1  &   5.822811 &  9.566349 &  17.422254 \\\\\n",
      "2  &   6.719074 &  8.473547 &  13.596120 \\\\\n",
      "3  &   7.978828 &  8.378144 &  12.021177 \\\\\n",
      "4  &   9.122926 &  9.150043 &  10.628643 \\\\\n",
      "5  &   9.976579 &  9.262793 &   9.231659 \\\\\n",
      "6  &  10.620369 &  8.872507 &   7.407572 \\\\\n",
      "7  &  11.098067 &  9.219428 &   5.543444 \\\\\n",
      "8  &  11.379236 &  9.505637 &   3.630378 \\\\\n",
      "9  &  11.591708 &  9.167389 &   1.766250 \\\\\n",
      "10 &  10.798636 &  9.392888 &   0.000000 \\\\\n",
      "\\bottomrule\n",
      "\\end{tabular}\n",
      "\n"
     ]
    }
   ],
   "source": [
    "print(df_turns.to_latex())"
   ]
  },
  {
   "cell_type": "markdown",
   "metadata": {},
   "source": [
    "## Rules vs types"
   ]
  },
  {
   "cell_type": "markdown",
   "metadata": {},
   "source": [
    "On train set:"
   ]
  },
  {
   "cell_type": "code",
   "execution_count": 23,
   "metadata": {},
   "outputs": [],
   "source": [
    "cross_dic = {'train': {}, 'val':{}, 'test':{}}\n",
    "\n",
    "for split in SPLITS:\n",
    "    for dialogue in propositions[split].values(): \n",
    "        for p in dialogue.values():\n",
    "            rule = p['rule']\n",
    "            if rule not in cross_dic[split]:\n",
    "                cross_dic[split][rule] = []\n",
    "            cross_dic[split][rule].append(p['qa_fact'])\n",
    "\n",
    "split = 'train'\n",
    "\n",
    "d_cross = {\n",
    "    'positive_polarity': [100*Counter(cross_dic[split][rule])['positive'] / len(cross_dic[split][rule]) for rule in rules],\n",
    "    'negative_polarity': [100*Counter(cross_dic[split][rule])['negative'] / len(cross_dic[split][rule]) for rule in rules],\n",
    "    'neutral': [100*Counter(cross_dic[split][rule])[None] / len(cross_dic[split][rule]) for rule in rules]\n",
    "    } "
   ]
  },
  {
   "cell_type": "code",
   "execution_count": 24,
   "metadata": {},
   "outputs": [
    {
     "data": {
      "text/html": [
       "<div>\n",
       "<style scoped>\n",
       "    .dataframe tbody tr th:only-of-type {\n",
       "        vertical-align: middle;\n",
       "    }\n",
       "\n",
       "    .dataframe tbody tr th {\n",
       "        vertical-align: top;\n",
       "    }\n",
       "\n",
       "    .dataframe thead th {\n",
       "        text-align: right;\n",
       "    }\n",
       "</style>\n",
       "<table border=\"1\" class=\"dataframe\">\n",
       "  <thead>\n",
       "    <tr style=\"text-align: right;\">\n",
       "      <th></th>\n",
       "      <th>positive_polarity</th>\n",
       "      <th>negative_polarity</th>\n",
       "      <th>neutral</th>\n",
       "    </tr>\n",
       "  </thead>\n",
       "  <tbody>\n",
       "    <tr>\n",
       "      <th>is_np_np</th>\n",
       "      <td>44.551724</td>\n",
       "      <td>50.942529</td>\n",
       "      <td>4.505747</td>\n",
       "    </tr>\n",
       "    <tr>\n",
       "      <th>look_like</th>\n",
       "      <td>50.000000</td>\n",
       "      <td>50.000000</td>\n",
       "      <td>0.000000</td>\n",
       "    </tr>\n",
       "    <tr>\n",
       "      <th>noun_prep_noun</th>\n",
       "      <td>49.809112</td>\n",
       "      <td>50.190888</td>\n",
       "      <td>0.000000</td>\n",
       "    </tr>\n",
       "    <tr>\n",
       "      <th>is_inside</th>\n",
       "      <td>29.292929</td>\n",
       "      <td>70.707071</td>\n",
       "      <td>0.000000</td>\n",
       "    </tr>\n",
       "    <tr>\n",
       "      <th>noun_verb_noun</th>\n",
       "      <td>49.714872</td>\n",
       "      <td>50.285128</td>\n",
       "      <td>0.000000</td>\n",
       "    </tr>\n",
       "    <tr>\n",
       "      <th>no_people</th>\n",
       "      <td>0.000000</td>\n",
       "      <td>0.000000</td>\n",
       "      <td>100.000000</td>\n",
       "    </tr>\n",
       "    <tr>\n",
       "      <th>sunny</th>\n",
       "      <td>48.796723</td>\n",
       "      <td>51.203277</td>\n",
       "      <td>0.000000</td>\n",
       "    </tr>\n",
       "    <tr>\n",
       "      <th>weather</th>\n",
       "      <td>0.000000</td>\n",
       "      <td>0.000000</td>\n",
       "      <td>100.000000</td>\n",
       "    </tr>\n",
       "    <tr>\n",
       "      <th>noun_verb</th>\n",
       "      <td>48.827200</td>\n",
       "      <td>51.172800</td>\n",
       "      <td>0.000000</td>\n",
       "    </tr>\n",
       "    <tr>\n",
       "      <th>there</th>\n",
       "      <td>44.003306</td>\n",
       "      <td>55.996694</td>\n",
       "      <td>0.000000</td>\n",
       "    </tr>\n",
       "    <tr>\n",
       "      <th>sunny/cloudy</th>\n",
       "      <td>0.000000</td>\n",
       "      <td>0.000000</td>\n",
       "      <td>100.000000</td>\n",
       "    </tr>\n",
       "    <tr>\n",
       "      <th>daytime</th>\n",
       "      <td>39.919679</td>\n",
       "      <td>60.080321</td>\n",
       "      <td>0.000000</td>\n",
       "    </tr>\n",
       "    <tr>\n",
       "      <th>out_answer</th>\n",
       "      <td>0.000000</td>\n",
       "      <td>0.000000</td>\n",
       "      <td>100.000000</td>\n",
       "    </tr>\n",
       "    <tr>\n",
       "      <th>any_</th>\n",
       "      <td>37.140470</td>\n",
       "      <td>62.859530</td>\n",
       "      <td>0.000000</td>\n",
       "    </tr>\n",
       "    <tr>\n",
       "      <th>verb_pron_adj</th>\n",
       "      <td>38.336144</td>\n",
       "      <td>61.663856</td>\n",
       "      <td>0.000000</td>\n",
       "    </tr>\n",
       "    <tr>\n",
       "      <th>in_answer</th>\n",
       "      <td>0.000000</td>\n",
       "      <td>0.000000</td>\n",
       "      <td>100.000000</td>\n",
       "    </tr>\n",
       "    <tr>\n",
       "      <th>what_color</th>\n",
       "      <td>0.000000</td>\n",
       "      <td>0.000000</td>\n",
       "      <td>100.000000</td>\n",
       "    </tr>\n",
       "    <tr>\n",
       "      <th>is_noun_adj</th>\n",
       "      <td>43.274656</td>\n",
       "      <td>56.725344</td>\n",
       "      <td>0.000000</td>\n",
       "    </tr>\n",
       "    <tr>\n",
       "      <th>what_kind</th>\n",
       "      <td>0.000000</td>\n",
       "      <td>0.000000</td>\n",
       "      <td>100.000000</td>\n",
       "    </tr>\n",
       "    <tr>\n",
       "      <th>cloudy</th>\n",
       "      <td>35.561268</td>\n",
       "      <td>64.438732</td>\n",
       "      <td>0.000000</td>\n",
       "    </tr>\n",
       "    <tr>\n",
       "      <th>look_adj</th>\n",
       "      <td>50.000000</td>\n",
       "      <td>50.000000</td>\n",
       "      <td>0.000000</td>\n",
       "    </tr>\n",
       "    <tr>\n",
       "      <th>what_is</th>\n",
       "      <td>0.000000</td>\n",
       "      <td>0.000000</td>\n",
       "      <td>100.000000</td>\n",
       "    </tr>\n",
       "    <tr>\n",
       "      <th>have</th>\n",
       "      <td>49.969825</td>\n",
       "      <td>50.030175</td>\n",
       "      <td>0.000000</td>\n",
       "    </tr>\n",
       "    <tr>\n",
       "      <th>daytime_answer</th>\n",
       "      <td>0.000000</td>\n",
       "      <td>0.000000</td>\n",
       "      <td>100.000000</td>\n",
       "    </tr>\n",
       "    <tr>\n",
       "      <th>image_in_color</th>\n",
       "      <td>50.000000</td>\n",
       "      <td>50.000000</td>\n",
       "      <td>0.000000</td>\n",
       "    </tr>\n",
       "    <tr>\n",
       "      <th>verb_pron_obj</th>\n",
       "      <td>48.708060</td>\n",
       "      <td>51.291940</td>\n",
       "      <td>0.000000</td>\n",
       "    </tr>\n",
       "    <tr>\n",
       "      <th>caption</th>\n",
       "      <td>0.000000</td>\n",
       "      <td>0.000000</td>\n",
       "      <td>100.000000</td>\n",
       "    </tr>\n",
       "    <tr>\n",
       "      <th>is_it</th>\n",
       "      <td>46.667434</td>\n",
       "      <td>53.332566</td>\n",
       "      <td>0.000000</td>\n",
       "    </tr>\n",
       "    <tr>\n",
       "      <th>noun_noun</th>\n",
       "      <td>37.533735</td>\n",
       "      <td>62.466265</td>\n",
       "      <td>0.000000</td>\n",
       "    </tr>\n",
       "    <tr>\n",
       "      <th>can_you_see</th>\n",
       "      <td>49.926757</td>\n",
       "      <td>50.073243</td>\n",
       "      <td>0.000000</td>\n",
       "    </tr>\n",
       "    <tr>\n",
       "      <th>pron_prep</th>\n",
       "      <td>50.700280</td>\n",
       "      <td>49.299720</td>\n",
       "      <td>0.000000</td>\n",
       "    </tr>\n",
       "    <tr>\n",
       "      <th>adj_or_adj</th>\n",
       "      <td>0.000000</td>\n",
       "      <td>0.000000</td>\n",
       "      <td>100.000000</td>\n",
       "    </tr>\n",
       "    <tr>\n",
       "      <th>noun_</th>\n",
       "      <td>74.247436</td>\n",
       "      <td>25.752564</td>\n",
       "      <td>0.000000</td>\n",
       "    </tr>\n",
       "    <tr>\n",
       "      <th>male/female</th>\n",
       "      <td>0.000000</td>\n",
       "      <td>0.000000</td>\n",
       "      <td>100.000000</td>\n",
       "    </tr>\n",
       "  </tbody>\n",
       "</table>\n",
       "</div>"
      ],
      "text/plain": [
       "                positive_polarity  negative_polarity     neutral\n",
       "is_np_np                44.551724          50.942529    4.505747\n",
       "look_like               50.000000          50.000000    0.000000\n",
       "noun_prep_noun          49.809112          50.190888    0.000000\n",
       "is_inside               29.292929          70.707071    0.000000\n",
       "noun_verb_noun          49.714872          50.285128    0.000000\n",
       "no_people                0.000000           0.000000  100.000000\n",
       "sunny                   48.796723          51.203277    0.000000\n",
       "weather                  0.000000           0.000000  100.000000\n",
       "noun_verb               48.827200          51.172800    0.000000\n",
       "there                   44.003306          55.996694    0.000000\n",
       "sunny/cloudy             0.000000           0.000000  100.000000\n",
       "daytime                 39.919679          60.080321    0.000000\n",
       "out_answer               0.000000           0.000000  100.000000\n",
       "any_                    37.140470          62.859530    0.000000\n",
       "verb_pron_adj           38.336144          61.663856    0.000000\n",
       "in_answer                0.000000           0.000000  100.000000\n",
       "what_color               0.000000           0.000000  100.000000\n",
       "is_noun_adj             43.274656          56.725344    0.000000\n",
       "what_kind                0.000000           0.000000  100.000000\n",
       "cloudy                  35.561268          64.438732    0.000000\n",
       "look_adj                50.000000          50.000000    0.000000\n",
       "what_is                  0.000000           0.000000  100.000000\n",
       "have                    49.969825          50.030175    0.000000\n",
       "daytime_answer           0.000000           0.000000  100.000000\n",
       "image_in_color          50.000000          50.000000    0.000000\n",
       "verb_pron_obj           48.708060          51.291940    0.000000\n",
       "caption                  0.000000           0.000000  100.000000\n",
       "is_it                   46.667434          53.332566    0.000000\n",
       "noun_noun               37.533735          62.466265    0.000000\n",
       "can_you_see             49.926757          50.073243    0.000000\n",
       "pron_prep               50.700280          49.299720    0.000000\n",
       "adj_or_adj               0.000000           0.000000  100.000000\n",
       "noun_                   74.247436          25.752564    0.000000\n",
       "male/female              0.000000           0.000000  100.000000"
      ]
     },
     "execution_count": 24,
     "metadata": {},
     "output_type": "execute_result"
    }
   ],
   "source": [
    "df = pd.DataFrame(data=d_cross, index=rules)\n",
    "df.style.set_caption(\"Distribution of polarity per rule\")\n",
    "df"
   ]
  },
  {
   "cell_type": "markdown",
   "metadata": {},
   "source": [
    "### A thinks it's true or false?"
   ]
  },
  {
   "cell_type": "markdown",
   "metadata": {},
   "source": [
    "This is balanced by constrution. Each probe has an entailment and a contradiction. The balanced training set also ensures that for each probe that is an entailment of A's perpective with respect an image, another case is included where the same probe contradict A's perspective with respect to another image."
   ]
  },
  {
   "cell_type": "code",
   "execution_count": 25,
   "metadata": {},
   "outputs": [
    {
     "data": {
      "text/html": [
       "<div>\n",
       "<style scoped>\n",
       "    .dataframe tbody tr th:only-of-type {\n",
       "        vertical-align: middle;\n",
       "    }\n",
       "\n",
       "    .dataframe tbody tr th {\n",
       "        vertical-align: top;\n",
       "    }\n",
       "\n",
       "    .dataframe thead th {\n",
       "        text-align: right;\n",
       "    }\n",
       "</style>\n",
       "<table border=\"1\" class=\"dataframe\">\n",
       "  <thead>\n",
       "    <tr style=\"text-align: right;\">\n",
       "      <th></th>\n",
       "      <th>train</th>\n",
       "      <th>val</th>\n",
       "      <th>test</th>\n",
       "    </tr>\n",
       "  </thead>\n",
       "  <tbody>\n",
       "    <tr>\n",
       "      <th>0</th>\n",
       "      <td>50.0</td>\n",
       "      <td>50.0</td>\n",
       "      <td>50.0</td>\n",
       "    </tr>\n",
       "    <tr>\n",
       "      <th>1</th>\n",
       "      <td>50.0</td>\n",
       "      <td>50.0</td>\n",
       "      <td>50.0</td>\n",
       "    </tr>\n",
       "  </tbody>\n",
       "</table>\n",
       "</div>"
      ],
      "text/plain": [
       "   train   val  test\n",
       "0   50.0  50.0  50.0\n",
       "1   50.0  50.0  50.0"
      ]
     },
     "execution_count": 25,
     "metadata": {},
     "output_type": "execute_result"
    }
   ],
   "source": [
    "prop_a_thinks_TF = {}\n",
    "\n",
    "for split in SPLITS:\n",
    "    prop_a_thinks_TF[split] = Counter([p['a_thinks_true'] for dialogue in propositions[split].values() for p in dialogue.values()])\n",
    "\n",
    "TF = [0, 1]\n",
    "\n",
    "d_a_thinks_TF = {split: [prop_a_thinks_TF[split][t]*100 / sum(prop_a_thinks_TF[split].values()) for t in TF] for split in SPLITS}\n",
    "\n",
    "df_a_thinks_TF = pd.DataFrame(data=d_a_thinks_TF, index=TF)\n",
    "df_a_thinks_TF.style.set_caption(\"Proportion of propositions that the answerer considers true or false\")\n",
    "df_a_thinks_TF"
   ]
  },
  {
   "cell_type": "markdown",
   "metadata": {},
   "source": [
    "## Diversity"
   ]
  },
  {
   "cell_type": "code",
   "execution_count": 26,
   "metadata": {},
   "outputs": [],
   "source": [
    "uniq_props = {}\n",
    "for split in SPLITS:\n",
    "    uniq_props[split] = Counter(p['proposition'] for dialogue in propositions[split].values() for p in dialogue.values())"
   ]
  },
  {
   "cell_type": "markdown",
   "metadata": {},
   "source": [
    "Proportion of most common propositions on train set:"
   ]
  },
  {
   "cell_type": "code",
   "execution_count": 27,
   "metadata": {
    "scrolled": true
   },
   "outputs": [
    {
     "name": "stdout",
     "output_type": "stream",
     "text": [
      "TRAIN\n",
      "0.58 \t one cannot see any trees.\n",
      "0.58 \t there are people.\n",
      "0.58 \t there are no people.\n",
      "0.58 \t one cannot see any buildings.\n",
      "0.58 \t one can see trees.\n",
      "0.58 \t one can see buildings.\n",
      "0.58 \t there are no trees.\n",
      "0.58 \t it is sunny.\n",
      "0.58 \t it is not sunny.\n",
      "0.58 \t there are no buildings.\n",
      "0.58 \t there are buildings.\n",
      "0.58 \t one cannot see any sky.\n",
      "0.58 \t one can see a sky.\n",
      "0.58 \t there are trees.\n",
      "0.57 \t one cannot see any people.\n",
      "0.57 \t one can see people.\n",
      "0.56 \t one can see grass.\n",
      "0.56 \t one cannot see any grass.\n",
      "0.54 \t one can see a floor.\n",
      "0.54 \t one cannot see any floor.\n",
      "VAL\n",
      "1.36 \t it is sunny.\n",
      "1.36 \t it is not sunny.\n",
      "1.21 \t it is not daytime.\n",
      "1.21 \t it is daytime.\n",
      "0.94 \t there are no people.\n",
      "0.94 \t there are people.\n",
      "0.65 \t one cannot see any people.\n",
      "0.65 \t one can see people.\n",
      "0.6 \t the picture is in color.\n",
      "0.6 \t the picture is not in color.\n",
      "0.55 \t one cannot see any sky.\n",
      "0.55 \t one can see a sky.\n",
      "0.52 \t the image is in color.\n",
      "0.52 \t the image is not in color.\n",
      "0.47 \t the photo is in color.\n",
      "0.47 \t the photo is not in color.\n",
      "0.46 \t there are no trees.\n",
      "0.46 \t there are trees.\n",
      "0.37 \t one cannot see any trees.\n",
      "0.37 \t one can see trees.\n",
      "TEST\n",
      "1.24 \t it is daytime.\n",
      "1.24 \t it is not daytime.\n",
      "1.2 \t there are people.\n",
      "1.2 \t there are no people.\n",
      "1.02 \t the picture is not in color.\n",
      "1.02 \t the picture is in color.\n",
      "1.01 \t it is sunny.\n",
      "1.01 \t it is not sunny.\n",
      "0.97 \t the image is in color.\n",
      "0.97 \t the image is not in color.\n",
      "0.86 \t the photo is in color.\n",
      "0.86 \t the photo is not in color.\n",
      "0.69 \t one cannot see any people.\n",
      "0.69 \t one can see people.\n",
      "0.42 \t one cannot see any sky.\n",
      "0.42 \t one can see a sky.\n",
      "0.36 \t there are trees.\n",
      "0.36 \t there are no trees.\n",
      "0.29 \t there are no people around.\n",
      "0.29 \t there are people around.\n"
     ]
    }
   ],
   "source": [
    "for split in SPLITS:\n",
    "    print(split.upper())\n",
    "    total = sum(uniq_props[split].values())\n",
    "    for p, freq in uniq_props[split].most_common(20):\n",
    "        print(round(100*freq/total, 2), '\\t', p)"
   ]
  },
  {
   "cell_type": "code",
   "execution_count": 28,
   "metadata": {},
   "outputs": [
    {
     "name": "stdout",
     "output_type": "stream",
     "text": [
      "37.20949535192563% of the val propositions appear on the train propositions.\n",
      "31.58525778032633% of the test propositions appear on the train propositions.\n"
     ]
    }
   ],
   "source": [
    "for split in ['val', 'test']:\n",
    "    proportion = 100*len(set(uniq_props[split].keys()).intersection(uniq_props['train'].keys())) / len(uniq_props[split])\n",
    "    print(f'{proportion}% of the {split} propositions appear on the train propositions.')"
   ]
  },
  {
   "cell_type": "markdown",
   "metadata": {},
   "source": [
    "## Sizes"
   ]
  },
  {
   "cell_type": "code",
   "execution_count": 29,
   "metadata": {},
   "outputs": [],
   "source": [
    "vocab = Counter()\n",
    "separate_vocab = {'train': Counter(), 'val': Counter(), 'test': Counter()}\n",
    "for split in ['train', 'val', 'test']:\n",
    "    for d, dialogue in propositions[split].items():\n",
    "        for p, prop in dialogue.items():\n",
    "            vocab.update(prop['proposition'].strip('.').split())\n",
    "            separate_vocab[split].update(prop['proposition'].strip('.').split())"
   ]
  },
  {
   "cell_type": "code",
   "execution_count": 30,
   "metadata": {},
   "outputs": [],
   "source": [
    "size = {}\n",
    "vocabs = {}\n",
    "number_of_props = {}\n",
    "\n",
    "for split in SPLITS:\n",
    "    size[split] = len(propositions[split])\n",
    "    vocabs[split] = len(separate_vocab[split])\n",
    "    number_of_props[split] = sum([len(dialogue.values()) for dialogue in propositions[split].values()])"
   ]
  },
  {
   "cell_type": "code",
   "execution_count": 31,
   "metadata": {},
   "outputs": [],
   "source": [
    "datapoints = {}\n",
    "datapoints['train'] = number_of_props['train'] * 11\n",
    "datapoints['val'] = number_of_props['val'] * 11\n"
   ]
  },
  {
   "cell_type": "code",
   "execution_count": 32,
   "metadata": {},
   "outputs": [],
   "source": [
    "total_datapoints_test = 0\n",
    "with open('propositions/visdial_1.0_test_dialogueLens.txt', 'r') as file:\n",
    "    lines = file.readlines()\n",
    "    for line in lines:\n",
    "        idx, dialogue_len = line.strip('\\n').split('\\t')\n",
    "        if idx in propositions['test']:\n",
    "            n_props = len(propositions['test'][idx])\n",
    "            total_datapoints_test += n_props * int(dialogue_len)\n",
    "\n",
    "datapoints['test'] = total_datapoints_test "
   ]
  },
  {
   "cell_type": "code",
   "execution_count": 33,
   "metadata": {},
   "outputs": [],
   "source": [
    "types = ['dialogues', 'propositions', 'proposition types', 'datapoints', 'vocab size']\n",
    "\n",
    "data_table = {split: [size[split], number_of_props[split], len(uniq_props[split]), datapoints[split], vocabs[split]]\n",
    "     for split in SPLITS}"
   ]
  },
  {
   "cell_type": "code",
   "execution_count": 34,
   "metadata": {},
   "outputs": [
    {
     "data": {
      "text/html": [
       "<div>\n",
       "<style scoped>\n",
       "    .dataframe tbody tr th:only-of-type {\n",
       "        vertical-align: middle;\n",
       "    }\n",
       "\n",
       "    .dataframe tbody tr th {\n",
       "        vertical-align: top;\n",
       "    }\n",
       "\n",
       "    .dataframe thead th {\n",
       "        text-align: right;\n",
       "    }\n",
       "</style>\n",
       "<table border=\"1\" class=\"dataframe\">\n",
       "  <thead>\n",
       "    <tr style=\"text-align: right;\">\n",
       "      <th></th>\n",
       "      <th>train</th>\n",
       "      <th>val</th>\n",
       "      <th>test</th>\n",
       "    </tr>\n",
       "  </thead>\n",
       "  <tbody>\n",
       "    <tr>\n",
       "      <th>dialogues</th>\n",
       "      <td>95369</td>\n",
       "      <td>1979</td>\n",
       "      <td>6880</td>\n",
       "    </tr>\n",
       "    <tr>\n",
       "      <th>propositions</th>\n",
       "      <td>344988</td>\n",
       "      <td>23060</td>\n",
       "      <td>44954</td>\n",
       "    </tr>\n",
       "    <tr>\n",
       "      <th>proposition types</th>\n",
       "      <td>27011</td>\n",
       "      <td>12048</td>\n",
       "      <td>19183</td>\n",
       "    </tr>\n",
       "    <tr>\n",
       "      <th>datapoints</th>\n",
       "      <td>3794868</td>\n",
       "      <td>253660</td>\n",
       "      <td>312102</td>\n",
       "    </tr>\n",
       "    <tr>\n",
       "      <th>vocab size</th>\n",
       "      <td>2709</td>\n",
       "      <td>2168</td>\n",
       "      <td>2922</td>\n",
       "    </tr>\n",
       "  </tbody>\n",
       "</table>\n",
       "</div>"
      ],
      "text/plain": [
       "                     train     val    test\n",
       "dialogues            95369    1979    6880\n",
       "propositions        344988   23060   44954\n",
       "proposition types    27011   12048   19183\n",
       "datapoints         3794868  253660  312102\n",
       "vocab size            2709    2168    2922"
      ]
     },
     "execution_count": 34,
     "metadata": {},
     "output_type": "execute_result"
    }
   ],
   "source": [
    "df = pd.DataFrame(data=data_table, index=types)\n",
    "df.style.set_caption(\"Dataset sizes\")\n",
    "df"
   ]
  },
  {
   "cell_type": "code",
   "execution_count": 35,
   "metadata": {},
   "outputs": [
    {
     "name": "stdout",
     "output_type": "stream",
     "text": [
      "\\begin{tabular}{lrrr}\n",
      "\\toprule\n",
      "{} &    train &     val &    test \\\\\n",
      "\\midrule\n",
      "dialogues         &    95369 &    1979 &    6880 \\\\\n",
      "propositions      &   344988 &   23060 &   44954 \\\\\n",
      "proposition types &    27011 &   12048 &   19183 \\\\\n",
      "datapoints        &  3794868 &  253660 &  312102 \\\\\n",
      "vocab size        &     2709 &    2168 &    2922 \\\\\n",
      "\\bottomrule\n",
      "\\end{tabular}\n",
      "\n"
     ]
    }
   ],
   "source": [
    "print(df.to_latex())"
   ]
  },
  {
   "cell_type": "markdown",
   "metadata": {},
   "source": [
    "## Classes distribution"
   ]
  },
  {
   "cell_type": "markdown",
   "metadata": {},
   "source": [
    "Verifying the distribution of classes on the splits:"
   ]
  },
  {
   "cell_type": "code",
   "execution_count": 36,
   "metadata": {},
   "outputs": [],
   "source": [
    "# Functions from the main_task dataloader class\n",
    "\n",
    "labels = {(1, 1): 0,  # 'a thinks true and shared'\n",
    "          (0, 1): 1,  # 'a thinks false and shared'\n",
    "          (1, 0): 2,  # 'a thinks true and private'\n",
    "          (0, 0): 3,  # 'a thinks false and private'\n",
    "          }\n",
    "id2labels = {0: 'a_thinks_true and shared',   1: 'a_thinks_false and shared',\n",
    "                2: 'a_thinks_true and private',  3: 'a_thinks_false and private'}\n",
    "\n",
    "def create_labels(a_thinks_true, turn, n_turns):\n",
    "    lbs = [labels[(a_thinks_true, 0)] if x < turn else labels[(a_thinks_true, 1)]\n",
    "              for x in range(n_turns)]\n",
    "    return lbs\n",
    "\n",
    "def create_new_items(n_items, n_turns, labels, idx_d, idx_p):\n",
    "    \"\"\"Return a list with new datapoints.\"\"\"\n",
    "    # global id, unique identifier for each element\n",
    "    ids = list(range(n_items, n_items + n_turns))\n",
    "    # original dialogue id\n",
    "    d_ids = [int(idx_d)] * n_turns\n",
    "    # original proposition/probe id\n",
    "    p_ids = [int(idx_p)] * n_turns\n",
    "    # dialogue turns\n",
    "    turns = list(range(n_turns))\n",
    "    return zip(ids, d_ids, p_ids, turns, labels)"
   ]
  },
  {
   "cell_type": "code",
   "execution_count": 37,
   "metadata": {},
   "outputs": [],
   "source": [
    "datapoint_classes = {'train': {}, 'val':{}, 'test':{}}\n",
    "\n",
    "n_datapoints_test = 0\n",
    "\n",
    "for split in ('train', 'val', 'test'):\n",
    "    for idx_d, dialogue in propositions[split].items():\n",
    "        \n",
    "        n_turns = len(datasets[split][int(idx_d)]['dialog']) + 1 # add one because of caption\n",
    "        if split == 'test':\n",
    "            n_turns -= 1 # because last question has no answer\n",
    "        \n",
    "        for idx_p, prop in dialogue.items():\n",
    "\n",
    "            a_thinks_true = prop['a_thinks_true']\n",
    "            turn_shared = prop['turn_shared']\n",
    "\n",
    "            classes = create_labels(a_thinks_true, turn_shared, n_turns)\n",
    "            n_items = len(datapoint_classes[split])\n",
    "\n",
    "            new_items = create_new_items(n_items, n_turns, classes, idx_d, idx_p)\n",
    "\n",
    "            datapoint_classes[split].update({x[0]: x[1:] for x in new_items})\n",
    "            \n",
    "        if split == 'test':\n",
    "            n_datapoints_test += (n_turns * len(dialogue))\n",
    "    \n",
    "assert len(datapoint_classes['val']) == np.sum(number_of_props['val']) * 11\n",
    "assert len(datapoint_classes['train']) == np.sum(number_of_props['train']) * 11\n",
    "assert len(datapoint_classes['test']) == n_datapoints_test"
   ]
  },
  {
   "cell_type": "markdown",
   "metadata": {},
   "source": [
    "Checking why valid labels are not more balanced. It's because of the captions."
   ]
  },
  {
   "cell_type": "code",
   "execution_count": 38,
   "metadata": {},
   "outputs": [],
   "source": [
    "c_val = Counter([p['turn_shared'] for props in propositions['val'].values() for p in props.values()])"
   ]
  },
  {
   "cell_type": "markdown",
   "metadata": {},
   "source": [
    "Shared datapoints:"
   ]
  },
  {
   "cell_type": "code",
   "execution_count": 39,
   "metadata": {},
   "outputs": [
    {
     "data": {
      "text/plain": [
       "[22858, 22060, 17586, 15456, 14770, 12816, 10230, 8504, 6576, 4228, 2166]"
      ]
     },
     "execution_count": 39,
     "metadata": {},
     "output_type": "execute_result"
    }
   ],
   "source": [
    "[c_val[i]*(11-i) for i in range(11)]"
   ]
  },
  {
   "cell_type": "markdown",
   "metadata": {},
   "source": [
    "Private datapoints:"
   ]
  },
  {
   "cell_type": "code",
   "execution_count": 40,
   "metadata": {},
   "outputs": [
    {
     "data": {
      "text/plain": [
       "[0, 2206, 3908, 5796, 8440, 10680, 12276, 14882, 17536, 19026, 21660]"
      ]
     },
     "execution_count": 40,
     "metadata": {},
     "output_type": "execute_result"
    }
   ],
   "source": [
    "[c_val[i]*(i) for i in range(11)]"
   ]
  },
  {
   "cell_type": "markdown",
   "metadata": {},
   "source": [
    "Captions are always shared, so the first element is 0 in the private datapoints."
   ]
  },
  {
   "cell_type": "code",
   "execution_count": 41,
   "metadata": {},
   "outputs": [],
   "source": [
    "idx_of_class = 3 # in tuples (d_ids, p_ids, turns, labels)\n",
    "\n",
    "classes_train = Counter([c[idx_of_class] for c in datapoint_classes['train'].values()])\n",
    "classes_val = Counter([c[idx_of_class] for c in datapoint_classes['val'].values()])\n",
    "classes_test = Counter([c[idx_of_class] for c in datapoint_classes['test'].values()])"
   ]
  },
  {
   "cell_type": "code",
   "execution_count": 42,
   "metadata": {
    "scrolled": true
   },
   "outputs": [],
   "source": [
    "types = [key for key in classes_train.keys()]\n",
    "\n",
    "d = {'train': [100*classes_train[c]/len(datapoint_classes['train']) for c in types],\n",
    "    'val': [100*classes_val[c]/len(datapoint_classes['val']) for c in types],\n",
    "    'test': [100*classes_test[c]/len(datapoint_classes['test']) for c in types]\n",
    "    }\n",
    "\n",
    "types = [id2labels[key] for key in types]"
   ]
  },
  {
   "cell_type": "code",
   "execution_count": 43,
   "metadata": {
    "scrolled": true
   },
   "outputs": [
    {
     "data": {
      "text/html": [
       "<div>\n",
       "<style scoped>\n",
       "    .dataframe tbody tr th:only-of-type {\n",
       "        vertical-align: middle;\n",
       "    }\n",
       "\n",
       "    .dataframe tbody tr th {\n",
       "        vertical-align: top;\n",
       "    }\n",
       "\n",
       "    .dataframe thead th {\n",
       "        text-align: right;\n",
       "    }\n",
       "</style>\n",
       "<table border=\"1\" class=\"dataframe\">\n",
       "  <thead>\n",
       "    <tr style=\"text-align: right;\">\n",
       "      <th></th>\n",
       "      <th>train</th>\n",
       "      <th>val</th>\n",
       "      <th>test</th>\n",
       "    </tr>\n",
       "  </thead>\n",
       "  <tbody>\n",
       "    <tr>\n",
       "      <th>a_thinks_false and private</th>\n",
       "      <td>26.083463</td>\n",
       "      <td>22.94607</td>\n",
       "      <td>21.428251</td>\n",
       "    </tr>\n",
       "    <tr>\n",
       "      <th>a_thinks_false and shared</th>\n",
       "      <td>23.916537</td>\n",
       "      <td>27.05393</td>\n",
       "      <td>28.571749</td>\n",
       "    </tr>\n",
       "    <tr>\n",
       "      <th>a_thinks_true and private</th>\n",
       "      <td>26.128023</td>\n",
       "      <td>22.94607</td>\n",
       "      <td>21.428251</td>\n",
       "    </tr>\n",
       "    <tr>\n",
       "      <th>a_thinks_true and shared</th>\n",
       "      <td>23.871977</td>\n",
       "      <td>27.05393</td>\n",
       "      <td>28.571749</td>\n",
       "    </tr>\n",
       "  </tbody>\n",
       "</table>\n",
       "</div>"
      ],
      "text/plain": [
       "                                train       val       test\n",
       "a_thinks_false and private  26.083463  22.94607  21.428251\n",
       "a_thinks_false and shared   23.916537  27.05393  28.571749\n",
       "a_thinks_true and private   26.128023  22.94607  21.428251\n",
       "a_thinks_true and shared    23.871977  27.05393  28.571749"
      ]
     },
     "execution_count": 43,
     "metadata": {},
     "output_type": "execute_result"
    }
   ],
   "source": [
    "df = pd.DataFrame(data=d, index=types)\n",
    "df.style.set_caption(\"Distribution of classes\")\n",
    "df"
   ]
  },
  {
   "cell_type": "code",
   "execution_count": 44,
   "metadata": {},
   "outputs": [
    {
     "name": "stdout",
     "output_type": "stream",
     "text": [
      "\\begin{tabular}{lrrr}\n",
      "\\toprule\n",
      "{} &      train &       val &       test \\\\\n",
      "\\midrule\n",
      "a\\_thinks\\_false and private &  26.083463 &  22.94607 &  21.428251 \\\\\n",
      "a\\_thinks\\_false and shared  &  23.916537 &  27.05393 &  28.571749 \\\\\n",
      "a\\_thinks\\_true and private  &  26.128023 &  22.94607 &  21.428251 \\\\\n",
      "a\\_thinks\\_true and shared   &  23.871977 &  27.05393 &  28.571749 \\\\\n",
      "\\bottomrule\n",
      "\\end{tabular}\n",
      "\n"
     ]
    }
   ],
   "source": [
    "print(df.to_latex())"
   ]
  },
  {
   "cell_type": "code",
   "execution_count": 45,
   "metadata": {},
   "outputs": [
    {
     "name": "stdout",
     "output_type": "stream",
     "text": [
      "There are 3,794,868 items on the train set, 253,660 on the val set and 312,102 on the test set.\n"
     ]
    }
   ],
   "source": [
    "print('There are {:,} items on the train set, {:,} on the val set and {:,} on the test set.'.format(\n",
    "    len(datapoint_classes['train']), len(datapoint_classes['val']), len(datapoint_classes['test'])))"
   ]
  },
  {
   "cell_type": "code",
   "execution_count": 46,
   "metadata": {},
   "outputs": [],
   "source": [
    "classes_per_turn = {'train': {x:Counter() for x in range(11)}, \n",
    "                    'val':{x:Counter() for x in range(11)}, \n",
    "                    'test':{x:Counter() for x in range(11)}}\n",
    "\n",
    "for split in ('train', 'val', 'test'):\n",
    "    for global_idx, (d_idx, p_idx, turn, label) in datapoint_classes[split].items():\n",
    "        classes_per_turn[split][turn].update([label])"
   ]
  },
  {
   "cell_type": "markdown",
   "metadata": {},
   "source": [
    "On turn 10, everything is shared. On turn 0, everything is private except for captions."
   ]
  },
  {
   "cell_type": "code",
   "execution_count": 47,
   "metadata": {},
   "outputs": [
    {
     "data": {
      "text/html": [
       "<div>\n",
       "<style scoped>\n",
       "    .dataframe tbody tr th:only-of-type {\n",
       "        vertical-align: middle;\n",
       "    }\n",
       "\n",
       "    .dataframe tbody tr th {\n",
       "        vertical-align: top;\n",
       "    }\n",
       "\n",
       "    .dataframe thead th {\n",
       "        text-align: right;\n",
       "    }\n",
       "</style>\n",
       "<table border=\"1\" class=\"dataframe\">\n",
       "  <thead>\n",
       "    <tr style=\"text-align: right;\">\n",
       "      <th></th>\n",
       "      <th>a_thinks_true and shared</th>\n",
       "      <th>a_thinks_false and shared</th>\n",
       "      <th>a_thinks_true and private</th>\n",
       "      <th>a_thinks_false and private</th>\n",
       "    </tr>\n",
       "  </thead>\n",
       "  <tbody>\n",
       "    <tr>\n",
       "      <th>0</th>\n",
       "      <td>2.396025</td>\n",
       "      <td>2.495739</td>\n",
       "      <td>47.603975</td>\n",
       "      <td>47.504261</td>\n",
       "    </tr>\n",
       "    <tr>\n",
       "      <th>1</th>\n",
       "      <td>5.322794</td>\n",
       "      <td>5.391782</td>\n",
       "      <td>44.677206</td>\n",
       "      <td>44.608218</td>\n",
       "    </tr>\n",
       "    <tr>\n",
       "      <th>2</th>\n",
       "      <td>8.676824</td>\n",
       "      <td>8.756826</td>\n",
       "      <td>41.323176</td>\n",
       "      <td>41.243174</td>\n",
       "    </tr>\n",
       "    <tr>\n",
       "      <th>3</th>\n",
       "      <td>12.658991</td>\n",
       "      <td>12.753487</td>\n",
       "      <td>37.341009</td>\n",
       "      <td>37.246513</td>\n",
       "    </tr>\n",
       "    <tr>\n",
       "      <th>4</th>\n",
       "      <td>17.219150</td>\n",
       "      <td>17.316254</td>\n",
       "      <td>32.780850</td>\n",
       "      <td>32.683746</td>\n",
       "    </tr>\n",
       "    <tr>\n",
       "      <th>5</th>\n",
       "      <td>22.231208</td>\n",
       "      <td>22.280775</td>\n",
       "      <td>27.768792</td>\n",
       "      <td>27.719225</td>\n",
       "    </tr>\n",
       "    <tr>\n",
       "      <th>6</th>\n",
       "      <td>27.544726</td>\n",
       "      <td>27.587626</td>\n",
       "      <td>22.455274</td>\n",
       "      <td>22.412374</td>\n",
       "    </tr>\n",
       "    <tr>\n",
       "      <th>7</th>\n",
       "      <td>33.108108</td>\n",
       "      <td>33.122312</td>\n",
       "      <td>16.891892</td>\n",
       "      <td>16.877688</td>\n",
       "    </tr>\n",
       "    <tr>\n",
       "      <th>8</th>\n",
       "      <td>38.815263</td>\n",
       "      <td>38.794393</td>\n",
       "      <td>11.184737</td>\n",
       "      <td>11.205607</td>\n",
       "    </tr>\n",
       "    <tr>\n",
       "      <th>9</th>\n",
       "      <td>44.618653</td>\n",
       "      <td>44.582710</td>\n",
       "      <td>5.381347</td>\n",
       "      <td>5.417290</td>\n",
       "    </tr>\n",
       "    <tr>\n",
       "      <th>10</th>\n",
       "      <td>50.000000</td>\n",
       "      <td>50.000000</td>\n",
       "      <td>0.000000</td>\n",
       "      <td>0.000000</td>\n",
       "    </tr>\n",
       "  </tbody>\n",
       "</table>\n",
       "</div>"
      ],
      "text/plain": [
       "    a_thinks_true and shared  a_thinks_false and shared  \\\n",
       "0                   2.396025                   2.495739   \n",
       "1                   5.322794                   5.391782   \n",
       "2                   8.676824                   8.756826   \n",
       "3                  12.658991                  12.753487   \n",
       "4                  17.219150                  17.316254   \n",
       "5                  22.231208                  22.280775   \n",
       "6                  27.544726                  27.587626   \n",
       "7                  33.108108                  33.122312   \n",
       "8                  38.815263                  38.794393   \n",
       "9                  44.618653                  44.582710   \n",
       "10                 50.000000                  50.000000   \n",
       "\n",
       "    a_thinks_true and private  a_thinks_false and private  \n",
       "0                   47.603975                   47.504261  \n",
       "1                   44.677206                   44.608218  \n",
       "2                   41.323176                   41.243174  \n",
       "3                   37.341009                   37.246513  \n",
       "4                   32.780850                   32.683746  \n",
       "5                   27.768792                   27.719225  \n",
       "6                   22.455274                   22.412374  \n",
       "7                   16.891892                   16.877688  \n",
       "8                   11.184737                   11.205607  \n",
       "9                    5.381347                    5.417290  \n",
       "10                   0.000000                    0.000000  "
      ]
     },
     "execution_count": 47,
     "metadata": {},
     "output_type": "execute_result"
    }
   ],
   "source": [
    "indexes = [0, 1, 2, 3]\n",
    "\n",
    "split = 'train'\n",
    "df = pd.DataFrame(columns=[id2labels[x] for x in indexes])\n",
    "for turn in range(11):\n",
    "    total = sum(classes_per_turn[split][turn].values())\n",
    "    values = [100*classes_per_turn[split][turn][idx] / total for idx in indexes]\n",
    "    df.loc[turn] = values\n",
    "df"
   ]
  },
  {
   "cell_type": "markdown",
   "metadata": {},
   "source": [
    "There is a roughly balanced division between private and shared around turns 5-6 on the training set."
   ]
  },
  {
   "cell_type": "code",
   "execution_count": 48,
   "metadata": {},
   "outputs": [
    {
     "data": {
      "text/html": [
       "<div>\n",
       "<style scoped>\n",
       "    .dataframe tbody tr th:only-of-type {\n",
       "        vertical-align: middle;\n",
       "    }\n",
       "\n",
       "    .dataframe tbody tr th {\n",
       "        vertical-align: top;\n",
       "    }\n",
       "\n",
       "    .dataframe thead th {\n",
       "        text-align: right;\n",
       "    }\n",
       "</style>\n",
       "<table border=\"1\" class=\"dataframe\">\n",
       "  <thead>\n",
       "    <tr style=\"text-align: right;\">\n",
       "      <th></th>\n",
       "      <th>a_thinks_true and shared</th>\n",
       "      <th>a_thinks_false and shared</th>\n",
       "      <th>a_thinks_true and private</th>\n",
       "      <th>a_thinks_false and private</th>\n",
       "    </tr>\n",
       "  </thead>\n",
       "  <tbody>\n",
       "    <tr>\n",
       "      <th>0</th>\n",
       "      <td>4.505637</td>\n",
       "      <td>4.505637</td>\n",
       "      <td>45.494363</td>\n",
       "      <td>45.494363</td>\n",
       "    </tr>\n",
       "    <tr>\n",
       "      <th>1</th>\n",
       "      <td>9.288812</td>\n",
       "      <td>9.288812</td>\n",
       "      <td>40.711188</td>\n",
       "      <td>40.711188</td>\n",
       "    </tr>\n",
       "    <tr>\n",
       "      <th>2</th>\n",
       "      <td>13.525585</td>\n",
       "      <td>13.525585</td>\n",
       "      <td>36.474415</td>\n",
       "      <td>36.474415</td>\n",
       "    </tr>\n",
       "    <tr>\n",
       "      <th>3</th>\n",
       "      <td>17.714657</td>\n",
       "      <td>17.714657</td>\n",
       "      <td>32.285343</td>\n",
       "      <td>32.285343</td>\n",
       "    </tr>\n",
       "    <tr>\n",
       "      <th>4</th>\n",
       "      <td>22.289679</td>\n",
       "      <td>22.289679</td>\n",
       "      <td>27.710321</td>\n",
       "      <td>27.710321</td>\n",
       "    </tr>\n",
       "    <tr>\n",
       "      <th>5</th>\n",
       "      <td>26.921075</td>\n",
       "      <td>26.921075</td>\n",
       "      <td>23.078925</td>\n",
       "      <td>23.078925</td>\n",
       "    </tr>\n",
       "    <tr>\n",
       "      <th>6</th>\n",
       "      <td>31.357329</td>\n",
       "      <td>31.357329</td>\n",
       "      <td>18.642671</td>\n",
       "      <td>18.642671</td>\n",
       "    </tr>\n",
       "    <tr>\n",
       "      <th>7</th>\n",
       "      <td>35.967042</td>\n",
       "      <td>35.967042</td>\n",
       "      <td>14.032958</td>\n",
       "      <td>14.032958</td>\n",
       "    </tr>\n",
       "    <tr>\n",
       "      <th>8</th>\n",
       "      <td>40.719861</td>\n",
       "      <td>40.719861</td>\n",
       "      <td>9.280139</td>\n",
       "      <td>9.280139</td>\n",
       "    </tr>\n",
       "    <tr>\n",
       "      <th>9</th>\n",
       "      <td>45.303556</td>\n",
       "      <td>45.303556</td>\n",
       "      <td>4.696444</td>\n",
       "      <td>4.696444</td>\n",
       "    </tr>\n",
       "    <tr>\n",
       "      <th>10</th>\n",
       "      <td>50.000000</td>\n",
       "      <td>50.000000</td>\n",
       "      <td>0.000000</td>\n",
       "      <td>0.000000</td>\n",
       "    </tr>\n",
       "  </tbody>\n",
       "</table>\n",
       "</div>"
      ],
      "text/plain": [
       "    a_thinks_true and shared  a_thinks_false and shared  \\\n",
       "0                   4.505637                   4.505637   \n",
       "1                   9.288812                   9.288812   \n",
       "2                  13.525585                  13.525585   \n",
       "3                  17.714657                  17.714657   \n",
       "4                  22.289679                  22.289679   \n",
       "5                  26.921075                  26.921075   \n",
       "6                  31.357329                  31.357329   \n",
       "7                  35.967042                  35.967042   \n",
       "8                  40.719861                  40.719861   \n",
       "9                  45.303556                  45.303556   \n",
       "10                 50.000000                  50.000000   \n",
       "\n",
       "    a_thinks_true and private  a_thinks_false and private  \n",
       "0                   45.494363                   45.494363  \n",
       "1                   40.711188                   40.711188  \n",
       "2                   36.474415                   36.474415  \n",
       "3                   32.285343                   32.285343  \n",
       "4                   27.710321                   27.710321  \n",
       "5                   23.078925                   23.078925  \n",
       "6                   18.642671                   18.642671  \n",
       "7                   14.032958                   14.032958  \n",
       "8                    9.280139                    9.280139  \n",
       "9                    4.696444                    4.696444  \n",
       "10                   0.000000                    0.000000  "
      ]
     },
     "execution_count": 48,
     "metadata": {},
     "output_type": "execute_result"
    }
   ],
   "source": [
    "indexes = [0, 1, 2, 3]\n",
    "\n",
    "split = 'val'\n",
    "df = pd.DataFrame(columns=[id2labels[x] for x in indexes])\n",
    "for turn in range(11):\n",
    "    total = sum(classes_per_turn[split][turn].values())\n",
    "    values = [100*classes_per_turn[split][turn][idx] / total for idx in indexes]\n",
    "    df.loc[turn] = values\n",
    "df"
   ]
  },
  {
   "cell_type": "markdown",
   "metadata": {},
   "source": [
    "There is a roughly balanced division between private and shared around turns 4-5 on the training set."
   ]
  },
  {
   "cell_type": "code",
   "execution_count": 49,
   "metadata": {},
   "outputs": [
    {
     "data": {
      "text/html": [
       "<div>\n",
       "<style scoped>\n",
       "    .dataframe tbody tr th:only-of-type {\n",
       "        vertical-align: middle;\n",
       "    }\n",
       "\n",
       "    .dataframe tbody tr th {\n",
       "        vertical-align: top;\n",
       "    }\n",
       "\n",
       "    .dataframe thead th {\n",
       "        text-align: right;\n",
       "    }\n",
       "</style>\n",
       "<table border=\"1\" class=\"dataframe\">\n",
       "  <thead>\n",
       "    <tr style=\"text-align: right;\">\n",
       "      <th></th>\n",
       "      <th>a_thinks_true and shared</th>\n",
       "      <th>a_thinks_false and shared</th>\n",
       "      <th>a_thinks_true and private</th>\n",
       "      <th>a_thinks_false and private</th>\n",
       "    </tr>\n",
       "  </thead>\n",
       "  <tbody>\n",
       "    <tr>\n",
       "      <th>0</th>\n",
       "      <td>9.376251</td>\n",
       "      <td>9.376251</td>\n",
       "      <td>40.623749</td>\n",
       "      <td>40.623749</td>\n",
       "    </tr>\n",
       "    <tr>\n",
       "      <th>1</th>\n",
       "      <td>17.451674</td>\n",
       "      <td>17.451674</td>\n",
       "      <td>32.548326</td>\n",
       "      <td>32.548326</td>\n",
       "    </tr>\n",
       "    <tr>\n",
       "      <th>2</th>\n",
       "      <td>23.316001</td>\n",
       "      <td>23.316001</td>\n",
       "      <td>26.683999</td>\n",
       "      <td>26.683999</td>\n",
       "    </tr>\n",
       "    <tr>\n",
       "      <th>3</th>\n",
       "      <td>28.448103</td>\n",
       "      <td>28.448103</td>\n",
       "      <td>21.551897</td>\n",
       "      <td>21.551897</td>\n",
       "    </tr>\n",
       "    <tr>\n",
       "      <th>4</th>\n",
       "      <td>33.039672</td>\n",
       "      <td>33.039672</td>\n",
       "      <td>16.960328</td>\n",
       "      <td>16.960328</td>\n",
       "    </tr>\n",
       "    <tr>\n",
       "      <th>5</th>\n",
       "      <td>37.255871</td>\n",
       "      <td>37.255871</td>\n",
       "      <td>12.744129</td>\n",
       "      <td>12.744129</td>\n",
       "    </tr>\n",
       "    <tr>\n",
       "      <th>6</th>\n",
       "      <td>41.039936</td>\n",
       "      <td>41.039936</td>\n",
       "      <td>8.960064</td>\n",
       "      <td>8.960064</td>\n",
       "    </tr>\n",
       "    <tr>\n",
       "      <th>7</th>\n",
       "      <td>44.380096</td>\n",
       "      <td>44.380096</td>\n",
       "      <td>5.619904</td>\n",
       "      <td>5.619904</td>\n",
       "    </tr>\n",
       "    <tr>\n",
       "      <th>8</th>\n",
       "      <td>47.373644</td>\n",
       "      <td>47.373644</td>\n",
       "      <td>2.626356</td>\n",
       "      <td>2.626356</td>\n",
       "    </tr>\n",
       "    <tr>\n",
       "      <th>9</th>\n",
       "      <td>50.000000</td>\n",
       "      <td>50.000000</td>\n",
       "      <td>0.000000</td>\n",
       "      <td>0.000000</td>\n",
       "    </tr>\n",
       "  </tbody>\n",
       "</table>\n",
       "</div>"
      ],
      "text/plain": [
       "   a_thinks_true and shared  a_thinks_false and shared  \\\n",
       "0                  9.376251                   9.376251   \n",
       "1                 17.451674                  17.451674   \n",
       "2                 23.316001                  23.316001   \n",
       "3                 28.448103                  28.448103   \n",
       "4                 33.039672                  33.039672   \n",
       "5                 37.255871                  37.255871   \n",
       "6                 41.039936                  41.039936   \n",
       "7                 44.380096                  44.380096   \n",
       "8                 47.373644                  47.373644   \n",
       "9                 50.000000                  50.000000   \n",
       "\n",
       "   a_thinks_true and private  a_thinks_false and private  \n",
       "0                  40.623749                   40.623749  \n",
       "1                  32.548326                   32.548326  \n",
       "2                  26.683999                   26.683999  \n",
       "3                  21.551897                   21.551897  \n",
       "4                  16.960328                   16.960328  \n",
       "5                  12.744129                   12.744129  \n",
       "6                   8.960064                    8.960064  \n",
       "7                   5.619904                    5.619904  \n",
       "8                   2.626356                    2.626356  \n",
       "9                   0.000000                    0.000000  "
      ]
     },
     "execution_count": 49,
     "metadata": {},
     "output_type": "execute_result"
    }
   ],
   "source": [
    "indexes = [0, 1, 2, 3]\n",
    "\n",
    "split = 'test'\n",
    "df = pd.DataFrame(columns=[id2labels[x] for x in indexes])\n",
    "for turn in range(10):\n",
    "    total = sum(classes_per_turn[split][turn].values())\n",
    "    values = [100*classes_per_turn[split][turn][idx] / total for idx in indexes]\n",
    "    df.loc[turn] = values\n",
    "df"
   ]
  },
  {
   "cell_type": "markdown",
   "metadata": {},
   "source": [
    "The test set has no turn 10, because it is a question that has no published answer on VisDial competition."
   ]
  },
  {
   "cell_type": "markdown",
   "metadata": {},
   "source": [
    "## In how many dialogues each proposition appears"
   ]
  },
  {
   "cell_type": "code",
   "execution_count": 50,
   "metadata": {},
   "outputs": [],
   "source": [
    "sentences = {'train': {}, 'val': {}, 'test': {}}\n",
    "sentences_status = {'train': {}, 'val': {}, 'test': {}}\n",
    "sent_counters = {}\n",
    "\n",
    "for split in SPLITS:\n",
    "    for dialogue in propositions[split].values(): \n",
    "        for p in dialogue.values():\n",
    "            if p['proposition'] not in sentences[split]:\n",
    "                sentences[split][p['proposition']] = 0\n",
    "                sentences_status[split][p['proposition']] = []\n",
    "            sentences[split][p['proposition']] += 1\n",
    "            sentences_status[split][p['proposition']].append(p['a_thinks_true'])\n",
    "    sent_counters[split] = Counter(list(sentences[split].values()))"
   ]
  },
  {
   "cell_type": "code",
   "execution_count": 51,
   "metadata": {},
   "outputs": [
    {
     "name": "stdout",
     "output_type": "stream",
     "text": [
      "0.0% of the train propositions occur in only one dialogue.\n",
      "82.68592297476759% of the val propositions occur in only one dialogue.\n",
      "79.63822134181306% of the test propositions occur in only one dialogue.\n"
     ]
    }
   ],
   "source": [
    "singletons = {}\n",
    "for split in SPLITS:\n",
    "    singletons[split] = len([x for x in sentences[split].values() if x == 1])\n",
    "    x = 100 * singletons[split] / len(sentences[split])\n",
    "    print(f'{x}% of the {split} propositions occur in only one dialogue.')"
   ]
  },
  {
   "cell_type": "code",
   "execution_count": 52,
   "metadata": {},
   "outputs": [],
   "source": [
    "sentences_with_fixed_truefalse_status = set()\n",
    "for split in SPLITS:\n",
    "    for sentence, status_list in sentences_status[split].items():\n",
    "        if len(set(status_list)) == 1:\n",
    "            sentences_with_fixed_truefalse_status.add(sentence)"
   ]
  },
  {
   "cell_type": "code",
   "execution_count": 53,
   "metadata": {},
   "outputs": [
    {
     "name": "stdout",
     "output_type": "stream",
     "text": [
      "45.54% of the sentences are either always considered to be true or always considered to be false by A accross dialogues.\n"
     ]
    }
   ],
   "source": [
    "immutable_sentences = len(sentences_with_fixed_truefalse_status)\n",
    "all_sentences = len(sentences['train']) + len(sentences['val']) + len(sentences['test'])\n",
    "print('{:.2f}% of the sentences are either always considered to be true or always considered to be false by A accross dialogues.'.format(100*immutable_sentences / all_sentences))"
   ]
  },
  {
   "cell_type": "code",
   "execution_count": 54,
   "metadata": {
    "scrolled": true
   },
   "outputs": [],
   "source": [
    "# ignore singletons whose status cannot be more than one anyway\n",
    "frequent_sentences_with_fixed_truefalse_status = set()\n",
    "for split in SPLITS:\n",
    "    for sentence, status_list in sentences_status[split].items():\n",
    "        if len(set(status_list)) == 1 and len(status_list) != 1:\n",
    "            frequent_sentences_with_fixed_truefalse_status.add(sentence)"
   ]
  },
  {
   "cell_type": "code",
   "execution_count": 55,
   "metadata": {},
   "outputs": [
    {
     "name": "stdout",
     "output_type": "stream",
     "text": [
      "5.63% of the sentences that appear more than once are either always considered to be true or always considered to be false by A accross dialogues.\n"
     ]
    }
   ],
   "source": [
    "frequent_immutable_sentences = len(frequent_sentences_with_fixed_truefalse_status)\n",
    "print('{:.2f}% of the sentences that appear more than once are either always considered to be true or always considered to be false by A accross dialogues.'.format(100*frequent_immutable_sentences / all_sentences))"
   ]
  },
  {
   "cell_type": "markdown",
   "metadata": {},
   "source": [
    "So, in general, propositions occur only in one dialogue. Among those that occur across dialogues, a small portion has a fixed true/false status that could be learnt by heart by the model. But this should not be an issue on the balanced train set."
   ]
  },
  {
   "cell_type": "code",
   "execution_count": 56,
   "metadata": {},
   "outputs": [
    {
     "name": "stdout",
     "output_type": "stream",
     "text": [
      "On average, a proposition appears in 12.772129873014698 dialogues in the training set\n",
      "On average, a proposition appears in 1.9140106241699868 dialogues in the valid set\n",
      "On average, a proposition appears in 2.343429077829328 dialogues in the test set\n"
     ]
    }
   ],
   "source": [
    "print('On average, a proposition appears in {} dialogues in the training set'.format(np.mean(list(sentences['train'].values()))))\n",
    "print('On average, a proposition appears in {} dialogues in the valid set'.format(np.mean(list(sentences['val'].values()))))\n",
    "print('On average, a proposition appears in {} dialogues in the test set'.format(np.mean(list(sentences['test'].values()))))"
   ]
  },
  {
   "cell_type": "markdown",
   "metadata": {},
   "source": [
    "## Coreference resolution"
   ]
  },
  {
   "cell_type": "code",
   "execution_count": 57,
   "metadata": {},
   "outputs": [],
   "source": [
    "with open('data/coref/stats.json', 'r') as data:\n",
    "    corefs = json.load(data)\n",
    "with open('data/coref/fails.json', 'r') as data:\n",
    "    failed_corefs = json.load(data)"
   ]
  },
  {
   "cell_type": "code",
   "execution_count": 58,
   "metadata": {
    "scrolled": true
   },
   "outputs": [
    {
     "name": "stdout",
     "output_type": "stream",
     "text": [
      "On average, 2.248 pronouns were solved per dialogue on the training set, 2.433 on the val set and 1.151 on the test set.\n"
     ]
    }
   ],
   "source": [
    "print('On average, {:.3f} pronouns were solved per dialogue on the training set, {:.3f} on the val set and {:.3f} on the test set.'.format(\n",
    "        np.mean(list(corefs['train'].values())),\n",
    "        np.mean(list(corefs['val'].values())),\n",
    "        np.mean(list(corefs['test'].values()))\n",
    "           ))"
   ]
  },
  {
   "cell_type": "markdown",
   "metadata": {},
   "source": [
    "## Vocabulary"
   ]
  },
  {
   "cell_type": "code",
   "execution_count": 59,
   "metadata": {},
   "outputs": [
    {
     "data": {
      "text/plain": [
       "4165"
      ]
     },
     "execution_count": 59,
     "metadata": {},
     "output_type": "execute_result"
    }
   ],
   "source": [
    "len(vocab)"
   ]
  },
  {
   "cell_type": "code",
   "execution_count": 60,
   "metadata": {
    "scrolled": true
   },
   "outputs": [
    {
     "data": {
      "text/plain": [
       "[('there', 192568),\n",
       " ('is', 181131),\n",
       " ('the', 135454),\n",
       " ('one', 111248),\n",
       " ('see', 111054),\n",
       " ('are', 109863),\n",
       " ('no', 90976),\n",
       " ('a', 80771),\n",
       " ('not', 60181),\n",
       " ('can', 55798),\n",
       " ('cannot', 55358),\n",
       " ('any', 54608),\n",
       " ('people', 33706),\n",
       " ('in', 28386),\n",
       " ('on', 20462),\n",
       " ('trees', 17608),\n",
       " ('other', 17494),\n",
       " ('it', 13702),\n",
       " ('buildings', 13126),\n",
       " ('grass', 12080),\n",
       " ('wearing', 11086),\n",
       " ('sky', 9932),\n",
       " ('visible', 9564),\n",
       " ('man', 9420),\n",
       " ('water', 9368),\n",
       " ('table', 8756),\n",
       " ('around', 8740),\n",
       " ('image', 8384),\n",
       " ('cars', 7960),\n",
       " ('picture', 7347),\n",
       " ('windows', 7162),\n",
       " ('window', 6816),\n",
       " ('clouds', 6710),\n",
       " ('floor', 6572),\n",
       " ('color', 6380),\n",
       " ('sunny', 6106),\n",
       " ('photo', 5945),\n",
       " ('does', 5734),\n",
       " ('street', 5708),\n",
       " ('of', 5560),\n",
       " ('fence', 5546),\n",
       " ('white', 5210),\n",
       " ('signs', 4158),\n",
       " ('dog', 3942),\n",
       " ('woman', 3886),\n",
       " ('and', 3842),\n",
       " ('have', 3832),\n",
       " ('person', 3758),\n",
       " ('train', 3690),\n",
       " ('sink', 3632),\n",
       " ('black', 3610),\n",
       " ('ball', 3484),\n",
       " ('an', 3432),\n",
       " ('room', 3226),\n",
       " ('ground', 3206),\n",
       " ('daytime', 3184),\n",
       " ('vehicles', 3104),\n",
       " ('road', 3018),\n",
       " ('outside', 3006),\n",
       " ('large', 2940),\n",
       " ('lot', 2934),\n",
       " ('mirror', 2934),\n",
       " ('walls', 2914),\n",
       " ('look', 2878),\n",
       " ('big', 2834),\n",
       " ('building', 2670),\n",
       " ('glasses', 2632),\n",
       " ('animals', 2630),\n",
       " ('lights', 2616),\n",
       " ('plate', 2612),\n",
       " ('hat', 2606),\n",
       " ('toilet', 2590),\n",
       " ('food', 2536),\n",
       " ('cat', 2484),\n",
       " ('bus', 2418),\n",
       " ('brown', 2350),\n",
       " ('looks', 2342),\n",
       " ('sidewalk', 2266),\n",
       " ('has', 2238),\n",
       " ('blue', 2224),\n",
       " ('green', 2110),\n",
       " ('snow', 2108),\n",
       " ('tv', 2034),\n",
       " ('utensils', 2012),\n",
       " ('chairs', 1970),\n",
       " ('wall', 1964),\n",
       " ('1', 1956),\n",
       " ('bed', 1948),\n",
       " ('red', 1894),\n",
       " ('smiling', 1890),\n",
       " ('furniture', 1840),\n",
       " ('cloudy', 1838),\n",
       " ('pizza', 1816),\n",
       " ('helmet', 1780),\n",
       " ('couch', 1772),\n",
       " ('flowers', 1708),\n",
       " ('light', 1690),\n",
       " ('tall', 1680),\n",
       " ('nearby', 1676),\n",
       " ('writing', 1674)]"
      ]
     },
     "execution_count": 60,
     "metadata": {},
     "output_type": "execute_result"
    }
   ],
   "source": [
    "vocab.most_common(100)"
   ]
  },
  {
   "cell_type": "markdown",
   "metadata": {},
   "source": [
    "Common vocabulary among each set:"
   ]
  },
  {
   "cell_type": "code",
   "execution_count": 61,
   "metadata": {},
   "outputs": [
    {
     "name": "stdout",
     "output_type": "stream",
     "text": [
      "72.73985239852398% of val words in train words\n",
      "63.00479123887748% of val words in train words\n"
     ]
    }
   ],
   "source": [
    "print('{}% of val words in train words'.format(100*len(set(separate_vocab['train'].keys()) & set(separate_vocab['val'].keys())) / len(separate_vocab['val'].keys())))\n",
    "print('{}% of val words in train words'.format(100*len(set(separate_vocab['train'].keys()) & set(separate_vocab['test'].keys())) / len(separate_vocab['test'].keys())))"
   ]
  },
  {
   "cell_type": "code",
   "execution_count": 62,
   "metadata": {},
   "outputs": [],
   "source": [
    "max_len = 0\n",
    "for split in ['train', 'val', 'test']:\n",
    "    for d, dialogue in propositions[split].items():\n",
    "        for p, prop in dialogue.items():\n",
    "            sentence = prop['proposition'].split()\n",
    "            if len(sentence) > max_len:\n",
    "                max_len = len(sentence)"
   ]
  },
  {
   "cell_type": "markdown",
   "metadata": {},
   "source": [
    "Maximum length of 15 tokens was enforced:"
   ]
  },
  {
   "cell_type": "code",
   "execution_count": 63,
   "metadata": {},
   "outputs": [],
   "source": [
    "assert max_len == 15"
   ]
  },
  {
   "cell_type": "markdown",
   "metadata": {},
   "source": [
    "Checking longish sentences:"
   ]
  },
  {
   "cell_type": "code",
   "execution_count": 64,
   "metadata": {
    "scrolled": true
   },
   "outputs": [
    {
     "name": "stdout",
     "output_type": "stream",
     "text": [
      "the man and a woman do not look like a couple.\n",
      "one cannot see any if there are clouds in the sky.\n",
      "one can see an if there are clouds in the sky.\n",
      "there are no other people in the image besides the man.\n",
      "there are no other people in the image besides the man.\n",
      "one can see an on the other side of the window.\n",
      "one cannot see any on the other side of the window.\n",
      "there are no cars parked on the side of the road.\n",
      "one can see an if there are clouds in the sky.\n",
      "one cannot see any if there are clouds in the sky.\n",
      "the game of tennis does not look like a professional match.\n",
      "one cannot see any color of the wall behind the computer.\n",
      "one can see a color of the wall behind the computer.\n",
      "there is not a bright and sunny day in the picture.\n",
      "there is not a bright and sunny day in the picture.\n",
      "the game of tennis does not look like a professional match.\n",
      "one can see a color of the wall behind the computer.\n",
      "one cannot see any color of the wall behind the computer.\n",
      "there are no other people in the photo besides the woman.\n",
      "the slice of cake does not look like a birthday cake.\n",
      "there are no other people in the photo than the man.\n",
      "there are no other people in the photo than the man.\n",
      "the man and a woman do not look like a couple.\n",
      "there are no other people in the picture besides the man.\n",
      "there are other people in the image besides the 2 women.\n",
      "there are no other people in the image besides the 2 women.\n",
      "one cannot see any on the other side of the window.\n",
      "one can see an on the other side of the window.\n",
      "one cannot see any what kind of motorcycle the motorcycle is.\n",
      "one can see a what kind of motorcycle the motorcycle is.\n",
      "one cannot see any what kind of motorcycle the motorcycle is.\n",
      "one can see a what kind of motorcycle the motorcycle is.\n",
      "there are no other people in the image besides the 2 women.\n",
      "there are other people in the image besides the 2 women.\n",
      "there are no other people in the photo besides the woman.\n",
      "one can see an if there are clouds in the sky.\n",
      "one cannot see any if there are clouds in the sky.\n",
      "the slice of cake does not look like a birthday cake.\n",
      "there are no other people in the picture besides the man.\n",
      "there is no buildings, trees, mountains, anything visible in the background.\n",
      "there is a buildings, trees, mountains, anything visible in the background.\n",
      "one can see an if there are clouds in the sky.\n",
      "one cannot see any if there are clouds in the sky.\n",
      "there is no buildings, trees, mountains, anything visible in the background.\n",
      "there is a buildings, trees, mountains, anything visible in the background.\n",
      "there are no cars parked on the side of the road.\n",
      "there are no broken pieces of the toilet on the ground.\n",
      "the man is wearing long sleeves shirt and light blue jeans.\n",
      "the man is not wearing long sleeves shirt and light blue jeans.\n",
      "the 5 people's jackets are grey, black, blue, red and green.\n",
      "the 5 people's jackets are not grey, black, blue, red and green.\n",
      "there is a stand alone sink or is there a counter.\n",
      "there is not a stand alone sink or is there a counter.\n",
      "the apple does not have a bite taken out of it.\n",
      "one cannot see any wall behind the table or what's the angle of the photo.\n",
      "one can see a wall behind the table or what's the angle of the photo.\n",
      "one cannot see any cargo in the back of the train.\n",
      "one can see a cargo in the back of the train.\n",
      "there are no other people in the room besides the girl.\n",
      "there are no stairs going up the front of the building.\n",
      "there is no other image in the picture, such as an animal.\n",
      "there is other image in the picture, such as an animal.\n",
      "one cannot see any caretakers or people looking at the giraffes.\n",
      "the people are not walking around or sitting at the tables.\n",
      "there are no lights on the building or near the building.\n",
      "the truck and the writing on the food truck is white and red.\n",
      "the truck and the writing on the food truck is not white and red.\n",
      "the woman is wearing brown pants, blue vest and long sleeve shirt.\n",
      "the woman is not wearing brown pants, blue vest and long sleeve shirt.\n",
      "the 2 men in cowboy hats are not on a beach.\n",
      "there are no cars parked out in front of the store.\n",
      "the driver is wearing a black and white leather outfit with black glasses.\n",
      "the driver is not wearing a black and white leather outfit with black glasses.\n",
      "there are no other people with the girl with the glasses's.\n",
      "the girl with the glasses's coat and hat is gray and black.\n",
      "the girl with the glasses's coat and hat is not gray and black.\n",
      "one cannot see any what the image of the picture is.\n",
      "one can see a what the image of the picture is.\n",
      "the woman is wearing white blouse, 2 rings and a watch.\n",
      "the woman is not wearing white blouse, 2 rings and a watch.\n",
      "the only 1 young man's shorts is not white and blue.\n",
      "the uniforms are the players wearing are grey, white, purple and blue.\n",
      "the uniforms are the players wearing are not grey, white, purple and blue.\n",
      "the baseball player's hat is not orange, red and dark blue.\n",
      "there is not a close up of the chair and hat.\n",
      "the of shirt is the man wearing is white and red.\n",
      "the of shirt is the man wearing is not white and red.\n",
      "one can see a vendor the person who is selling the vegetables.\n",
      "one cannot see any vendor the person who is selling the vegetables.\n",
      "the cat does not have a paw on the keyboard also.\n",
      "the woman is wearing a short sleeve shirt and a hat.\n",
      "the woman is not wearing a short sleeve shirt and a hat.\n",
      "one cannot see any other people the 3 uniformed people might feed.\n",
      "one can see other people the 3 uniformed people might feed.\n",
      "the man is not wearing a green shirt and green jacket.\n",
      "one cannot see any clock or anything indicates the current time.\n",
      "one can see a clock or anything indicates the current time.\n",
      "the baseball player's uniform is not white, gray and dark blue.\n",
      "the man is not wearing a grey t shirt and jacket.\n",
      "the person in the image is not smiling at the camera.\n",
      "the man is not wearing grey hoodie, grey pants, black shoes.\n",
      "the walls in the room are not light brown and tan.\n",
      "the hair does the child have is not brown and blonde.\n",
      "the man is wearing a white t shirt and brown ish shorts.\n",
      "the man is not wearing a white t shirt and brown ish shorts.\n",
      "one can see something else in the photo besides dogs and grass.\n",
      "one cannot see anything else in the photo besides dogs and grass.\n",
      "there are no are people besides the person with the frisbee.\n",
      "one cannot see any ball or anything like the ball around.\n",
      "one can see a ball or anything like the ball around.\n",
      "the any people in the picture are not on the buss.\n",
      "one cannot see any what the 1 sheep is looking at.\n",
      "one can see a what the 1 sheep is looking at.\n",
      "the man is not wearing black jeans and a t shirt.\n",
      "one cannot see any grass or a fence in the photo.\n",
      "the worker is not wearing orange pants and bright yellow coats.\n",
      "the hair of the kid on the left is not blonde.\n",
      "the gentleman displaying a laptop's hair is not brown and black.\n",
      "there is no table in front of the gentleman displaying a laptop.\n",
      "there is a table in front of the gentleman displaying a laptop.\n",
      "there is no door in front of the toilet like a stall.\n",
      "there is a door in front of the toilet like a stall.\n",
      "the man is wearing plaid over shirt and a t shirt.\n",
      "the man is not wearing plaid over shirt and a t shirt.\n",
      "the broccoli does not have a fried crust or actually burnt.\n",
      "the man is not wearing suit coat and pants with tie.\n",
      "the boats are not white, yellow, light blue, red and green.\n",
      "the ski outfits are the 6 wearing is white and red.\n",
      "the ski outfits are the 6 wearing is not white and red.\n",
      "the man is not wearing hat, pants, shirt, sweater and shoes.\n",
      "the plane does not have any writing or words on it.\n",
      "the or type of car is the car is not silver.\n",
      "the man is not wearing orange and white shirt, white shorts.\n",
      "the man is not wearing jeans and a white t shirt.\n",
      "the woman is wearing a white light jacket, white t shirt underneath that, shorts.\n",
      "the woman is not wearing a white light jacket, white t shirt underneath that, shorts.\n",
      "the man is wearing white t shirt or polo shirt and black shorts.\n",
      "the man is not wearing white t shirt or polo shirt and black shorts.\n",
      "one cannot see any gender of the other person across from the man.\n",
      "one can see a gender of the other person across from the man.\n",
      "the bathing trunks is 1 of the 2 men wearing is blue.\n",
      "the bathing trunks is 1 of the 2 men wearing is not blue.\n",
      "the woman is wearing brown hat, brown shirt and black pants, cowboy style.\n",
      "the woman is not wearing brown hat, brown shirt and black pants, cowboy style.\n",
      "the shirt is the lady with scissors wearing is not white.\n",
      "the boy is not wearing snow pants, a coat, and hat.\n",
      "there is no pillows at the other end of the bed.\n",
      "the shirt are the pitcher wearing is not white and red.\n",
      "the woman and a child's coats are not orange and blue.\n",
      "the man is wearing a black t-shirt and jeans with sneakers.\n",
      "the man is not wearing a black t-shirt and jeans with sneakers.\n",
      "the man is wearing brown pants, red tee shirt and a black hoodie.\n",
      "the man is not wearing brown pants, red tee shirt and a black hoodie.\n",
      "the performer is not wearing a red, white, and blue dress.\n",
      "one cannot see any design on the tail of the plane.\n",
      "one can see a design on the tail of the plane.\n",
      "the of luggage bags does the girl have is not black.\n",
      "the stone and wooden bench does not look like a new bench.\n",
      "the girl is not wearing a coat and stockings, dress shoes.\n",
      "the 2 police officers on horseback's uniforms are white and black.\n",
      "the 2 police officers on horseback's uniforms are not white and black.\n",
      "the socks the person is wearing are not white and black.\n",
      "the clothes are the 2 girls wearing are grey, green, black and pink.\n",
      "the clothes are the 2 girls wearing are not grey, green, black and pink.\n",
      "the 1 of the racer's shirts is not white and blue.\n",
      "the women is wearing long sleeve button down shirt and black pant.\n",
      "the women is not wearing long sleeve button down shirt and black pant.\n",
      "the team does the 1 of the men play for is blue.\n",
      "the team does the 1 of the men play for is not blue.\n",
      "the hair do the 2 older women have is not white.\n",
      "the shirt is the child wearing is not white and blue.\n",
      "the shirt is the man wearing is not white and gray.\n",
      "the boy is not wearing blue jeans and a black t-shirt.\n",
      "the hair does the kite surfer have is not light brown.\n",
      "the plate does not have any design on it or is it plain.\n",
      "the plate has any design on it or is it plain.\n",
      "there is 1 else present other than the lady in the black.\n",
      "there is no 1 else present other than the lady in the black.\n",
      "the shirt is the young boy wearing is white, black and blue.\n",
      "the shirt is the young boy wearing is not white, black and blue.\n",
      "the lady is not wearing a blue sweater with blue jeans.\n",
      "there is no grass around the shed, or any other plants.\n",
      "the jacket is the young boy wearing is white, green and red.\n",
      "the jacket is the young boy wearing is not white, green and red.\n",
      "the of clothes is the person wearing is blue and black.\n",
      "the of clothes is the person wearing is not blue and black.\n",
      "the female tennis player is not wearing tennis skirt, sleeveless shirt.\n",
      "there are no obvious advertisements especially for books, but for anything in general.\n",
      "there are obvious advertisements especially for books, but for anything in general.\n",
      "there is no water coming off from the red fire hydrant.\n",
      "the man is wearing blue shorts and white checkered button up.\n",
      "the man is not wearing blue shorts and white checkered button up.\n",
      "the girl is wearing looks like a red sweater and some jeans.\n",
      "the girl is not wearing looks like a red sweater and some jeans.\n",
      "the jerseys are the any other players wearing are white and blue.\n",
      "the jerseys are the any other players wearing are not white and blue.\n",
      "the man is wearing white shirt and shoes and navy blue shorts.\n",
      "the man is not wearing white shirt and shoes and navy blue shorts.\n",
      "the females are not wearing casual clothes dressed for cold weather.\n",
      "the man is wearing a helmet with a dress shirt and dress pants.\n",
      "the man is not wearing a helmet with a dress shirt and dress pants.\n",
      "there is no woman standing in front of the green wall.\n",
      "there is a woman standing in front of the green wall.\n",
      "the man is wearing a scuba diving suit i think you call it.\n",
      "the man is not wearing a scuba diving suit i think you call it.\n",
      "the boy is wearing orange shorts, white t shirt and a camo bucket hat.\n",
      "the boy is not wearing orange shorts, white t shirt and a camo bucket hat.\n",
      "the many books on a shelf are not on a desk.\n",
      "the 8 on the side's eyes are not white and red.\n",
      "one can see an evidence of human interaction such as the camera equipment.\n",
      "one cannot see any evidence of human interaction such as the camera equipment.\n",
      "the guy on a skateboard's shirt is not white and green.\n",
      "the guy on a skateboard's cap is white, green and gray.\n",
      "the guy on a skateboard's cap is not white, green and gray.\n",
      "the hair does the female tennis player have is not black.\n",
      "the pair of men outfit are blue, green, black and beige.\n",
      "the pair of men outfit are not blue, green, black and beige.\n",
      "the is the fire hydrant are not red, yellow and blue.\n",
      "one cannot see any person's hands or arms holding the animal.\n",
      "the are the flowers is not orange, purple, yellow and pink.\n",
      "the are the 4 other vehicles visible is white and black.\n",
      "the are the 4 other vehicles visible is not white and black.\n",
      "the are the some cows is not white and dark brown.\n",
      "the woman is not wearing light colored shirt and brown pants.\n",
      "the man is not wearing black t shirt and brown pants.\n",
      "the 3 woman carrying tennis rackets are not facing the camera.\n",
      "one can see giraffes up close, or is the see from afar.\n",
      "one cannot see any giraffes up close, or is the see from afar.\n",
      "the young man is not wearing dress shirt tie brown pants.\n",
      "the young man's tie is not light yellow and dark brown.\n",
      "the girl is wearing looks like pajamas a purple t shirt and rainbow shorts.\n",
      "the girl is not wearing looks like pajamas a purple t shirt and rainbow shorts.\n",
      "the bundled up family's coats are not dark green and blue.\n",
      "the shoes does the 1 on the left have are white and black.\n",
      "the shoes does the 1 on the left have are not white and black.\n",
      "the sign is not yellow, light blue, red, green and orange.\n",
      "there are no jumps for the horse and rider to practice on.\n",
      "there are jumps for the horse and rider to practice on.\n",
      "the are there is white, yellow, blue, red, green, orange and purple.\n",
      "the are there is not white, yellow, blue, red, green, orange and purple.\n",
      "the man in the water is wearing white shirt and blue shorts.\n",
      "the man in the water is not wearing white shirt and blue shorts.\n",
      "the pillows on the gray couch are not white and gray.\n",
      "there is not all black or does it have other colors.\n",
      "the woman is wearing a red shirt and a blue jean.\n",
      "the woman is not wearing a red shirt and a blue jean.\n",
      "the woman is wearing a blue jacket, pink scarf and white hat.\n",
      "the woman is not wearing a blue jacket, pink scarf and white hat.\n",
      "the woman is wearing floral print long shirt with pink tank under.\n",
      "the woman is not wearing floral print long shirt with pink tank under.\n",
      "one cannot see any how many cars the train has, roughly.\n",
      "one can see a how many cars the train has, roughly.\n",
      "there is no one other than the train driver in the photo.\n",
      "there is someone other than the train driver in the photo.\n",
      "the boy with an umbrella is wearing a jacket and pants.\n",
      "the boy with an umbrella is not wearing a jacket and pants.\n",
      "the are the fresh carrots is not orange, white and purple.\n",
      "the male about to go snowboarding is not on a mountain.\n",
      "the guy is wearing a gray jacket, black gloves, red hat and goggles.\n",
      "the guy is not wearing a gray jacket, black gloves, red hat and goggles.\n",
      "the man is wearing suit jacket and tie dress shirt dress pants.\n",
      "the man is not wearing suit jacket and tie dress shirt dress pants.\n",
      "there is all black or are there more colors on the motorcycle.\n",
      "there is not all black or are there more colors on the motorcycle.\n",
      "the man is not wearing a blue plaid shirt and khakis.\n",
      "the child is wearing a blue and tan and green coat and blue pants.\n",
      "the child is not wearing a blue and tan and green coat and blue pants.\n",
      "the motorcycle driver's helmet is not white, purple, yellow and blue.\n",
      "the person is wearing green jacket and grey pants and goggles.\n",
      "the person is not wearing green jacket and grey pants and goggles.\n",
      "the woman is not wearing pants and a short sleeved shirt.\n",
      "there is no 1 for the tub and 1 for the toilet.\n",
      "there is 1 for the tub and 1 for the toilet.\n",
      "there is no only 1 piece of bread on the table.\n",
      "the umbrella the hostess is holding is not red and yellow.\n",
      "the do the kids have on is not blue and pink.\n",
      "one can see a what console the man is playing on.\n",
      "one cannot see any what console the man is playing on.\n",
      "the are the kites parachutes is not red, green and blue.\n",
      "the statue is wearing looks like a long coat and boots.\n",
      "the statue is not wearing looks like a long coat and boots.\n",
      "the man with sheep is wearing khaki colored shirt and jeans.\n",
      "the man with sheep is not wearing khaki colored shirt and jeans.\n",
      "one cannot see any icing ready to put on the any people.\n",
      "one can see an icing ready to put on the any people.\n",
      "the are the 2 army members's clothes is green, black and beige.\n",
      "the are the 2 army members's clothes is not green, black and beige.\n",
      "there is not a normal living room or a fancy 1.\n",
      "one cannot see any window of the airplane in the photo.\n",
      "one can see a window of the airplane in the photo.\n",
      "the man in a wetsuit's surfboard is not white and blue.\n",
      "there is no other humans in the photo aside from the baby.\n",
      "there is other humans in the photo aside from the baby.\n",
      "there are no rocks or stone where the man is kneeling.\n",
      "the jacket is the man wearing is not green and yellow.\n",
      "there are no other people in the picture besides the lady.\n",
      "the player is wearing white uniform but cannot read what team it is.\n",
      "the player is not wearing white uniform but cannot read what team it is.\n",
      "there is no other toppings on the hot dog other than ketchup and mustard.\n",
      "there is other toppings on the hot dog other than ketchup and mustard.\n",
      "the cups do the group of children have are not red.\n",
      "there is not a shave or just making the hair shorter.\n",
      "the blue remote control boat does not look like the outdoors.\n",
      "the man is wearing a hat, shorts and a short sleeve shirt.\n",
      "the man is not wearing a hat, shorts and a short sleeve shirt.\n",
      "there is no electronics in the scene like a dvd player.\n",
      "the bottom of the skies is not white, blue and red.\n",
      "the picture is not a close up of the man and dog.\n",
      "the picture is a close up of the man and dog.\n",
      "the cake is not grey, white, black, yellow, brown and green.\n",
      "one cannot see any company name or model of the truck anywhere.\n",
      "one can see a company name or model of the truck anywhere.\n",
      "the candles are on the shelves are not red and yellow.\n",
      "one cannot see any more of the bathroom in the picture.\n",
      "one can see a more of the bathroom in the picture.\n",
      "there is not a bar of soap or a soap dispenser.\n",
      "the cat is the cat is not brown, white and black.\n",
      "the uniform is the pitcher wearing is not white and blue.\n",
      "one cannot see any what the woman is going to eat.\n",
      "one can see a what the woman is going to eat.\n",
      "the man is wearing light colored shorts and shirt, ball cap.\n",
      "the man is not wearing light colored shorts and shirt, ball cap.\n",
      "one cannot see anything else other than the keyboard, usb stick and table.\n",
      "one can see something else other than the keyboard, usb stick and table.\n",
      "the hair do the 3 men's have is white and black.\n",
      "the hair do the 3 men's have is not white and black.\n",
      "there are no animals on the beach or in the water.\n",
      "the flat surface the 2 macbooks are all sitting on is black.\n",
      "the flat surface the 2 macbooks are all sitting on is not black.\n",
      "the are on the screen is not white, blue and red.\n",
      "the shirts do the young asian couple have on are white and black.\n",
      "the shirts do the young asian couple have on are not white and black.\n",
      "one cannot see any color of the car the teen is inside.\n",
      "one can see a color of the car the teen is inside.\n",
      "the 2 dogs and a horse are not on a farm.\n",
      "the skier is not wearing pants and a sweatshirt or hoodie.\n",
      "the man is wearing a black robe with white head covering and scarf.\n",
      "the man is not wearing a black robe with white head covering and scarf.\n",
      "the is each team wearing are not white, black and blue.\n",
      "the cow with the bell is not white and dark brown.\n",
      "one cannot see any people on the blue and white bus.\n",
      "the uniforms are the player wearing are white, black, blue and red.\n",
      "the uniforms are the player wearing are not white, black, blue and red.\n",
      "the boy is wearing dark pants, a long shirt, dark hat and gloves.\n",
      "the boy is not wearing dark pants, a long shirt, dark hat and gloves.\n",
      "the icing on the baby's face is not red and blue.\n",
      "there are no words written on the side of the truck.\n",
      "there are no other vehicles on the road with the buses.\n",
      "the woman is wearing business casual outfit, with a long tie.\n",
      "the woman is not wearing business casual outfit, with a long tie.\n",
      "the people are wearing jeans, long sleeved shirts, and bright yellow vests.\n",
      "the people are not wearing jeans, long sleeved shirts, and bright yellow vests.\n",
      "there is other people in the photo or just the boy.\n",
      "there is no other people in the photo or just the boy.\n",
      "there is no other food on the table aside from cake.\n",
      "the the teddy bears are is not brown, white and black.\n",
      "the man is wearing a orange and white jacket and jeans.\n",
      "the man is not wearing a orange and white jacket and jeans.\n",
      "the man wearing a bathrobe's robe is not orange and brown.\n",
      "the pitcher is wearing white t-shirt and black hat, looks like a uniform team.\n",
      "the pitcher is not wearing white t-shirt and black hat, looks like a uniform team.\n",
      "the person on a surfboard is wearing shorts and a tshirt.\n",
      "the person on a surfboard is not wearing shorts and a tshirt.\n",
      "the man is wearing trunks and a top with long sleeves.\n",
      "the man is not wearing trunks and a top with long sleeves.\n",
      "the man is wearing shirt and some sort of bottoms can't see legs.\n",
      "the man is not wearing shirt and some sort of bottoms can't see legs.\n",
      "the man in the ocean's surfboard is not white and green.\n",
      "the hair does the woman riding a surfboard have is black.\n",
      "the hair does the woman riding a surfboard have is not black.\n",
      "one cannot see any what type of sandwich the man's eating.\n",
      "one can see a what type of sandwich the man's eating.\n",
      "the man with tattoos is wearing a pair of blue and yellow swim trunks.\n",
      "the man with tattoos is not wearing a pair of blue and yellow swim trunks.\n",
      "the outfits are the 2 snowboarders wearing are grey and black.\n",
      "the outfits are the 2 snowboarders wearing are not grey and black.\n",
      "the person in the picture are wearing a white skirt and top.\n",
      "the person in the picture are not wearing a white skirt and top.\n",
      "the man is wearing a green tee shirt and black jogging pants.\n",
      "the man is not wearing a green tee shirt and black jogging pants.\n",
      "there is no anybody around to put it in the oven.\n",
      "one can see a pattern on the linen on the bed.\n",
      "one cannot see any pattern on the linen on the bed.\n",
      "the man is wearing a cap, grey t shirt, shorts, white sneakers.\n",
      "the man is not wearing a cap, grey t shirt, shorts, white sneakers.\n",
      "there are no cars parked on the side of the street.\n",
      "the woman is wearing blue jeans is all i can see.\n",
      "the woman is not wearing blue jeans is all i can see.\n",
      "there are no other animals or people there besides the horse.\n",
      "the if any hair does the baby have is not blonde.\n",
      "the woman is wearing a white t shirt with color on it.\n",
      "the woman is not wearing a white t shirt with color on it.\n",
      "there is no reflected image from the room on the glass.\n",
      "the man is not wearing jeans and a green safety vest.\n",
      "the man is wearing a black shirt is all i can see.\n",
      "the man is not wearing a black shirt is all i can see.\n",
      "the man and woman's coats are not white, black and red.\n",
      "the are the graffiti done in is not red and green.\n",
      "the 2 skiers are not wearing ski outfits, helmets and skis.\n",
      "the policeman is not wearing a blue shirt and black pants.\n",
      "there are no other people in the picture than the woman.\n",
      "one can see a floor if so, is the floor tiled.\n",
      "one cannot see any floor if so, is the floor tiled.\n",
      "the teen wearing a beanie's beanie is not white and red.\n",
      "the clock besides a rusty gold is not white and black.\n",
      "one cannot see any if the tennis player's playing with someone.\n",
      "one can see an if the tennis player's playing with someone.\n",
      "the person is wearing a blue jacket, jeans, and a hat.\n",
      "the person is not wearing a blue jacket, jeans, and a hat.\n",
      "there is no one other than the baby in the picture.\n",
      "there are other people than just the 2 in the caption.\n",
      "there are no other people than just the 2 in the caption.\n",
      "the woman is wearing black jeans and a grey and striped sweater.\n",
      "the woman is not wearing black jeans and a grey and striped sweater.\n",
      "the man is wearing normal baseball uniform, grey with red helmet and lettering.\n",
      "the man is not wearing normal baseball uniform, grey with red helmet and lettering.\n",
      "the shirt is the fully clothed man wearing is not gray.\n",
      "there are no structures in the woods such as huts or houses.\n",
      "there are structures in the woods such as huts or houses.\n",
      "the train do not have a lot of cars on it.\n",
      "the mom is not wearing an orange shirt and white shorts.\n",
      "there are many colors to the skateboarder in eccentric clothing's clothing.\n",
      "there are no many colors to the skateboarder in eccentric clothing's clothing.\n",
      "one cannot see any what the person are taking out of the oven.\n",
      "one can see a what the person are taking out of the oven.\n",
      "the cat in the picture is not orange, yellow and gold.\n",
      "the boy is not wearing an orange t shirt and jeans.\n",
      "the sofa is not the only piece of furniture in the room.\n",
      "the sofa is the only piece of furniture in the room.\n",
      "the batters helmet is the batter wearing are blue and black.\n",
      "the batters helmet is the batter wearing are not blue and black.\n",
      "the female tennis player is wearing blue shirt and pants with a blue hat.\n",
      "the female tennis player is not wearing blue shirt and pants with a blue hat.\n",
      "the 2 asian guys are not wearing shirts and pants shorts.\n",
      "the man is not wearing short sleeved shirt and long pants.\n",
      "the man is not wearing red shirt and dark colored shorts.\n",
      "the person is not wearing a motorcycle jacket and matching pants.\n",
      "one cannot see any walls behind the toilet and trash can.\n",
      "one cannot see any people standing around waiting for the train.\n",
      "the someone are not wearing looks like a long sleeve sweatshirt.\n",
      "the hair does the little girl have is not light brown.\n",
      "the shirt is the woman on the right wearing is black.\n",
      "the shirt is the woman on the right wearing is not black.\n",
      "the surfboard the man is on is not white and pink.\n",
      "one cannot see any pizza or is the pizza in a box.\n",
      "one can see a pizza or is the pizza in a box.\n",
      "the are the 2 colorful boats is white, yellow, blue, pink and green.\n",
      "the are the 2 colorful boats is not white, yellow, blue, pink and green.\n",
      "the boy's is standing on a skateboard ramp with a skateboard.\n",
      "the boy's is not standing on a skateboard ramp with a skateboard.\n",
      "the shirt is the woman in the blue shorts wearing is white.\n",
      "the shirt is the woman in the blue shorts wearing is not white.\n",
      "the woman in a wetsuit's wetsuit is blue, black and red.\n",
      "the woman in a wetsuit's wetsuit is not blue, black and red.\n",
      "the hair do the 2 young boys have is not brown.\n",
      "there are no a lot of things in the living room.\n",
      "the cows if not black and white are white and brown.\n",
      "the cows if not black and white are not white and brown.\n",
      "the are the cats is not grey, white, yellow and black.\n",
      "one can see an if the hot dog's on a table.\n",
      "one cannot see any if the hot dog's on a table.\n",
      "one can see an opposite side of the lake from the girl.\n",
      "one cannot see any opposite side of the lake from the girl.\n",
      "the 1 of the cars going towards the mountain is white.\n",
      "the 1 of the cars going towards the mountain is not white.\n",
      "there are no other people in the image other than the 2 men.\n",
      "there are other people in the image other than the 2 men.\n",
      "the cat is laying in a suitcase giving me a dirty look.\n",
      "the cat is not laying in a suitcase giving me a dirty look.\n",
      "the people do not have luggage, or more things like briefcases.\n",
      "the kid is not wearing red shirt blue hat black pants.\n"
     ]
    }
   ],
   "source": [
    "for split in ['train', 'val', 'test']:\n",
    "    for d, dialogue in propositions[split].items():\n",
    "        for p, prop in dialogue.items():\n",
    "            sentence = prop['proposition']\n",
    "            if len(sentence.split()) > 10:\n",
    "                print(sentence)"
   ]
  },
  {
   "cell_type": "markdown",
   "metadata": {},
   "source": [
    "# What causes the bias in the private dimension for balanced train set"
   ]
  },
  {
   "cell_type": "markdown",
   "metadata": {},
   "source": [
    "Checking the balanced probes:"
   ]
  },
  {
   "cell_type": "code",
   "execution_count": 65,
   "metadata": {},
   "outputs": [],
   "source": [
    "split = 'train'\n",
    "\n",
    "a_thinks_true = []\n",
    "sents = []\n",
    "turns = []\n",
    "for idx_d, dialogue in propositions[split].items():\n",
    "    for idx_p, prop in dialogue.items(): \n",
    "        a_thinks_true.append(prop['a_thinks_true'])\n",
    "        sents.append(prop['proposition'])\n",
    "        turns.append(prop['turn_shared'])\n",
    "        \n",
    "turns_shared = list(zip(sents, turns))"
   ]
  },
  {
   "cell_type": "markdown",
   "metadata": {},
   "source": [
    "Select a probe:"
   ]
  },
  {
   "cell_type": "code",
   "execution_count": 66,
   "metadata": {},
   "outputs": [
    {
     "data": {
      "image/png": "[encoded data removed]",
      "text/plain": [
       "<Figure size 432x288 with 1 Axes>"
      ]
     },
     "metadata": {},
     "output_type": "display_data"
    }
   ],
   "source": [
    "s = 'there are no buildings.'\n",
    "example = Counter()\n",
    "for x in turns_shared:\n",
    "    if x[0] == s:\n",
    "        example.update([x[1]])\n",
    "\n",
    "plt.bar(example.keys(), example.values())\n",
    "plt.xlabel('manipulated turn')\n",
    "plt.ylabel('# probes in training set')\n",
    "plt.title(s)\n",
    "plt.show()"
   ]
  },
  {
   "cell_type": "markdown",
   "metadata": {},
   "source": [
    "Plot a few examples for the paper:"
   ]
  },
  {
   "cell_type": "code",
   "execution_count": 67,
   "metadata": {},
   "outputs": [
    {
     "data": {
      "image/png": "[encoded data removed]",
      "text/plain": [
       "<Figure size 1080x720 with 6 Axes>"
      ]
     },
     "metadata": {},
     "output_type": "display_data"
    }
   ],
   "source": [
    "sents = ['there are no buildings.', 'the sky is blue.', 'there are no people.', 'there are windows.',\n",
    "        'the image is not in color.', 'there are trees.']\n",
    "fig, axes = plt.subplots(2, 3, figsize=(15, 10))\n",
    "# https://stackoverflow.com/questions/6541123/improve-subplot-size-spacing-with-many-subplots-in-matplotlib\n",
    "plt.subplots_adjust(left=None, bottom=None, right=None, top=None, wspace=None, hspace=0.3)\n",
    "\n",
    "for i, ax in enumerate(axes.flatten()):\n",
    "    \n",
    "    s = sents[i]\n",
    "    example = Counter()\n",
    "    for x in turns_shared:\n",
    "        if x[0] == s:\n",
    "            example.update([x[1]])\n",
    "\n",
    "    ax = sns.barplot(x=list(example.keys()), y=list(example.values()), palette=\"Oranges_d\", ax=ax)\n",
    "    if i == 4:\n",
    "        ax.set_xlabel('manipulated turn', fontsize=14)\n",
    "    if i == 0 or i == 3:\n",
    "        ax.set_ylabel('# probes in training set', fontsize=14)\n",
    "    ax.set_title(s, fontsize=14)\n",
    "\n",
    "# split = 'train'\n",
    "#plt.savefig(f'plots/props-skewedPS_{which_probes[split]}.pdf')\n",
    "plt.show()"
   ]
  },
  {
   "cell_type": "code",
   "execution_count": 68,
   "metadata": {},
   "outputs": [
    {
     "data": {
      "image/png": "[encoded data removed]",
      "text/plain": [
       "<Figure size 648x216 with 2 Axes>"
      ]
     },
     "metadata": {},
     "output_type": "display_data"
    }
   ],
   "source": [
    "sents = ['the image is in color.', 'there are trees.']\n",
    "fig, axes = plt.subplots(1, 2, figsize=(9, 3))\n",
    "# https://stackoverflow.com/questions/6541123/improve-subplot-size-spacing-with-many-subplots-in-matplotlib\n",
    "plt.subplots_adjust(left=None, bottom=None, right=None, top=None, wspace=None, hspace=0.3)\n",
    "\n",
    "for i, ax in enumerate(axes.flatten()):\n",
    "    \n",
    "    s = sents[i]\n",
    "    example = Counter()\n",
    "    for x in turns_shared:\n",
    "        if x[0] == s:\n",
    "            example.update([x[1]])\n",
    "\n",
    "    ax = sns.barplot(x=list(example.keys()), y=list(example.values()), palette=\"Oranges_d\", ax=ax)\n",
    "    ax.set_xlabel('turn', fontsize=14)\n",
    "    ax.tick_params(labelsize=14)\n",
    "    if i == 0 or i == 3:\n",
    "        ax.set_ylabel('# propositions (train)', fontsize=14)\n",
    "    ax.set_title(s, fontsize=18)\n",
    "\n",
    "split = 'train'\n",
    "plt.savefig(f'plots/props-skewedPS_{which_probes[split]}{split}.pdf', bbox_inches=\"tight\")\n",
    "plt.show()"
   ]
  },
  {
   "cell_type": "markdown",
   "metadata": {},
   "source": [
    "Some probes have a distribution over manipulated turns that is skewed towards private (or shared). This may be a shorcut for the classifier."
   ]
  },
  {
   "cell_type": "markdown",
   "metadata": {},
   "source": [
    "# Examples for the paper"
   ]
  },
  {
   "cell_type": "markdown",
   "metadata": {},
   "source": [
    "The image used in the paper is from the training data, index 8778."
   ]
  },
  {
   "cell_type": "code",
   "execution_count": 69,
   "metadata": {},
   "outputs": [
    {
     "data": {
      "text/plain": [
       "('a small bird sitting on a branch of a tree',\n",
       " [('what color is the bird', 'gray'),\n",
       "  ('is the tree full of leaves', 'no'),\n",
       "  ('is it daylight out', 'day'),\n",
       "  ('is it sunny', 'yes'),\n",
       "  ('is the birds mouth open', 'no'),\n",
       "  ('do you see any buildings', 'no'),\n",
       "  ('is this a close up photo', 'yes'),\n",
       "  ('is the bird tiny', 'yes'),\n",
       "  ('what type of bird is this', 'wren'),\n",
       "  ('is there anything else in the photo', 'only the tree')])"
      ]
     },
     "execution_count": 69,
     "metadata": {},
     "output_type": "execute_result"
    }
   ],
   "source": [
    "ID = 8778\n",
    "split = 'train'\n",
    "get_vd_dialogue(visdial[split]['data']['dialogs'][ID], split) "
   ]
  },
  {
   "cell_type": "code",
   "execution_count": 70,
   "metadata": {},
   "outputs": [
    {
     "name": "stdout",
     "output_type": "stream",
     "text": [
      "0  a small bird sitting on a branch of a tree.\n",
      "    --\n",
      "1 what color is the bird? gray.\n",
      "    --\n",
      "2 is the tree full of leaves? no.\n",
      "    --\n",
      "3 is it daylight out? day.\n",
      "    --\n",
      "4 is it sunny? yes.\n",
      "    --\n",
      "5 is the birds mouth open? no.\n",
      "    --\n",
      "6 do you see any buildings? no.\n",
      "\tone can see buildings.\n",
      "\tone cannot see any buildings.\n",
      "7 is this a close up photo? yes.\n",
      "    --\n",
      "8 is the bird tiny? yes.\n",
      "    --\n",
      "9 what type of bird is this? wren.\n",
      "    --\n",
      "10 is there anything else in the photo? only the tree.\n",
      "    --\n"
     ]
    }
   ],
   "source": [
    "caption, turns = get_vd_dialogue(datasets[split][ID], split, add_punct=True)\n",
    "dialogue = [('', caption)] + turns\n",
    "\n",
    "probes = [[] for n in range(11)]\n",
    "for p in propositions[split][str(ID)].values():\n",
    "    turn = int(p['turn_shared'])\n",
    "    probes[turn].append(p['proposition'])\n",
    "\n",
    "for n in range(11):\n",
    "    print(f'{n} {dialogue[n][0]} {dialogue[n][1]}')\n",
    "    if probes[n]:\n",
    "        for i in range(0, len(probes[n]), 2):\n",
    "            print(f'\\t{probes[n][i]}\\n\\t{probes[n][i+1]}')\n",
    "    else:\n",
    "        print('    --')"
   ]
  },
  {
   "cell_type": "code",
   "execution_count": 71,
   "metadata": {},
   "outputs": [],
   "source": [
    "labels = {(1, 1): 0,  # 'a thinks true and shared'\n",
    "          (0, 1): 1,  # 'a thinks false and shared'\n",
    "          (1, 0): 2,  # 'a thinks true and private'\n",
    "          (0, 0): 3,  # 'a thinks false and private'\n",
    "         }\n",
    "\n",
    "label_names = {0: 'a thinks true \\n shared',   1: 'a thinks false \\n shared',\n",
    "               2: 'a thinks true \\n private',  3: 'a thinks false \\n private'}"
   ]
  },
  {
   "cell_type": "code",
   "execution_count": 72,
   "metadata": {},
   "outputs": [],
   "source": [
    "def get_vd_scoreboard(ID, split):\n",
    "    \n",
    "    scorekeeping = np.zeros([11, len(propositions[split][str(ID)])])\n",
    "    \n",
    "    caption = datasets[split][ID]['caption'] + '.'\n",
    "    turns = []\n",
    "    for qa in datasets[split][ID]['dialog']:\n",
    "        q = visdial[split]['data']['questions'][qa['question']] + '?'\n",
    "        a = visdial[split]['data']['answers'][qa['answer']] + '.'\n",
    "        turns.append((q, a))\n",
    "    turns = [('', caption)] + turns\n",
    "\n",
    "    probes = [[] for n in range(11)]\n",
    "    for p, prop in enumerate(propositions[split][str(ID)].values()):\n",
    "        turn = int(prop['turn_shared'])\n",
    "        tf = prop['a_thinks_true']\n",
    "        probes[turn].append(prop['proposition'])\n",
    "        scorekeeping[:, p] = np.array([[labels[(tf, 0)] if x < turn else labels[(tf, 1)] \n",
    "                                       for x in range(11)]])\n",
    "        \n",
    "    return turns, probes, scorekeeping"
   ]
  },
  {
   "cell_type": "markdown",
   "metadata": {},
   "source": [
    "### Examples of generated propositions on full dialogues for the appendix"
   ]
  },
  {
   "cell_type": "markdown",
   "metadata": {},
   "source": [
    "For this we'll use the original-downsampled training set."
   ]
  },
  {
   "cell_type": "code",
   "execution_count": 73,
   "metadata": {},
   "outputs": [],
   "source": [
    "split = 'train'"
   ]
  },
  {
   "cell_type": "code",
   "execution_count": 74,
   "metadata": {},
   "outputs": [],
   "source": [
    "with open(f'{DIR}downsampled-propositions_{split}.json', 'r') as data:\n",
    "    props = json.load(data)\n",
    "    downsampled_train = props['dialogues']"
   ]
  },
  {
   "cell_type": "code",
   "execution_count": 75,
   "metadata": {},
   "outputs": [],
   "source": [
    "for d, dialogue in enumerate(visdial[split]['data']['dialogs']):\n",
    "    if dialogue['image_id'] == 318405: #121622, 16677, 364032, 141086, 84859, 283921, 469898, 391229\n",
    "        ID = d\n",
    "        break"
   ]
  },
  {
   "cell_type": "code",
   "execution_count": 76,
   "metadata": {},
   "outputs": [
    {
     "name": "stdout",
     "output_type": "stream",
     "text": [
      "? a serving of dessert that includes various berries.\n",
      "    none\n",
      "does this food look appetizing? no.\n",
      "    none\n",
      "is veggies on dish? nope just fruit.\n",
      "    none\n",
      "do you see apples? no apples.\n",
      "    one cannot see any apples.\n",
      "    one can see apples.\n",
      "do you see grapes? no gapes at all.\n",
      "    one cannot see any grapes.\n",
      "    one can see grapes.\n",
      "what is main fruit on dish? strawberries and blueberries.\n",
      "    none\n",
      "do strawberries still have green on them? yes it does.\n",
      "    none\n",
      "are blueberries large? no small and smashed.\n",
      "    the blueberries are not large.\n",
      "    the blueberries are large.\n",
      "can you tell what color plate is? it is white bowl.\n",
      "    none\n",
      "can you tell color of table? no,.\n",
      "    none\n",
      "do you see people? no.\n",
      "    one cannot see any people.\n",
      "    one can see people.\n"
     ]
    }
   ],
   "source": [
    "caption, turns = get_vd_dialogue(visdial[split]['data']['dialogs'][ID], split)\n",
    "dialogue = [('', caption)] + turns\n",
    "\n",
    "probes = [[] for n in range(11)]\n",
    "for p in downsampled_train[str(ID)].values():\n",
    "    turn = int(p['turn_shared'])\n",
    "    probes[turn].append(p['proposition'])\n",
    "\n",
    "for n in range(11):\n",
    "    print(f'{dialogue[n][0]}? {dialogue[n][1]}.')\n",
    "    if probes[n]:\n",
    "        for i in range(0, len(probes[n]), 2):\n",
    "            print(f'    {probes[n][i]}\\n    {probes[n][i+1]}')\n",
    "    else:\n",
    "        print('    none')"
   ]
  },
  {
   "cell_type": "markdown",
   "metadata": {},
   "source": [
    "### Example for the scorekeeping matrix:"
   ]
  },
  {
   "cell_type": "markdown",
   "metadata": {},
   "source": [
    "For this we use the original dataset."
   ]
  },
  {
   "cell_type": "code",
   "execution_count": 77,
   "metadata": {},
   "outputs": [],
   "source": [
    "with open(f'{DIR}original/propositions_{split}.json', 'r') as data:\n",
    "    props = json.load(data)\n",
    "    original_train = props['dialogues']"
   ]
  },
  {
   "cell_type": "code",
   "execution_count": 78,
   "metadata": {},
   "outputs": [],
   "source": [
    "# rewrite from above, original_train is hardcoded!\n",
    "def get_vd_original_scoreboard(ID, split):\n",
    "    \n",
    "    scorekeeping = np.zeros([11, len(original_train[str(ID)])])\n",
    "    \n",
    "    caption = datasets[split][ID]['caption'] + '.'\n",
    "    turns = []\n",
    "    for qa in datasets[split][ID]['dialog']:\n",
    "        q = visdial[split]['data']['questions'][qa['question']] + '?'\n",
    "        a = visdial[split]['data']['answers'][qa['answer']] + '.'\n",
    "        turns.append((q, a))\n",
    "    turns = [('', caption)] + turns\n",
    "\n",
    "    probes = [[] for n in range(11)]\n",
    "    for p, prop in enumerate(original_train[str(ID)].values()):\n",
    "        turn = int(prop['turn_shared'])\n",
    "        tf = prop['a_thinks_true']\n",
    "        probes[turn].append(prop['proposition'])\n",
    "        scorekeeping[:, p] = np.array([[labels[(tf, 0)] if x < turn else labels[(tf, 1)] \n",
    "                                       for x in range(11)]])\n",
    "        \n",
    "    return turns, probes, scorekeeping"
   ]
  },
  {
   "cell_type": "code",
   "execution_count": 79,
   "metadata": {},
   "outputs": [],
   "source": [
    "for d, dialogue in enumerate(visdial[split]['data']['dialogs']):\n",
    "    if dialogue['image_id'] == 176904: # 208589, 478148, 209419, 407235, 3926\n",
    "        ID = d\n",
    "        break"
   ]
  },
  {
   "cell_type": "code",
   "execution_count": 80,
   "metadata": {},
   "outputs": [
    {
     "name": "stdout",
     "output_type": "stream",
     "text": [
      " a small bird sitting on a branch of a tree.\n",
      "    one can see a small bird.\n",
      "    one cannot see a small bird.\n",
      "    there is a branch.\n",
      "    there is no branch.\n",
      "    there is a tree.\n",
      "    there is no tree.\n",
      "what color is the bird? gray.\n",
      "    the bird is gray.\n",
      "    the bird is not gray.\n",
      "is the tree full of leaves? no.\n",
      "    none\n",
      "is it daylight out? day.\n",
      "    it is daytime.\n",
      "    it is not daytime.\n",
      "is it sunny? yes.\n",
      "    it is sunny.\n",
      "    it is not sunny.\n",
      "is the birds mouth open? no.\n",
      "    none\n",
      "do you see any buildings? no.\n",
      "    one cannot see any buildings.\n",
      "    one can see buildings.\n",
      "is this a close up photo? yes.\n",
      "    none\n",
      "is the bird tiny? yes.\n",
      "    the bird is tiny.\n",
      "    the bird is not tiny.\n",
      "what type of bird is this? wren.\n",
      "    the bird is wren.\n",
      "    the bird is not wren.\n",
      "is there anything else in the photo? only the tree.\n",
      "    none\n"
     ]
    }
   ],
   "source": [
    "turns, probes, scoreboard = get_vd_original_scoreboard(ID, split)\n",
    "\n",
    "for n in range(11):\n",
    "    print(f'{turns[n][0]} {turns[n][1]}')\n",
    "    if probes[n]:\n",
    "        for i in range(0, len(probes[n]), 2):\n",
    "            print(f'    {probes[n][i]}\\n    {probes[n][i+1]}')\n",
    "    else:\n",
    "        print('    none')"
   ]
  },
  {
   "cell_type": "code",
   "execution_count": 81,
   "metadata": {},
   "outputs": [],
   "source": [
    "columns = [q + ' ' + a for (q, a) in turns]\n",
    "index = [x for p in probes for x in p]\n",
    "df = pd.DataFrame(data=scoreboard.T, columns=columns, index=index)"
   ]
  },
  {
   "cell_type": "code",
   "execution_count": 83,
   "metadata": {},
   "outputs": [
    {
     "data": {
      "image/png": "[encoded data removed]",
      "text/plain": [
       "<Figure size 540x288 with 2 Axes>"
      ]
     },
     "metadata": {},
     "output_type": "display_data"
    }
   ],
   "source": [
    "fig, ax1 = plt.subplots(1, 1, figsize=(7.5, 4))\n",
    "cbar_ax = fig.add_axes([.2, .03, .6, .05])\n",
    "custom_palette = sns.color_palette(\"Paired\")[6:6+n]\n",
    "vmap = {k: \" and\\n\".join(label_names[k].split(' and ')) for k in range(4)}\n",
    "n = len(vmap)\n",
    "\n",
    "ax1.xaxis.set_ticks_position('top')\n",
    "ax1.xaxis.set_label_position('top')\n",
    "ax1.set_yticklabels(labels=ax1.get_yticklabels(), va='center', size=16)\n",
    "matrix = sns.heatmap(df.transpose(), annot=False, cmap=custom_palette, ax=ax1, linewidths=0.1, cbar_ax=cbar_ax, cbar_kws={'orientation': 'horizontal'})\n",
    "matrix.set_xticklabels(matrix.get_xticklabels(), rotation=55, ha='left', size=16)\n",
    "\n",
    "# https://stackoverflow.com/questions/38836154/discrete-legend-in-seaborn-heatmap-plot\n",
    "colorbar = ax1.collections[0].colorbar\n",
    "r = colorbar.vmax - colorbar.vmin\n",
    "colorbar.set_ticks([colorbar.vmin + 0.5 * r / (n) + r * i / (n) for i in range(n)])\n",
    "colorbar.set_ticklabels(list(vmap.values()))\n",
    "colorbar.ax.tick_params(labelsize=12)\n",
    "\n",
    "plt.savefig('plots/orig-scoreboard-example.pdf', bbox_inches=\"tight\")\n",
    "plt.show()"
   ]
  }
 ],
 "metadata": {
  "kernelspec": {
   "display_name": "Python 3",
   "language": "python",
   "name": "python3"
  },
  "language_info": {
   "codemirror_mode": {
    "name": "ipython",
    "version": 3
   },
   "file_extension": ".py",
   "mimetype": "text/x-python",
   "name": "python",
   "nbconvert_exporter": "python",
   "pygments_lexer": "ipython3",
   "version": "3.6.9"
  }
 },
 "nbformat": 4,
 "nbformat_minor": 4
}
