{
 "cells": [
  {
   "cell_type": "markdown",
   "id": "114b1acd",
   "metadata": {},
   "source": [
    "# Filtering the probes generated using VisDial dialogues"
   ]
  },
  {
   "cell_type": "markdown",
   "id": "1b70f457",
   "metadata": {},
   "source": [
    "The script `main.py` manipulates QA pairs from VisDial dialogues and turn them into propositions/probes. The files are saved in `propositions/original/propositions_{set}.json`. \n",
    "\n",
    "However, two post-processing steps are necessary to improve the datasets before they are used for the classification tasks:\n",
    "\n",
    "- the proportion of caption probes in relation to other turns is too much higher, thus we sample them to make the distribution closer to uniform among turns.\n",
    "- to make sure the training set has no bias with respect to the True/False dimension, we also downsample it to enforce that, for every true probe, a false counterpart of the same type is included."
   ]
  },
  {
   "cell_type": "code",
   "execution_count": 1,
   "id": "55f3cddc",
   "metadata": {},
   "outputs": [],
   "source": [
    "import json\n",
    "import csv\n",
    "import copy\n",
    "import random\n",
    "import matplotlib.pyplot as plt\n",
    "\n",
    "from collections import Counter\n",
    "from pathlib import Path\n",
    "from IPython.display import Image"
   ]
  },
  {
   "cell_type": "code",
   "execution_count": 2,
   "id": "6e7928b5",
   "metadata": {},
   "outputs": [],
   "source": [
    "PATH_TO_PROBES = 'propositions/'"
   ]
  },
  {
   "cell_type": "code",
   "execution_count": 3,
   "id": "a23d4bca",
   "metadata": {},
   "outputs": [],
   "source": [
    "random.seed(2204)"
   ]
  },
  {
   "cell_type": "markdown",
   "id": "3a143c96",
   "metadata": {},
   "source": [
    "# Downsampling captions and removing `how_many` rule"
   ]
  },
  {
   "cell_type": "markdown",
   "id": "0c40daa3",
   "metadata": {},
   "source": [
    "When we first run the `analysis_generated_probes` notebook, we notice that many more caption probes are generated, making turn_shared=0 being manipulated too often in comparison to the other turns."
   ]
  },
  {
   "cell_type": "code",
   "execution_count": 4,
   "id": "6c1711d9",
   "metadata": {},
   "outputs": [
    {
     "data": {
      "image/png": "[encoded data removed]",
      "text/plain": [
       "<IPython.core.display.Image object>"
      ]
     },
     "execution_count": 4,
     "metadata": {},
     "output_type": "execute_result"
    }
   ],
   "source": [
    "Image(filename='propositions/original-propositions_turn-distribution.png') "
   ]
  },
  {
   "cell_type": "markdown",
   "id": "77be8fc3",
   "metadata": {},
   "source": [
    "So we begin by downsampling caption probes so that the final distribution is roughly uniform among turns."
   ]
  },
  {
   "cell_type": "code",
   "execution_count": 5,
   "id": "60c13d16",
   "metadata": {},
   "outputs": [],
   "source": [
    "CAPTION_PROPORTION = 0.15  # select a small number"
   ]
  },
  {
   "cell_type": "code",
   "execution_count": 6,
   "id": "25953511",
   "metadata": {},
   "outputs": [],
   "source": [
    "propositions = {}\n",
    "\n",
    "with open(PATH_TO_PROBES + 'original/propositions_train.json', 'r') as data:\n",
    "    propositions['train'] = json.load(data)\n",
    "with open(PATH_TO_PROBES + 'original/propositions_val.json', 'r') as data:\n",
    "    propositions['val'] = json.load(data)\n",
    "with open(PATH_TO_PROBES + 'original/propositions_test.json', 'r') as data:\n",
    "    propositions['test'] = json.load(data)"
   ]
  },
  {
   "cell_type": "markdown",
   "id": "3c9fe34e",
   "metadata": {},
   "source": [
    "We generated the human sample with a previous version of the propositions dataset, so we just make sure to include all datapoints in the test set again."
   ]
  },
  {
   "cell_type": "code",
   "execution_count": 7,
   "id": "d6ee1693",
   "metadata": {},
   "outputs": [],
   "source": [
    "human_sample = []\n",
    "eval_props = {}\n",
    "eval_captions = {}\n",
    "\n",
    "with open('propositions/human-results.csv', newline='') as csvfile:\n",
    "    reader = csv.reader(csvfile)\n",
    "    for username, _, _, dialog_id, _, prop_id, _, _, _, _, turn_shared, _, truefalse, *_, sentence in reader:\n",
    "        if username == 'username':\n",
    "            continue\n",
    "        a_thinks_true = 1 if 'entailment' in truefalse else 0\n",
    "        human_sample.append((int(dialog_id), int(turn_shared), a_thinks_true))\n",
    "        eval_props[(int(dialog_id), int(turn_shared), a_thinks_true)] = sentence\n",
    "        if turn_shared == '0':\n",
    "            eval_captions[int(dialog_id)] = (prop_id, a_thinks_true, sentence)\n",
    "        \n",
    "assert len(human_sample) == 300\n",
    "human_sample = set(human_sample)\n",
    "assert len(human_sample) == 100\n",
    "assert len(eval_props) == 100"
   ]
  },
  {
   "cell_type": "markdown",
   "id": "5745bd6a",
   "metadata": {},
   "source": [
    "The datapoints below (dialogues 639, 1447, 2807, 4718, 7683, 4327) derive from rules that can invert order (```what_color``` and ```image_in_color```). So we put them back into the order that was used in the sample."
   ]
  },
  {
   "cell_type": "code",
   "execution_count": 8,
   "id": "7dbcbcf0",
   "metadata": {},
   "outputs": [],
   "source": [
    "need_readjust_order = [(639, 2, 1), (1477, 1, 1), (2897, 1, 1), (4718, 3, 1), (7683, 4, 1), (4327, 1, 0)]\n",
    "\n",
    "def readjust_order(d_id, proposition):\n",
    "    # some hacking to make sure that the original human datapoints are not excluded\n",
    "    # because the new generation changed the order of the colors or the word picture/image\n",
    "    # in the proposition, we replace them.\n",
    "    turn_shared = proposition['turn_shared']\n",
    "    a_thinks_true = proposition['a_thinks_true']\n",
    "    sentence = proposition['proposition']\n",
    "    \n",
    "    if (d_id, turn_shared, a_thinks_true) == (639, 2, 1):\n",
    "        assert set(sentence) == set('the train is green and yellow.')\n",
    "        print(sentence)\n",
    "        return 'the train is green and yellow.'\n",
    "    \n",
    "    if (d_id, turn_shared, a_thinks_true) == (1477, 1, 1):\n",
    "        assert set(sentence) == set('the bus is white, green and blue.')\n",
    "        print(sentence)\n",
    "        return 'the bus is white, green and blue.'\n",
    "\n",
    "    if (d_id, turn_shared, a_thinks_true) == (2897, 1, 1):\n",
    "        assert set(sentence) == set('the plane is white and red.')\n",
    "        print(sentence)\n",
    "        return 'the plane is white and red.'\n",
    "    \n",
    "    if (d_id, turn_shared, a_thinks_true) == (4718, 3, 1):\n",
    "        assert set(sentence) == set('the man wearing a bathrobe\\'s robe is brown and orange.')\n",
    "        print(sentence)\n",
    "        return 'the man wearing a bathrobe\\'s robe is brown and orange.'\n",
    "\n",
    "    if (d_id, turn_shared, a_thinks_true) == (7683, 4, 1):\n",
    "        assert set(sentence) == set('the wall is white and green.')\n",
    "        print(sentence)\n",
    "        return 'the wall is white and green.'\n",
    "    \n",
    "    if (d_id, turn_shared, a_thinks_true) == (4327, 1, 0):\n",
    "        assert sentence in ['the picture is not in color.', 'the image is not in color.', 'the photo is not in color.']\n",
    "        print(sentence)\n",
    "        return 'the picture is not in color.'\n",
    "    \n",
    "    print('!!!')\n",
    "    return None\n",
    "    \n",
    "def check_conditions(d, p, turn_shared, split, sentence):\n",
    "    # we check the even indexes, because when we exclude a probe we exclude it's negated\n",
    "    # counterpart as well, which is p+1, so that we keep the same pattern as the other\n",
    "    # manupulation rules (all probes appear with its negation in the sets)\n",
    "    if int(p) % 2 == 0 and turn_shared == 0:\n",
    "        if split != 'test':\n",
    "            return True\n",
    "        # in the captions, we are sure that the order of p (should not have) did not change...\n",
    "        # coref is not used for the captions and the Spacy version should be the same.\n",
    "        # in any case, this will be enforced/checked in the next steps\n",
    "        elif d not in eval_captions:\n",
    "            return True\n",
    "        else:\n",
    "            # do not sample out a caption that occurred in the humal results, or its counterpart.\n",
    "            prop_id = int(eval_captions[d][0])\n",
    "            if p != prop_id and p+1 != prop_id: \n",
    "                return True   \n",
    "        return False\n"
   ]
  },
  {
   "cell_type": "code",
   "execution_count": 9,
   "id": "071d25fc",
   "metadata": {},
   "outputs": [
    {
     "name": "stdout",
     "output_type": "stream",
     "text": [
      "the train is green and yellow.\n",
      "the bus is white, green and blue.\n",
      "the plane is white and red.\n",
      "the photo is not in color.\n",
      "the man wearing a bathrobe's robe is orange and brown.\n",
      "the wall is white and green.\n"
     ]
    }
   ],
   "source": [
    "downsampled_captions = copy.deepcopy(propositions)\n",
    "\n",
    "for split in ('train', 'val', 'test'):\n",
    "    for d, dialogue in propositions[split]['dialogues'].items():   \n",
    "        for p, proposition in dialogue.items():\n",
    "\n",
    "            turn_shared = int(proposition['turn_shared'])\n",
    "            a_thinks_true = int(proposition['a_thinks_true'])\n",
    "            \n",
    "            if split == 'test' and (int(d), turn_shared, a_thinks_true) in need_readjust_order:\n",
    "                downsampled_captions[split]['dialogues'][d][p]['proposition'] = readjust_order(int(d), proposition)\n",
    "           \n",
    "            elif check_conditions(int(d), int(p), turn_shared, split, proposition['proposition']):\n",
    "                if random.random() > CAPTION_PROPORTION:\n",
    "                    del downsampled_captions[split]['dialogues'][d][p]\n",
    "                    del downsampled_captions[split]['dialogues'][d][str(int(p)+1)]\n",
    "\n",
    "for split in ('train', 'val', 'test'):\n",
    "    with open(PATH_TO_PROBES + '/downsampled-propositions_'+split+'.json', 'w') as f:\n",
    "        json.dump(downsampled_captions[split], f)"
   ]
  },
  {
   "cell_type": "markdown",
   "id": "4c52674c",
   "metadata": {},
   "source": [
    "Make sure that all datapoints in the human sample. The sample has 100 datapoints, but we'll exclude 3 how_many and 1 that was filtered out (contained word fat), so it must be 96."
   ]
  },
  {
   "cell_type": "code",
   "execution_count": 10,
   "id": "c5231410",
   "metadata": {},
   "outputs": [
    {
     "name": "stdout",
     "output_type": "stream",
     "text": [
      "7417 3 one cannot see any what the 3're looking at.\n",
      "14 3 there is no water coming off from it.\n",
      "7054 6 the photo is in a house.\n",
      "1310 2 there is a person.\n",
      "6447 1 there are no elephants.\n"
     ]
    }
   ],
   "source": [
    "split = 'test'\n",
    "check = set()\n",
    "for (d, turn_shared, a_thinks_true) in human_sample:\n",
    "    all_props = set([prop['proposition'] for p, prop in downsampled_captions[split]['dialogues'][str(d)].items()])\n",
    "    if eval_props[(d, turn_shared, a_thinks_true)].lower() not in all_props:# and d not in ('639', '1477', '4327'):\n",
    "        print(d, turn_shared, eval_props[(d, turn_shared, a_thinks_true)].lower())\n",
    "        check.add(d)"
   ]
  },
  {
   "cell_type": "code",
   "execution_count": 11,
   "id": "9fcebdc2",
   "metadata": {},
   "outputs": [
    {
     "name": "stdout",
     "output_type": "stream",
     "text": [
      "The missing dialogues are: {7054, 6447, 14, 7417, 1310}.\n"
     ]
    }
   ],
   "source": [
    "print(f'The missing dialogues are: {check}.')"
   ]
  },
  {
   "cell_type": "markdown",
   "id": "9a17e13d",
   "metadata": {},
   "source": [
    "In total, 6 datapoints must be ignored in the human results sample."
   ]
  },
  {
   "cell_type": "markdown",
   "id": "ce115bb5",
   "metadata": {},
   "source": [
    "Another problem that showed up later: the `how_many` as is implemented rule breaks our assumptions. We have removed them during generation instead.\n",
    "\n",
    "- (798, 1, false): how_many, was excluded\n",
    "- (6447, 1, false): how_many, was excluded\n",
    "- (1310, 2, true): how_many, was excluded\n",
    "\n",
    "(7347, 2, false): dialogue would be filtered out, but I put it back in the sample"
   ]
  },
  {
   "cell_type": "markdown",
   "id": "b060633f",
   "metadata": {},
   "source": [
    "Three changed due to the new coref resolution:\n",
    "- (14, 3, 1): 'there is no water coming off from it.' is now 'there is no water coming off from the red fire hydrant.'\n",
    "- (7054, 6, 0): 'the photo is in a house.' is now 'the old fashioned motorcycle is in a house.'\n",
    "- (7417, 3, 1): \"One cannot see any what the 3're looking at.\" is now \"one cannot see any what the kids're looking at.\""
   ]
  },
  {
   "cell_type": "markdown",
   "id": "1c4e99e7",
   "metadata": {},
   "source": [
    "For captions, we can (supposedly) rely on the proposition ID. Coref resolution is not used when generating caption propositions and the rules did not change. By using the same Spacy version, nothing should change. For the remaining rules, the prop_id is not reliable because by removing the ```how_many``` rule and with the new coref model, besides other small adjustments in the rules (```look_like```), their order may have changed. What persists is the triplet (dialogue_id, turn_shared, a_thinks_true)."
   ]
  },
  {
   "cell_type": "code",
   "execution_count": 12,
   "id": "76f5dadf",
   "metadata": {},
   "outputs": [],
   "source": [
    "split = 'test'\n",
    "check = set()\n",
    "for (d, turn_shared, a_thinks_true) in human_sample:\n",
    "    if turn_shared == 0:\n",
    "        (prop_id, _, sentence) = eval_captions[d]\n",
    "        assert sentence.lower() == downsampled_captions[split]['dialogues'][str(d)][prop_id]['proposition']\n",
    "        #print(sentence.lower())\n",
    "        #print(downsampled_captions[split]['dialogues'][str(d)][prop_id]['proposition'])\n",
    "        #print('\\n')\n",
    "    elif d in (14, 1310, 7054, 7417, 798, 6447):\n",
    "        # these were excluded\n",
    "        continue\n",
    "    else:\n",
    "        sentence = eval_props[(d, turn_shared, a_thinks_true)]\n",
    "        props_list = downsampled_captions[split]['dialogues'][str(d)]\n",
    "        item = [prop for idx, prop in props_list.items() if prop['turn_shared'] == turn_shared and prop['a_thinks_true'] == a_thinks_true]\n",
    "        assert sentence.lower() == item[0]['proposition']\n",
    "        #print(sentence.lower())\n",
    "        #print(item[0]['proposition'])\n",
    "        #print('\\n')"
   ]
  },
  {
   "cell_type": "markdown",
   "id": "42df1ce8",
   "metadata": {},
   "source": [
    "# Making the training set balanced"
   ]
  },
  {
   "cell_type": "markdown",
   "id": "7b6cf3c6",
   "metadata": {},
   "source": [
    "Some probes/rules may occur more often as true/false, and that would introduce bias on the main task. In order to avoid this true/false bias in the training probes, we manufacture a training set that, for each true probe included, a false counterpart with the same surface form is included (i.e. if 'it is sunny' is included wrt an image+dialogue where it is true, we for sure include another 'it is sunny' probe paired with an image+dialogue that makes it false)."
   ]
  },
  {
   "cell_type": "code",
   "execution_count": 13,
   "id": "d6260b38",
   "metadata": {},
   "outputs": [],
   "source": [
    "random.seed(2204)"
   ]
  },
  {
   "cell_type": "markdown",
   "id": "c3aa4d2f",
   "metadata": {},
   "source": [
    "Select a maximum to clip and avoid probes that occur too often:"
   ]
  },
  {
   "cell_type": "code",
   "execution_count": 14,
   "id": "49c9b4de",
   "metadata": {},
   "outputs": [],
   "source": [
    "CLIP = 1000"
   ]
  },
  {
   "cell_type": "code",
   "execution_count": 15,
   "id": "f37350b5",
   "metadata": {},
   "outputs": [],
   "source": [
    "path_props = Path(PATH_TO_PROBES, 'downsampled-propositions_train.json')\n",
    "with open(path_props, 'r') as f:\n",
    "    props_data = json.load(f)"
   ]
  },
  {
   "cell_type": "code",
   "execution_count": 16,
   "id": "8f1060cd",
   "metadata": {},
   "outputs": [],
   "source": [
    "probe_sentences = {}\n",
    "for d_id, dialogue in props_data['dialogues'].items():\n",
    "    for p_id, prop in dialogue.items():\n",
    "        sent = prop['proposition']\n",
    "        if sent not in probe_sentences:\n",
    "            probe_sentences[sent] = {'true':[], 'false':[]}\n",
    "        status = 'true' if prop['a_thinks_true'] == 1 else 'false'\n",
    "        probe_sentences[sent][status].append((d_id, p_id))"
   ]
  },
  {
   "cell_type": "code",
   "execution_count": 17,
   "id": "a44927b4",
   "metadata": {},
   "outputs": [],
   "source": [
    "usable = [s for s in probe_sentences.keys() if len(probe_sentences[s]['true']) > 0 and len(probe_sentences[s]['false']) > 0]"
   ]
  },
  {
   "cell_type": "code",
   "execution_count": 18,
   "id": "472e30fa",
   "metadata": {},
   "outputs": [
    {
     "name": "stdout",
     "output_type": "stream",
     "text": [
      "Number of probe types that occur both as true and false: 27011.\n"
     ]
    }
   ],
   "source": [
    "print(f'Number of probe types that occur both as true and false: {len(usable)}.')"
   ]
  },
  {
   "cell_type": "code",
   "execution_count": 19,
   "id": "c2d4130c",
   "metadata": {},
   "outputs": [],
   "source": [
    "sample = {s: {'true': [], 'false': []} for s in usable}\n",
    "datapoints = []\n",
    "\n",
    "freqs = Counter()\n",
    "\n",
    "for s, occurrences in probe_sentences.items():\n",
    "    \n",
    "    n = min(len(occurrences['true']), len(occurrences['false']))\n",
    "    n = min(n, CLIP) # select a maximum to clip\n",
    "    if n == 0:\n",
    "        continue\n",
    "    selected_true = random.sample(probe_sentences[s]['true'], n)\n",
    "    selected_false = random.sample(probe_sentences[s]['false'], n)\n",
    "    \n",
    "    sample[s]['true'].append(selected_true)\n",
    "    sample[s]['false'].append(selected_false)\n",
    "    \n",
    "    datapoints += selected_true\n",
    "    datapoints += selected_false\n",
    "    \n",
    "    freqs.update({s: n*2})"
   ]
  },
  {
   "cell_type": "code",
   "execution_count": 20,
   "id": "7be2b9bd",
   "metadata": {},
   "outputs": [
    {
     "name": "stdout",
     "output_type": "stream",
     "text": [
      "Size of the new training set will be: 344988\n"
     ]
    }
   ],
   "source": [
    "print(f'Size of the new training set will be: {sum(freqs.values())}')"
   ]
  },
  {
   "cell_type": "code",
   "execution_count": 21,
   "id": "2c5c9810",
   "metadata": {},
   "outputs": [
    {
     "data": {
      "image/png": "[encoded data removed]",
      "text/plain": [
       "<Figure size 432x288 with 1 Axes>"
      ]
     },
     "metadata": {
      "needs_background": "light"
     },
     "output_type": "display_data"
    }
   ],
   "source": [
    "freq_probes = Counter(freqs.values())\n",
    "plt.bar(freq_probes.values(), freq_probes.keys(), width=1)\n",
    "#plt.ylim(0, 100)\n",
    "plt.xlabel('n probe types')\n",
    "plt.ylabel('n occurrences on balanced train set')\n",
    "plt.xlim(0,250)\n",
    "plt.show()"
   ]
  },
  {
   "cell_type": "markdown",
   "id": "844d0d98",
   "metadata": {},
   "source": [
    "Example:"
   ]
  },
  {
   "cell_type": "code",
   "execution_count": 22,
   "id": "9a208d25",
   "metadata": {},
   "outputs": [
    {
     "data": {
      "text/plain": [
       "[[('84071', '8'),\n",
       "  ('3128', '0'),\n",
       "  ('13995', '2'),\n",
       "  ('12903', '4'),\n",
       "  ('44601', '2'),\n",
       "  ('48751', '4'),\n",
       "  ('90219', '8'),\n",
       "  ('30533', '0'),\n",
       "  ('8172', '4'),\n",
       "  ('47368', '2'),\n",
       "  ('58530', '4'),\n",
       "  ('27000', '0'),\n",
       "  ('117003', '2'),\n",
       "  ('82759', '2'),\n",
       "  ('108504', '0'),\n",
       "  ('15574', '8'),\n",
       "  ('106739', '0'),\n",
       "  ('69724', '6'),\n",
       "  ('99157', '0'),\n",
       "  ('40552', '0'),\n",
       "  ('4845', '0'),\n",
       "  ('4221', '4'),\n",
       "  ('5076', '2'),\n",
       "  ('123212', '2'),\n",
       "  ('75545', '2'),\n",
       "  ('60358', '0'),\n",
       "  ('51897', '4'),\n",
       "  ('57044', '0'),\n",
       "  ('20611', '6'),\n",
       "  ('27825', '6'),\n",
       "  ('16253', '6'),\n",
       "  ('46921', '6'),\n",
       "  ('33097', '2'),\n",
       "  ('32907', '0'),\n",
       "  ('89652', '4'),\n",
       "  ('89245', '2'),\n",
       "  ('54156', '2'),\n",
       "  ('58459', '2'),\n",
       "  ('120526', '2'),\n",
       "  ('96087', '4'),\n",
       "  ('37463', '8'),\n",
       "  ('45272', '2'),\n",
       "  ('85770', '0'),\n",
       "  ('23463', '0'),\n",
       "  ('50013', '0'),\n",
       "  ('21008', '6'),\n",
       "  ('89090', '2'),\n",
       "  ('11490', '2'),\n",
       "  ('83248', '2'),\n",
       "  ('101789', '4'),\n",
       "  ('117571', '14'),\n",
       "  ('16762', '2'),\n",
       "  ('14060', '0'),\n",
       "  ('10595', '0'),\n",
       "  ('121027', '4'),\n",
       "  ('84533', '6'),\n",
       "  ('42234', '0'),\n",
       "  ('81022', '4'),\n",
       "  ('28455', '6'),\n",
       "  ('109835', '0'),\n",
       "  ('46961', '4'),\n",
       "  ('40699', '0'),\n",
       "  ('119642', '6'),\n",
       "  ('80609', '6'),\n",
       "  ('70274', '0'),\n",
       "  ('3705', '2'),\n",
       "  ('18707', '0'),\n",
       "  ('107741', '0'),\n",
       "  ('21234', '0'),\n",
       "  ('48055', '0'),\n",
       "  ('85546', '4'),\n",
       "  ('60897', '0'),\n",
       "  ('36442', '8'),\n",
       "  ('121074', '0'),\n",
       "  ('107190', '0'),\n",
       "  ('99466', '4'),\n",
       "  ('101311', '0'),\n",
       "  ('69825', '12'),\n",
       "  ('91449', '0'),\n",
       "  ('118948', '2'),\n",
       "  ('85676', '2'),\n",
       "  ('34154', '0'),\n",
       "  ('75732', '2'),\n",
       "  ('27300', '0'),\n",
       "  ('37375', '4'),\n",
       "  ('76117', '2'),\n",
       "  ('59387', '0'),\n",
       "  ('76523', '2'),\n",
       "  ('55819', '6'),\n",
       "  ('589', '2'),\n",
       "  ('30186', '0'),\n",
       "  ('93147', '2'),\n",
       "  ('118163', '2'),\n",
       "  ('113839', '2'),\n",
       "  ('103877', '2'),\n",
       "  ('17829', '2'),\n",
       "  ('17317', '2'),\n",
       "  ('44317', '2'),\n",
       "  ('46605', '2'),\n",
       "  ('12578', '2'),\n",
       "  ('77050', '2'),\n",
       "  ('118883', '4'),\n",
       "  ('87361', '12'),\n",
       "  ('47558', '2'),\n",
       "  ('90898', '2'),\n",
       "  ('31678', '0'),\n",
       "  ('119474', '2'),\n",
       "  ('56583', '4'),\n",
       "  ('3542', '2'),\n",
       "  ('2722', '22'),\n",
       "  ('104281', '0'),\n",
       "  ('95789', '0'),\n",
       "  ('118630', '0'),\n",
       "  ('56628', '2'),\n",
       "  ('100481', '6'),\n",
       "  ('62693', '4'),\n",
       "  ('4390', '0'),\n",
       "  ('16761', '2'),\n",
       "  ('81347', '0'),\n",
       "  ('64412', '6'),\n",
       "  ('72701', '0'),\n",
       "  ('51662', '2'),\n",
       "  ('410', '0'),\n",
       "  ('6553', '0'),\n",
       "  ('90053', '6'),\n",
       "  ('113030', '2'),\n",
       "  ('87060', '2'),\n",
       "  ('40811', '6'),\n",
       "  ('4643', '12'),\n",
       "  ('55629', '0'),\n",
       "  ('110115', '6'),\n",
       "  ('51433', '2'),\n",
       "  ('86461', '0'),\n",
       "  ('93233', '2'),\n",
       "  ('12621', '6'),\n",
       "  ('101221', '2'),\n",
       "  ('39762', '4'),\n",
       "  ('44882', '0'),\n",
       "  ('9896', '0'),\n",
       "  ('99125', '2'),\n",
       "  ('18089', '2'),\n",
       "  ('43451', '0'),\n",
       "  ('118523', '0'),\n",
       "  ('50530', '2'),\n",
       "  ('7159', '6'),\n",
       "  ('104187', '0'),\n",
       "  ('70627', '4'),\n",
       "  ('89596', '4'),\n",
       "  ('27305', '2'),\n",
       "  ('80414', '0'),\n",
       "  ('26040', '6'),\n",
       "  ('21476', '0'),\n",
       "  ('76095', '6'),\n",
       "  ('82649', '0'),\n",
       "  ('4190', '0'),\n",
       "  ('83204', '4'),\n",
       "  ('57611', '2'),\n",
       "  ('11585', '2'),\n",
       "  ('114016', '0'),\n",
       "  ('11696', '0'),\n",
       "  ('58629', '6'),\n",
       "  ('10774', '2'),\n",
       "  ('1090', '0'),\n",
       "  ('70970', '2'),\n",
       "  ('57152', '2'),\n",
       "  ('39999', '6'),\n",
       "  ('120413', '2'),\n",
       "  ('77732', '0'),\n",
       "  ('81723', '6'),\n",
       "  ('84682', '0'),\n",
       "  ('34512', '2'),\n",
       "  ('14069', '6'),\n",
       "  ('120068', '0'),\n",
       "  ('48392', '8'),\n",
       "  ('118769', '2'),\n",
       "  ('1323', '4'),\n",
       "  ('58063', '12'),\n",
       "  ('13455', '2'),\n",
       "  ('7159', '10'),\n",
       "  ('87621', '0'),\n",
       "  ('13127', '6'),\n",
       "  ('4166', '2'),\n",
       "  ('116321', '2'),\n",
       "  ('61778', '2'),\n",
       "  ('120808', '0'),\n",
       "  ('95427', '0'),\n",
       "  ('48030', '2'),\n",
       "  ('1683', '2'),\n",
       "  ('55905', '0'),\n",
       "  ('86410', '4'),\n",
       "  ('7446', '0'),\n",
       "  ('30588', '4'),\n",
       "  ('64942', '0'),\n",
       "  ('83642', '0'),\n",
       "  ('62177', '22'),\n",
       "  ('120072', '2'),\n",
       "  ('105765', '4'),\n",
       "  ('121818', '2'),\n",
       "  ('18984', '2'),\n",
       "  ('1331', '0'),\n",
       "  ('26859', '2'),\n",
       "  ('48959', '6'),\n",
       "  ('22764', '6'),\n",
       "  ('68824', '6')]]"
      ]
     },
     "execution_count": 22,
     "metadata": {},
     "output_type": "execute_result"
    }
   ],
   "source": [
    "sample['there is a dog.']['true']"
   ]
  },
  {
   "cell_type": "code",
   "execution_count": 23,
   "id": "40a0ecb5",
   "metadata": {},
   "outputs": [
    {
     "data": {
      "text/plain": [
       "[[('85183', '11'),\n",
       "  ('85514', '23'),\n",
       "  ('89756', '15'),\n",
       "  ('94424', '7'),\n",
       "  ('120892', '19'),\n",
       "  ('121229', '21'),\n",
       "  ('90066', '17'),\n",
       "  ('108015', '13'),\n",
       "  ('86738', '23'),\n",
       "  ('118217', '15'),\n",
       "  ('84122', '9'),\n",
       "  ('92947', '11'),\n",
       "  ('88304', '17'),\n",
       "  ('118379', '23'),\n",
       "  ('104002', '13'),\n",
       "  ('68318', '13'),\n",
       "  ('88598', '11'),\n",
       "  ('98595', '13'),\n",
       "  ('15072', '9'),\n",
       "  ('86389', '7'),\n",
       "  ('67211', '7'),\n",
       "  ('122498', '13'),\n",
       "  ('120684', '13'),\n",
       "  ('119517', '17'),\n",
       "  ('84587', '21'),\n",
       "  ('20973', '13'),\n",
       "  ('73204', '11'),\n",
       "  ('94545', '11'),\n",
       "  ('4512', '17'),\n",
       "  ('90324', '11'),\n",
       "  ('97093', '13'),\n",
       "  ('13072', '7'),\n",
       "  ('84042', '13'),\n",
       "  ('82962', '23'),\n",
       "  ('105421', '19'),\n",
       "  ('117681', '19'),\n",
       "  ('85457', '21'),\n",
       "  ('96802', '21'),\n",
       "  ('112458', '9'),\n",
       "  ('114401', '5'),\n",
       "  ('121488', '17'),\n",
       "  ('14134', '11'),\n",
       "  ('29604', '11'),\n",
       "  ('29171', '9'),\n",
       "  ('95797', '17'),\n",
       "  ('120829', '11'),\n",
       "  ('79967', '13'),\n",
       "  ('53316', '11'),\n",
       "  ('111491', '7'),\n",
       "  ('28834', '17'),\n",
       "  ('118128', '21'),\n",
       "  ('83343', '11'),\n",
       "  ('117308', '13'),\n",
       "  ('94624', '9'),\n",
       "  ('104711', '15'),\n",
       "  ('103989', '13'),\n",
       "  ('83601', '19'),\n",
       "  ('95564', '25'),\n",
       "  ('73100', '23'),\n",
       "  ('123198', '7'),\n",
       "  ('114052', '19'),\n",
       "  ('106372', '7'),\n",
       "  ('21019', '11'),\n",
       "  ('99320', '15'),\n",
       "  ('111841', '13'),\n",
       "  ('23688', '15'),\n",
       "  ('113022', '21'),\n",
       "  ('105689', '17'),\n",
       "  ('94709', '9'),\n",
       "  ('6447', '11'),\n",
       "  ('93748', '13'),\n",
       "  ('107082', '15'),\n",
       "  ('99151', '13'),\n",
       "  ('6880', '11'),\n",
       "  ('83424', '11'),\n",
       "  ('32837', '19'),\n",
       "  ('112029', '25'),\n",
       "  ('109570', '21'),\n",
       "  ('85289', '13'),\n",
       "  ('71213', '19'),\n",
       "  ('122416', '13'),\n",
       "  ('88771', '31'),\n",
       "  ('115127', '9'),\n",
       "  ('64050', '19'),\n",
       "  ('121574', '15'),\n",
       "  ('12666', '11'),\n",
       "  ('22995', '7'),\n",
       "  ('104450', '17'),\n",
       "  ('71964', '7'),\n",
       "  ('83798', '17'),\n",
       "  ('89473', '9'),\n",
       "  ('83157', '11'),\n",
       "  ('110378', '15'),\n",
       "  ('35757', '19'),\n",
       "  ('86008', '11'),\n",
       "  ('92785', '25'),\n",
       "  ('106008', '17'),\n",
       "  ('112265', '11'),\n",
       "  ('120819', '13'),\n",
       "  ('102025', '13'),\n",
       "  ('116089', '21'),\n",
       "  ('91452', '11'),\n",
       "  ('93821', '13'),\n",
       "  ('85107', '27'),\n",
       "  ('120420', '23'),\n",
       "  ('91566', '15'),\n",
       "  ('111552', '13'),\n",
       "  ('106933', '19'),\n",
       "  ('111318', '19'),\n",
       "  ('116149', '17'),\n",
       "  ('94220', '13'),\n",
       "  ('91177', '9'),\n",
       "  ('103384', '11'),\n",
       "  ('89577', '25'),\n",
       "  ('122147', '15'),\n",
       "  ('123002', '17'),\n",
       "  ('91312', '13'),\n",
       "  ('92293', '13'),\n",
       "  ('95253', '9'),\n",
       "  ('113803', '15'),\n",
       "  ('39758', '13'),\n",
       "  ('98733', '17'),\n",
       "  ('108061', '9'),\n",
       "  ('89460', '9'),\n",
       "  ('113806', '13'),\n",
       "  ('27783', '21'),\n",
       "  ('8764', '9'),\n",
       "  ('110484', '7'),\n",
       "  ('98488', '11'),\n",
       "  ('100402', '15'),\n",
       "  ('86627', '9'),\n",
       "  ('102524', '9'),\n",
       "  ('110515', '19'),\n",
       "  ('98310', '11'),\n",
       "  ('84252', '19'),\n",
       "  ('122571', '19'),\n",
       "  ('105489', '9'),\n",
       "  ('105095', '21'),\n",
       "  ('110432', '17'),\n",
       "  ('14188', '21'),\n",
       "  ('114350', '9'),\n",
       "  ('92158', '11'),\n",
       "  ('120547', '25'),\n",
       "  ('118143', '15'),\n",
       "  ('115400', '9'),\n",
       "  ('98292', '13'),\n",
       "  ('26849', '13'),\n",
       "  ('121121', '19'),\n",
       "  ('106276', '19'),\n",
       "  ('115917', '19'),\n",
       "  ('107210', '11'),\n",
       "  ('61915', '11'),\n",
       "  ('105162', '15'),\n",
       "  ('106686', '13'),\n",
       "  ('95862', '9'),\n",
       "  ('87498', '15'),\n",
       "  ('95683', '11'),\n",
       "  ('19039', '9'),\n",
       "  ('121317', '9'),\n",
       "  ('63759', '11'),\n",
       "  ('108195', '17'),\n",
       "  ('31067', '11'),\n",
       "  ('24018', '11'),\n",
       "  ('20788', '11'),\n",
       "  ('6179', '11'),\n",
       "  ('120115', '15'),\n",
       "  ('115653', '13'),\n",
       "  ('88034', '15'),\n",
       "  ('95092', '19'),\n",
       "  ('123137', '13'),\n",
       "  ('122373', '19'),\n",
       "  ('114033', '9'),\n",
       "  ('113653', '13'),\n",
       "  ('94365', '13'),\n",
       "  ('59457', '11'),\n",
       "  ('20767', '21'),\n",
       "  ('15709', '5'),\n",
       "  ('94145', '5'),\n",
       "  ('110276', '17'),\n",
       "  ('6163', '7'),\n",
       "  ('118642', '19'),\n",
       "  ('79405', '7'),\n",
       "  ('120110', '17'),\n",
       "  ('87366', '11'),\n",
       "  ('118354', '11'),\n",
       "  ('832', '11'),\n",
       "  ('21898', '5'),\n",
       "  ('108435', '15'),\n",
       "  ('105547', '13'),\n",
       "  ('94634', '17'),\n",
       "  ('92147', '15'),\n",
       "  ('98246', '13'),\n",
       "  ('106027', '21'),\n",
       "  ('87742', '11'),\n",
       "  ('104300', '13'),\n",
       "  ('123050', '15'),\n",
       "  ('106747', '11'),\n",
       "  ('120371', '23'),\n",
       "  ('111571', '15'),\n",
       "  ('109098', '13'),\n",
       "  ('103387', '17'),\n",
       "  ('57999', '9'),\n",
       "  ('93892', '15'),\n",
       "  ('18231', '15')]]"
      ]
     },
     "execution_count": 23,
     "metadata": {},
     "output_type": "execute_result"
    }
   ],
   "source": [
    "sample['there is a dog.']['false']"
   ]
  },
  {
   "cell_type": "markdown",
   "id": "72be91bc",
   "metadata": {},
   "source": [
    "Saving as file:"
   ]
  },
  {
   "cell_type": "code",
   "execution_count": 24,
   "id": "ecf8d87a",
   "metadata": {},
   "outputs": [
    {
     "data": {
      "text/plain": [
       "dict_keys(['orig_data', 'set', 'dialogues'])"
      ]
     },
     "execution_count": 24,
     "metadata": {},
     "output_type": "execute_result"
    }
   ],
   "source": [
    "props_data.keys()"
   ]
  },
  {
   "cell_type": "code",
   "execution_count": 25,
   "id": "2974f69b",
   "metadata": {},
   "outputs": [],
   "source": [
    "balanced_props = {'orig_data': props_data['orig_data'], 'set': props_data['set'], \n",
    "                  'dialogues':{str(x): {} for x in range(len(props_data['dialogues']))}}\n",
    "\n",
    "for (d_id, p_id) in set(datapoints):\n",
    "    prop = props_data['dialogues'][d_id][p_id]\n",
    "    if d_id not in balanced_props['dialogues']:\n",
    "        balanced_props['dialogues'][d_id] = {}\n",
    "    balanced_props['dialogues'][d_id][p_id] = prop"
   ]
  },
  {
   "cell_type": "code",
   "execution_count": 26,
   "id": "baf8c678",
   "metadata": {},
   "outputs": [
    {
     "name": "stdout",
     "output_type": "stream",
     "text": [
      "344988\n"
     ]
    }
   ],
   "source": [
    "n_samples = len([1 for d in balanced_props['dialogues'].values() for p in d])\n",
    "print(n_samples)"
   ]
  },
  {
   "cell_type": "markdown",
   "id": "ace317cc",
   "metadata": {},
   "source": [
    "Number of training datapoints will be:"
   ]
  },
  {
   "cell_type": "code",
   "execution_count": 27,
   "id": "13c3d281",
   "metadata": {},
   "outputs": [
    {
     "data": {
      "text/plain": [
       "3794868"
      ]
     },
     "execution_count": 27,
     "metadata": {},
     "output_type": "execute_result"
    }
   ],
   "source": [
    "n_samples*11 # n_probes * 11 turns"
   ]
  },
  {
   "cell_type": "markdown",
   "id": "0c2197aa",
   "metadata": {},
   "source": [
    "Save the new training file:"
   ]
  },
  {
   "cell_type": "code",
   "execution_count": 28,
   "id": "81ca613d",
   "metadata": {},
   "outputs": [],
   "source": [
    "with open(Path(PATH_TO_PROBES, 'downsampled-balanced-propositions_train.json'), 'w') as f:\n",
    "    json.dump(balanced_props, f)"
   ]
  }
 ],
 "metadata": {
  "kernelspec": {
   "display_name": "Python 3",
   "language": "python",
   "name": "python3"
  },
  "language_info": {
   "codemirror_mode": {
    "name": "ipython",
    "version": 3
   },
   "file_extension": ".py",
   "mimetype": "text/x-python",
   "name": "python",
   "nbconvert_exporter": "python",
   "pygments_lexer": "ipython3",
   "version": "3.6.9"
  }
 },
 "nbformat": 4,
 "nbformat_minor": 5
}
